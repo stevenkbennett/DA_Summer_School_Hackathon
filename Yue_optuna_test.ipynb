{
 "cells": [
  {
   "cell_type": "markdown",
   "id": "under-number",
   "metadata": {},
   "source": [
    "# Yue - optuna test"
   ]
  },
  {
   "cell_type": "code",
   "execution_count": 1,
   "id": "viral-promotion",
   "metadata": {},
   "outputs": [],
   "source": [
    "import pandas as pd\n",
    "import numpy as np\n",
    "import matplotlib.pyplot as plt\n",
    "from sklearn import *\n"
   ]
  },
  {
   "cell_type": "code",
   "execution_count": 2,
   "id": "discrete-celtic",
   "metadata": {},
   "outputs": [],
   "source": [
    "train_descriptors = pd.read_csv(\"train_descriptors.csv\")\n",
    "train_mord3d = pd.read_csv(\"train_mord3d.csv\")\n",
    "train_morgan = pd.read_csv(\"train_morgan.csv\")\n",
    "train_rdk = pd.read_csv(\"train_rdk.csv\")\n",
    "\n",
    "train_crystals = pd.read_csv(\"train_crystals.csv\")\n",
    "train_distances = pd.read_csv(\"train_distances.csv\")\n",
    "train_centroid_distances = pd.read_csv(\"train_centroid_distances.csv\")"
   ]
  },
  {
   "cell_type": "code",
   "execution_count": 3,
   "id": "ahead-thumb",
   "metadata": {},
   "outputs": [],
   "source": [
    "test_descriptors = pd.read_csv(\"test_descriptors.csv\")\n",
    "test_mord3d = pd.read_csv(\"test_mord3d.csv\")\n",
    "test_morgan = pd.read_csv(\"test_morgan.csv\")\n",
    "test_rdk = pd.read_csv(\"test_rdk.csv\")"
   ]
  },
  {
   "cell_type": "markdown",
   "id": "separated-extent",
   "metadata": {},
   "source": [
    "## Preprocessing"
   ]
  },
  {
   "cell_type": "code",
   "execution_count": 4,
   "id": "blind-equipment",
   "metadata": {},
   "outputs": [
    {
     "data": {
      "text/plain": [
       "(13449, 1465)"
      ]
     },
     "execution_count": 4,
     "metadata": {},
     "output_type": "execute_result"
    }
   ],
   "source": [
    "# Are there any redundant columns (all values the same)? These wouldn't contribute to the model at all\n",
    "\n",
    "for col in train_descriptors.columns:\n",
    "    if len(train_descriptors[col].unique()) == 1:\n",
    "\n",
    "# If so, drop redundant columns:\n",
    "        train_descriptors.drop(col,inplace=True,axis=1)\n",
    "\n",
    "train_descriptors.shape # Drops to 1465 - ~150 redundant columns"
   ]
  },
  {
   "cell_type": "code",
   "execution_count": 5,
   "id": "desperate-extent",
   "metadata": {},
   "outputs": [
    {
     "data": {
      "text/plain": [
       "(13449, 891)"
      ]
     },
     "execution_count": 5,
     "metadata": {},
     "output_type": "execute_result"
    }
   ],
   "source": [
    "# Drop all columns with NA - Last 2 columns are InchiKey and SMILES\n",
    "\n",
    "train_descriptors_full = train_descriptors.iloc[:, 3:-2].dropna(axis= 1, how=\"any\")\n",
    "train_descriptors_full.shape # previously (13449, 891)"
   ]
  },
  {
   "cell_type": "code",
   "execution_count": 6,
   "id": "grand-brush",
   "metadata": {},
   "outputs": [
    {
     "data": {
      "text/plain": [
       "(3363, 891)"
      ]
     },
     "execution_count": 6,
     "metadata": {},
     "output_type": "execute_result"
    }
   ],
   "source": [
    "test_descriptors_full = test_descriptors[train_descriptors_full.columns]\n",
    "test_descriptors_full.shape"
   ]
  },
  {
   "cell_type": "code",
   "execution_count": 7,
   "id": "authorized-manner",
   "metadata": {},
   "outputs": [
    {
     "name": "stdout",
     "output_type": "stream",
     "text": [
      "(13449, 124) (3363, 124)\n"
     ]
    }
   ],
   "source": [
    "train_PCA = decomposition.PCA(n_components=.95)\n",
    "scaler_for_PCA = preprocessing.StandardScaler()\n",
    "train_descriptors_PCA = train_PCA.fit_transform(scaler_for_PCA.fit_transform(train_descriptors_full))\n",
    "test_descriptors_PCA = train_PCA.transform(scaler_for_PCA.transform(test_descriptors_full))\n",
    "print(train_descriptors_PCA.shape, test_descriptors_PCA.shape)"
   ]
  },
  {
   "cell_type": "code",
   "execution_count": 9,
   "id": "iraqi-mobility",
   "metadata": {},
   "outputs": [
    {
     "name": "stdout",
     "output_type": "stream",
     "text": [
      "10086 3363\n"
     ]
    }
   ],
   "source": [
    "# Split data into training and test sets\n",
    "target = \"calculated_density\"\n",
    "X_train, X_valid, y_train, y_valid = model_selection.train_test_split(train_descriptors_PCA, train_crystals[target], random_state = 0)\n",
    "print(len(X_train), len(X_valid))"
   ]
  },
  {
   "cell_type": "markdown",
   "id": "authentic-queens",
   "metadata": {},
   "source": [
    "## Simple hyperparameter tuning using optuna\n",
    "\n",
    "Optuna is a optimization library that can be easily used for sklearn hyperparameters.\n",
    "\n",
    "Most code based on this site: https://www.analyticsvidhya.com/blog/2020/11/hyperparameter-tuning-using-optuna/\n",
    "\n",
    "You define an objective function which runs a model and returns a value to be minimized.  \n",
    "Here, `objective()` is the function and it minimizes on the cross validation score.  \n",
    "The random forest model has 2 main parameters - number of trees (`n_estimators`) and tree depth (`max_depth`)\n",
    "\n"
   ]
  },
  {
   "cell_type": "code",
   "execution_count": 15,
   "id": "modern-scottish",
   "metadata": {},
   "outputs": [],
   "source": [
    "import optuna\n",
    "\n",
    "# set n_jobs = -1 when running models to use all processors\n",
    "\n",
    "def objective(trial):\n",
    "    n_estimators = trial.suggest_int('n_estimators', 2, 200)\n",
    "    max_depth = int(trial.suggest_loguniform('max_depth', 1, 32))\n",
    "    clf = ensemble.RandomForestRegressor(n_estimators=n_estimators, max_depth=max_depth, n_jobs=-1)\n",
    "    return model_selection.cross_val_score(clf, X_train, y_train, \n",
    "                                           n_jobs=-1, scoring=\"neg_mean_absolute_error\", cv=3).mean()"
   ]
  },
  {
   "cell_type": "markdown",
   "id": "unexpected-corrections",
   "metadata": {},
   "source": [
    "Once the objective function is created, optuna optimizes within 'studies':"
   ]
  },
  {
   "cell_type": "code",
   "execution_count": 16,
   "id": "herbal-surgeon",
   "metadata": {},
   "outputs": [
    {
     "name": "stderr",
     "output_type": "stream",
     "text": [
      "\u001b[32m[I 2021-08-12 10:28:10,744]\u001b[0m A new study created in memory with name: no-name-8b0d9a6f-52d4-4071-a6b9-fad7e503d994\u001b[0m\n",
      "\u001b[32m[I 2021-08-12 10:28:19,084]\u001b[0m Trial 0 finished with value: -0.13118472607997464 and parameters: {'n_estimators': 170, 'max_depth': 3.5174491980808376}. Best is trial 0 with value: -0.13118472607997464.\u001b[0m\n",
      "\u001b[32m[I 2021-08-12 10:28:39,438]\u001b[0m Trial 1 finished with value: -0.06325575097796378 and parameters: {'n_estimators': 155, 'max_depth': 12.933442358650487}. Best is trial 1 with value: -0.06325575097796378.\u001b[0m\n",
      "\u001b[32m[I 2021-08-12 10:28:43,926]\u001b[0m Trial 2 finished with value: -0.15939783425454576 and parameters: {'n_estimators': 119, 'max_depth': 2.734731569780339}. Best is trial 1 with value: -0.06325575097796378.\u001b[0m\n",
      "\u001b[32m[I 2021-08-12 10:28:56,512]\u001b[0m Trial 3 finished with value: -0.06477716952424113 and parameters: {'n_estimators': 98, 'max_depth': 11.328574319047933}. Best is trial 1 with value: -0.06325575097796378.\u001b[0m\n",
      "\u001b[32m[I 2021-08-12 10:29:15,138]\u001b[0m Trial 4 finished with value: -0.0733731463015313 and parameters: {'n_estimators': 200, 'max_depth': 8.06491259417523}. Best is trial 1 with value: -0.06325575097796378.\u001b[0m\n",
      "\u001b[32m[I 2021-08-12 10:29:40,248]\u001b[0m Trial 5 finished with value: -0.06319433783082302 and parameters: {'n_estimators': 196, 'max_depth': 12.287690046019284}. Best is trial 5 with value: -0.06319433783082302.\u001b[0m\n",
      "\u001b[32m[I 2021-08-12 10:29:42,071]\u001b[0m Trial 6 finished with value: -0.18837102326768365 and parameters: {'n_estimators': 94, 'max_depth': 1.2021572934709497}. Best is trial 5 with value: -0.06319433783082302.\u001b[0m\n",
      "\u001b[32m[I 2021-08-12 10:30:02,273]\u001b[0m Trial 7 finished with value: -0.06142121957637372 and parameters: {'n_estimators': 139, 'max_depth': 16.278163526947946}. Best is trial 7 with value: -0.06142121957637372.\u001b[0m\n",
      "\u001b[32m[I 2021-08-12 10:30:05,236]\u001b[0m Trial 8 finished with value: -0.06500717097879154 and parameters: {'n_estimators': 18, 'max_depth': 14.48661817041077}. Best is trial 7 with value: -0.06142121957637372.\u001b[0m\n",
      "\u001b[32m[I 2021-08-12 10:30:08,252]\u001b[0m Trial 9 finished with value: -0.18893276954668914 and parameters: {'n_estimators': 183, 'max_depth': 1.507798681507505}. Best is trial 7 with value: -0.06142121957637372.\u001b[0m\n",
      "\u001b[32m[I 2021-08-12 10:30:17,319]\u001b[0m Trial 10 finished with value: -0.0622049352344673 and parameters: {'n_estimators': 57, 'max_depth': 28.67003481339737}. Best is trial 7 with value: -0.06142121957637372.\u001b[0m\n",
      "\u001b[32m[I 2021-08-12 10:30:25,491]\u001b[0m Trial 11 finished with value: -0.06192693378082429 and parameters: {'n_estimators': 50, 'max_depth': 29.66370648699038}. Best is trial 7 with value: -0.06142121957637372.\u001b[0m\n",
      "\u001b[32m[I 2021-08-12 10:30:34,197]\u001b[0m Trial 12 finished with value: -0.062087125100364994 and parameters: {'n_estimators': 54, 'max_depth': 31.540466468717945}. Best is trial 7 with value: -0.06142121957637372.\u001b[0m\n",
      "\u001b[32m[I 2021-08-12 10:30:54,758]\u001b[0m Trial 13 finished with value: -0.061523963875212785 and parameters: {'n_estimators': 134, 'max_depth': 20.54214658143693}. Best is trial 7 with value: -0.06142121957637372.\u001b[0m\n",
      "\u001b[32m[I 2021-08-12 10:31:16,168]\u001b[0m Trial 14 finished with value: -0.061467826802519415 and parameters: {'n_estimators': 138, 'max_depth': 20.048958611760256}. Best is trial 7 with value: -0.06142121957637372.\u001b[0m\n",
      "\u001b[32m[I 2021-08-12 10:31:25,170]\u001b[0m Trial 15 finished with value: -0.09652393803516211 and parameters: {'n_estimators': 136, 'max_depth': 5.232152020750818}. Best is trial 7 with value: -0.06142121957637372.\u001b[0m\n",
      "\u001b[32m[I 2021-08-12 10:31:36,939]\u001b[0m Trial 16 finished with value: -0.08621949072185237 and parameters: {'n_estimators': 154, 'max_depth': 6.616043037231413}. Best is trial 7 with value: -0.06142121957637372.\u001b[0m\n",
      "\u001b[32m[I 2021-08-12 10:31:50,051]\u001b[0m Trial 17 finished with value: -0.06186803265823446 and parameters: {'n_estimators': 83, 'max_depth': 19.735356655315385}. Best is trial 7 with value: -0.06142121957637372.\u001b[0m\n",
      "\u001b[32m[I 2021-08-12 10:32:09,579]\u001b[0m Trial 18 finished with value: -0.06130727866861833 and parameters: {'n_estimators': 127, 'max_depth': 19.1391412572117}. Best is trial 18 with value: -0.06130727866861833.\u001b[0m\n",
      "\u001b[32m[I 2021-08-12 10:32:21,519]\u001b[0m Trial 19 finished with value: -0.06950334280361799 and parameters: {'n_estimators': 114, 'max_depth': 9.353298162202998}. Best is trial 18 with value: -0.06130727866861833.\u001b[0m\n",
      "\u001b[32m[I 2021-08-12 10:32:25,689]\u001b[0m Trial 20 finished with value: -0.1099273488849503 and parameters: {'n_estimators': 74, 'max_depth': 4.445556187535792}. Best is trial 18 with value: -0.06130727866861833.\u001b[0m\n",
      "\u001b[32m[I 2021-08-12 10:32:46,732]\u001b[0m Trial 21 finished with value: -0.06143290823712435 and parameters: {'n_estimators': 138, 'max_depth': 19.445721267539263}. Best is trial 18 with value: -0.06130727866861833.\u001b[0m\n",
      "\u001b[32m[I 2021-08-12 10:33:10,478]\u001b[0m Trial 22 finished with value: -0.061496074797567545 and parameters: {'n_estimators': 157, 'max_depth': 17.346093606947456}. Best is trial 18 with value: -0.06130727866861833.\u001b[0m\n",
      "\u001b[32m[I 2021-08-12 10:33:29,323]\u001b[0m Trial 23 finished with value: -0.061264482462936885 and parameters: {'n_estimators': 119, 'max_depth': 23.31662967088997}. Best is trial 23 with value: -0.061264482462936885.\u001b[0m\n",
      "\u001b[32m[I 2021-08-12 10:33:46,931]\u001b[0m Trial 24 finished with value: -0.06149315058542156 and parameters: {'n_estimators': 114, 'max_depth': 24.588233569046295}. Best is trial 23 with value: -0.061264482462936885.\u001b[0m\n",
      "\u001b[32m[I 2021-08-12 10:33:58,314]\u001b[0m Trial 25 finished with value: -0.07353717219278956 and parameters: {'n_estimators': 118, 'max_depth': 8.946628365372385}. Best is trial 23 with value: -0.061264482462936885.\u001b[0m\n",
      "\u001b[32m[I 2021-08-12 10:34:21,207]\u001b[0m Trial 26 finished with value: -0.06244755175508365 and parameters: {'n_estimators': 171, 'max_depth': 13.939401866578004}. Best is trial 23 with value: -0.061264482462936885.\u001b[0m\n",
      "\u001b[32m[I 2021-08-12 10:34:40,619]\u001b[0m Trial 27 finished with value: -0.06154950690083346 and parameters: {'n_estimators': 127, 'max_depth': 23.090117619591005}. Best is trial 23 with value: -0.061264482462936885.\u001b[0m\n",
      "\u001b[32m[I 2021-08-12 10:34:44,079]\u001b[0m Trial 28 finished with value: -0.15850360111432496 and parameters: {'n_estimators': 104, 'max_depth': 2.152657130771295}. Best is trial 23 with value: -0.061264482462936885.\u001b[0m\n",
      "\u001b[32m[I 2021-08-12 10:35:05,702]\u001b[0m Trial 29 finished with value: -0.06135437608793739 and parameters: {'n_estimators': 147, 'max_depth': 16.085188109697793}. Best is trial 23 with value: -0.061264482462936885.\u001b[0m\n",
      "\u001b[32m[I 2021-08-12 10:35:18,524]\u001b[0m Trial 30 finished with value: -0.08609414054539 and parameters: {'n_estimators': 168, 'max_depth': 6.88484177616154}. Best is trial 23 with value: -0.061264482462936885.\u001b[0m\n",
      "\u001b[32m[I 2021-08-12 10:35:40,475]\u001b[0m Trial 31 finished with value: -0.06167397107226389 and parameters: {'n_estimators': 147, 'max_depth': 16.865784301423087}. Best is trial 23 with value: -0.061264482462936885.\u001b[0m\n",
      "\u001b[32m[I 2021-08-12 10:35:59,791]\u001b[0m Trial 32 finished with value: -0.06638677243180106 and parameters: {'n_estimators': 170, 'max_depth': 10.614832052257773}. Best is trial 23 with value: -0.061264482462936885.\u001b[0m\n",
      "\u001b[32m[I 2021-08-12 10:36:20,618]\u001b[0m Trial 33 finished with value: -0.06195014019458214 and parameters: {'n_estimators': 151, 'max_depth': 14.877690329061013}. Best is trial 23 with value: -0.061264482462936885.\u001b[0m\n",
      "\u001b[32m[I 2021-08-12 10:36:40,402]\u001b[0m Trial 34 finished with value: -0.061569072627897854 and parameters: {'n_estimators': 124, 'max_depth': 25.950887138491588}. Best is trial 23 with value: -0.061264482462936885.\u001b[0m\n",
      "\u001b[32m[I 2021-08-12 10:36:53,250]\u001b[0m Trial 35 finished with value: -0.06495035248546209 and parameters: {'n_estimators': 104, 'max_depth': 11.449681878883304}. Best is trial 23 with value: -0.061264482462936885.\u001b[0m\n",
      "\u001b[32m[I 2021-08-12 10:37:05,969]\u001b[0m Trial 36 finished with value: -0.06186456831667395 and parameters: {'n_estimators': 84, 'max_depth': 16.11694633102145}. Best is trial 23 with value: -0.061264482462936885.\u001b[0m\n",
      "\u001b[32m[I 2021-08-12 10:37:13,912]\u001b[0m Trial 37 finished with value: -0.13083178042707677 and parameters: {'n_estimators': 184, 'max_depth': 3.1067729225683083}. Best is trial 23 with value: -0.061264482462936885.\u001b[0m\n",
      "\u001b[32m[I 2021-08-12 10:37:36,524]\u001b[0m Trial 38 finished with value: -0.061318952062225235 and parameters: {'n_estimators': 144, 'max_depth': 23.260731957986728}. Best is trial 23 with value: -0.061264482462936885.\u001b[0m\n",
      "\u001b[32m[I 2021-08-12 10:38:02,027]\u001b[0m Trial 39 finished with value: -0.06119751345201333 and parameters: {'n_estimators': 163, 'max_depth': 24.548325273791434}. Best is trial 39 with value: -0.06119751345201333.\u001b[0m\n",
      "\u001b[32m[I 2021-08-12 10:38:27,544]\u001b[0m Trial 40 finished with value: -0.06141593518568611 and parameters: {'n_estimators': 163, 'max_depth': 23.60578398433369}. Best is trial 39 with value: -0.06119751345201333.\u001b[0m\n",
      "\u001b[32m[I 2021-08-12 10:38:50,555]\u001b[0m Trial 41 finished with value: -0.061423786754408925 and parameters: {'n_estimators': 147, 'max_depth': 25.900505232379604}. Best is trial 39 with value: -0.06119751345201333.\u001b[0m\n",
      "\u001b[32m[I 2021-08-12 10:39:14,554]\u001b[0m Trial 42 finished with value: -0.06237005176504543 and parameters: {'n_estimators': 182, 'max_depth': 13.328974783995447}. Best is trial 39 with value: -0.06119751345201333.\u001b[0m\n",
      "\u001b[32m[I 2021-08-12 10:39:33,771]\u001b[0m Trial 43 finished with value: -0.06143335447266864 and parameters: {'n_estimators': 124, 'max_depth': 22.07333984021028}. Best is trial 39 with value: -0.06119751345201333.\u001b[0m\n",
      "\u001b[32m[I 2021-08-12 10:39:56,648]\u001b[0m Trial 44 finished with value: -0.06154896229979118 and parameters: {'n_estimators': 146, 'max_depth': 31.94732463214078}. Best is trial 39 with value: -0.06119751345201333.\u001b[0m\n",
      "\u001b[32m[I 2021-08-12 10:40:20,497]\u001b[0m Trial 45 finished with value: -0.06131113812828661 and parameters: {'n_estimators': 161, 'max_depth': 17.37784120464349}. Best is trial 39 with value: -0.06119751345201333.\u001b[0m\n",
      "\u001b[32m[I 2021-08-12 10:40:49,870]\u001b[0m Trial 46 finished with value: -0.06132702879773393 and parameters: {'n_estimators': 190, 'max_depth': 28.384322367072492}. Best is trial 39 with value: -0.06119751345201333.\u001b[0m\n",
      "\u001b[32m[I 2021-08-12 10:41:16,590]\u001b[0m Trial 47 finished with value: -0.061318273988611026 and parameters: {'n_estimators': 176, 'max_depth': 18.502644733210833}. Best is trial 39 with value: -0.06119751345201333.\u001b[0m\n",
      "\u001b[32m[I 2021-08-12 10:41:43,205]\u001b[0m Trial 48 finished with value: -0.0611232499375928 and parameters: {'n_estimators': 176, 'max_depth': 18.992858375455288}. Best is trial 48 with value: -0.0611232499375928.\u001b[0m\n",
      "\u001b[32m[I 2021-08-12 10:42:08,436]\u001b[0m Trial 49 finished with value: -0.06346055689967409 and parameters: {'n_estimators': 198, 'max_depth': 12.320501737823964}. Best is trial 48 with value: -0.0611232499375928.\u001b[0m\n",
      "\u001b[32m[I 2021-08-12 10:42:11,191]\u001b[0m Trial 50 finished with value: -0.18907327061836732 and parameters: {'n_estimators': 161, 'max_depth': 1.068737554337405}. Best is trial 48 with value: -0.0611232499375928.\u001b[0m\n",
      "\u001b[32m[I 2021-08-12 10:42:37,858]\u001b[0m Trial 51 finished with value: -0.06131336358515014 and parameters: {'n_estimators': 177, 'max_depth': 18.06207576823034}. Best is trial 48 with value: -0.0611232499375928.\u001b[0m\n",
      "\u001b[32m[I 2021-08-12 10:43:05,418]\u001b[0m Trial 52 finished with value: -0.06142103024950529 and parameters: {'n_estimators': 180, 'max_depth': 20.58710948204271}. Best is trial 48 with value: -0.0611232499375928.\u001b[0m\n",
      "\u001b[32m[I 2021-08-12 10:43:26,889]\u001b[0m Trial 53 finished with value: -0.0664729714444875 and parameters: {'n_estimators': 188, 'max_depth': 10.373613261899605}. Best is trial 48 with value: -0.0611232499375928.\u001b[0m\n",
      "\u001b[32m[I 2021-08-12 10:43:28,592]\u001b[0m Trial 54 finished with value: -0.06826977610195815 and parameters: {'n_estimators': 8, 'max_depth': 27.185466102619575}. Best is trial 48 with value: -0.0611232499375928.\u001b[0m\n",
      "\u001b[32m[I 2021-08-12 10:43:50,901]\u001b[0m Trial 55 finished with value: -0.062151303519331035 and parameters: {'n_estimators': 163, 'max_depth': 14.164119623520776}. Best is trial 48 with value: -0.0611232499375928.\u001b[0m\n",
      "\u001b[32m[I 2021-08-12 10:44:17,734]\u001b[0m Trial 56 finished with value: -0.061445435792371224 and parameters: {'n_estimators': 176, 'max_depth': 18.38692802535268}. Best is trial 48 with value: -0.0611232499375928.\u001b[0m\n",
      "\u001b[32m[I 2021-08-12 10:44:37,758]\u001b[0m Trial 57 finished with value: -0.06120092715507721 and parameters: {'n_estimators': 130, 'max_depth': 21.20690371009591}. Best is trial 48 with value: -0.0611232499375928.\u001b[0m\n",
      "\u001b[32m[I 2021-08-12 10:44:57,436]\u001b[0m Trial 58 finished with value: -0.0614055473779222 and parameters: {'n_estimators': 130, 'max_depth': 20.7984585719935}. Best is trial 48 with value: -0.0611232499375928.\u001b[0m\n",
      "\u001b[32m[I 2021-08-12 10:45:15,394]\u001b[0m Trial 59 finished with value: -0.06159258901192499 and parameters: {'n_estimators': 113, 'max_depth': 28.57883819925379}. Best is trial 48 with value: -0.0611232499375928.\u001b[0m\n",
      "\u001b[32m[I 2021-08-12 10:45:19,741]\u001b[0m Trial 60 finished with value: -0.1309730026752555 and parameters: {'n_estimators': 94, 'max_depth': 3.995544314732925}. Best is trial 48 with value: -0.0611232499375928.\u001b[0m\n",
      "\u001b[32m[I 2021-08-12 10:45:44,107]\u001b[0m Trial 61 finished with value: -0.06131973567142144 and parameters: {'n_estimators': 157, 'max_depth': 18.053149962494064}. Best is trial 48 with value: -0.0611232499375928.\u001b[0m\n",
      "\u001b[32m[I 2021-08-12 10:46:03,895]\u001b[0m Trial 62 finished with value: -0.06155217651118553 and parameters: {'n_estimators': 134, 'max_depth': 15.624475328079074}. Best is trial 48 with value: -0.0611232499375928.\u001b[0m\n",
      "\u001b[32m[I 2021-08-12 10:46:34,205]\u001b[0m Trial 63 finished with value: -0.06104355670717759 and parameters: {'n_estimators': 193, 'max_depth': 21.294523745568807}. Best is trial 63 with value: -0.06104355670717759.\u001b[0m\n",
      "\u001b[32m[I 2021-08-12 10:47:03,799]\u001b[0m Trial 64 finished with value: -0.06112904860392065 and parameters: {'n_estimators': 193, 'max_depth': 22.032374663949735}. Best is trial 63 with value: -0.06104355670717759.\u001b[0m\n",
      "\u001b[32m[I 2021-08-12 10:47:32,964]\u001b[0m Trial 65 finished with value: -0.06134231801613458 and parameters: {'n_estimators': 192, 'max_depth': 22.35483011630861}. Best is trial 63 with value: -0.06104355670717759.\u001b[0m\n",
      "\u001b[32m[I 2021-08-12 10:48:03,850]\u001b[0m Trial 66 finished with value: -0.06119453322033409 and parameters: {'n_estimators': 199, 'max_depth': 24.30262161707333}. Best is trial 63 with value: -0.06104355670717759.\u001b[0m\n",
      "\u001b[32m[I 2021-08-12 10:48:33,487]\u001b[0m Trial 67 finished with value: -0.06145634831828123 and parameters: {'n_estimators': 192, 'max_depth': 31.710763590423433}. Best is trial 63 with value: -0.06104355670717759.\u001b[0m\n",
      "\u001b[32m[I 2021-08-12 10:49:03,745]\u001b[0m Trial 68 finished with value: -0.06124348892234238 and parameters: {'n_estimators': 198, 'max_depth': 26.2982638187955}. Best is trial 63 with value: -0.06104355670717759.\u001b[0m\n",
      "\u001b[32m[I 2021-08-12 10:49:34,055]\u001b[0m Trial 69 finished with value: -0.0613107207394431 and parameters: {'n_estimators': 199, 'max_depth': 25.68873047828118}. Best is trial 63 with value: -0.06104355670717759.\u001b[0m\n",
      "\u001b[32m[I 2021-08-12 10:50:02,654]\u001b[0m Trial 70 finished with value: -0.061059738140438045 and parameters: {'n_estimators': 187, 'max_depth': 28.829924246920807}. Best is trial 63 with value: -0.06104355670717759.\u001b[0m\n",
      "\u001b[32m[I 2021-08-12 10:50:33,236]\u001b[0m Trial 71 finished with value: -0.061187191256483996 and parameters: {'n_estimators': 200, 'max_depth': 28.16213944164105}. Best is trial 63 with value: -0.06104355670717759.\u001b[0m\n",
      "\u001b[32m[I 2021-08-12 10:51:02,423]\u001b[0m Trial 72 finished with value: -0.06135334674508112 and parameters: {'n_estimators': 187, 'max_depth': 29.32624654112424}. Best is trial 63 with value: -0.06104355670717759.\u001b[0m\n",
      "\u001b[32m[I 2021-08-12 10:51:32,091]\u001b[0m Trial 73 finished with value: -0.06135519462702116 and parameters: {'n_estimators': 193, 'max_depth': 21.19295540455036}. Best is trial 63 with value: -0.06104355670717759.\u001b[0m\n",
      "\u001b[32m[I 2021-08-12 10:51:37,428]\u001b[0m Trial 74 finished with value: -0.1587943538883235 and parameters: {'n_estimators': 171, 'max_depth': 2.187907830908161}. Best is trial 63 with value: -0.06104355670717759.\u001b[0m\n",
      "\u001b[32m[I 2021-08-12 10:52:06,150]\u001b[0m Trial 75 finished with value: -0.06101062441540366 and parameters: {'n_estimators': 184, 'max_depth': 24.341007652332436}. Best is trial 75 with value: -0.06101062441540366.\u001b[0m\n",
      "\u001b[32m[I 2021-08-12 10:52:35,151]\u001b[0m Trial 76 finished with value: -0.06128071720723253 and parameters: {'n_estimators': 182, 'max_depth': 24.674764742481102}. Best is trial 75 with value: -0.06101062441540366.\u001b[0m\n",
      "\u001b[32m[I 2021-08-12 10:53:07,106]\u001b[0m Trial 77 finished with value: -0.061254997375558416 and parameters: {'n_estimators': 200, 'max_depth': 27.85349271657254}. Best is trial 75 with value: -0.06101062441540366.\u001b[0m\n",
      "\u001b[32m[I 2021-08-12 10:53:36,088]\u001b[0m Trial 78 finished with value: -0.06127226976618785 and parameters: {'n_estimators': 187, 'max_depth': 30.375355517691997}. Best is trial 75 with value: -0.06101062441540366.\u001b[0m\n",
      "\u001b[32m[I 2021-08-12 10:53:42,855]\u001b[0m Trial 79 finished with value: -0.06278063612338569 and parameters: {'n_estimators': 42, 'max_depth': 24.050551377501122}. Best is trial 75 with value: -0.06101062441540366.\u001b[0m\n",
      "\u001b[32m[I 2021-08-12 10:54:12,409]\u001b[0m Trial 80 finished with value: -0.06124152017653479 and parameters: {'n_estimators': 194, 'max_depth': 19.945435543535353}. Best is trial 75 with value: -0.06101062441540366.\u001b[0m\n",
      "\u001b[32m[I 2021-08-12 10:54:39,512]\u001b[0m Trial 81 finished with value: -0.06114922549836008 and parameters: {'n_estimators': 175, 'max_depth': 21.93760435727162}. Best is trial 75 with value: -0.06101062441540366.\u001b[0m\n",
      "\u001b[32m[I 2021-08-12 10:55:07,030]\u001b[0m Trial 82 finished with value: -0.061417351464841 and parameters: {'n_estimators': 174, 'max_depth': 23.521539917841405}. Best is trial 75 with value: -0.06101062441540366.\u001b[0m\n",
      "\u001b[32m[I 2021-08-12 10:55:33,334]\u001b[0m Trial 83 finished with value: -0.06112814988561003 and parameters: {'n_estimators': 168, 'max_depth': 26.04887186726183}. Best is trial 75 with value: -0.06101062441540366.\u001b[0m\n",
      "\u001b[32m[I 2021-08-12 10:56:01,720]\u001b[0m Trial 84 finished with value: -0.06095295831955927 and parameters: {'n_estimators': 185, 'max_depth': 27.45628880326542}. Best is trial 84 with value: -0.06095295831955927.\u001b[0m\n",
      "\u001b[32m[I 2021-08-12 10:56:30,389]\u001b[0m Trial 85 finished with value: -0.061297732019511074 and parameters: {'n_estimators': 186, 'max_depth': 26.10422599693942}. Best is trial 84 with value: -0.06095295831955927.\u001b[0m\n",
      "\u001b[32m[I 2021-08-12 10:56:56,170]\u001b[0m Trial 86 finished with value: -0.06138415591375601 and parameters: {'n_estimators': 167, 'max_depth': 29.8931891436091}. Best is trial 84 with value: -0.06095295831955927.\u001b[0m\n",
      "\u001b[32m[I 2021-08-12 10:57:24,044]\u001b[0m Trial 87 finished with value: -0.06124308800938113 and parameters: {'n_estimators': 182, 'max_depth': 22.172851368456268}. Best is trial 84 with value: -0.06095295831955927.\u001b[0m\n",
      "\u001b[32m[I 2021-08-12 10:57:51,357]\u001b[0m Trial 88 finished with value: -0.061267223739147635 and parameters: {'n_estimators': 178, 'max_depth': 19.734263721198822}. Best is trial 84 with value: -0.06095295831955927.\u001b[0m\n",
      "\u001b[32m[I 2021-08-12 10:58:02,780]\u001b[0m Trial 89 finished with value: -0.09634318039595584 and parameters: {'n_estimators': 172, 'max_depth': 5.393613001414895}. Best is trial 84 with value: -0.06095295831955927.\u001b[0m\n",
      "\u001b[32m[I 2021-08-12 10:58:32,054]\u001b[0m Trial 90 finished with value: -0.0611689137970792 and parameters: {'n_estimators': 190, 'max_depth': 31.94790336265518}. Best is trial 84 with value: -0.06095295831955927.\u001b[0m\n",
      "\u001b[32m[I 2021-08-12 10:59:01,920]\u001b[0m Trial 91 finished with value: -0.06117527533404902 and parameters: {'n_estimators': 193, 'max_depth': 27.499652282538207}. Best is trial 84 with value: -0.06095295831955927.\u001b[0m\n",
      "\u001b[32m[I 2021-08-12 10:59:31,191]\u001b[0m Trial 92 finished with value: -0.061330197220677125 and parameters: {'n_estimators': 190, 'max_depth': 31.340449642219777}. Best is trial 84 with value: -0.06095295831955927.\u001b[0m\n",
      "\u001b[32m[I 2021-08-12 10:59:57,899]\u001b[0m Trial 93 finished with value: -0.06118942343859751 and parameters: {'n_estimators': 167, 'max_depth': 27.16434141296257}. Best is trial 84 with value: -0.06095295831955927.\u001b[0m\n",
      "\u001b[32m[I 2021-08-12 11:00:26,821]\u001b[0m Trial 94 finished with value: -0.06142288536609065 and parameters: {'n_estimators': 185, 'max_depth': 21.93954205903983}. Best is trial 84 with value: -0.06095295831955927.\u001b[0m\n",
      "\u001b[32m[I 2021-08-12 11:00:41,685]\u001b[0m Trial 95 finished with value: -0.08629006329801399 and parameters: {'n_estimators': 179, 'max_depth': 6.589675300786444}. Best is trial 84 with value: -0.06095295831955927.\u001b[0m\n",
      "\u001b[32m[I 2021-08-12 11:01:09,551]\u001b[0m Trial 96 finished with value: -0.0615209617389517 and parameters: {'n_estimators': 191, 'max_depth': 16.509592102544165}. Best is trial 84 with value: -0.06095295831955927.\u001b[0m\n",
      "\u001b[32m[I 2021-08-12 11:01:40,129]\u001b[0m Trial 97 finished with value: -0.06114319322498595 and parameters: {'n_estimators': 196, 'max_depth': 25.458310667640717}. Best is trial 84 with value: -0.06095295831955927.\u001b[0m\n",
      "\u001b[32m[I 2021-08-12 11:02:09,554]\u001b[0m Trial 98 finished with value: -0.06124965472707866 and parameters: {'n_estimators': 195, 'max_depth': 19.33129563868133}. Best is trial 84 with value: -0.06095295831955927.\u001b[0m\n",
      "\u001b[32m[I 2021-08-12 11:02:38,217]\u001b[0m Trial 99 finished with value: -0.06100401536873795 and parameters: {'n_estimators': 183, 'max_depth': 25.566656606952506}. Best is trial 84 with value: -0.06095295831955927.\u001b[0m\n"
     ]
    },
    {
     "name": "stdout",
     "output_type": "stream",
     "text": [
      "Wall time: 34min 27s\n"
     ]
    }
   ],
   "source": [
    "%%time\n",
    "study = optuna.create_study(direction='maximize')\n",
    "study.optimize(objective, n_trials=100)"
   ]
  },
  {
   "cell_type": "markdown",
   "id": "sharing-processing",
   "metadata": {},
   "source": [
    "Can use direct visualization (install plotly library) or write figures to image. Note: Also need to install [kaleido](https://github.com/optuna/optuna/issues/602) to export plotly figures\n"
   ]
  },
  {
   "cell_type": "code",
   "execution_count": 22,
   "id": "increasing-brand",
   "metadata": {},
   "outputs": [
    {
     "data": {
      "application/vnd.plotly.v1+json": {
       "config": {
        "plotlyServerURL": "https://plot.ly"
       },
       "data": [
        {
         "mode": "markers",
         "name": "Objective Value",
         "type": "scatter",
         "x": [
          0,
          1,
          2,
          3,
          4,
          5,
          6,
          7,
          8,
          9,
          10,
          11,
          12,
          13,
          14,
          15,
          16,
          17,
          18,
          19,
          20,
          21,
          22,
          23,
          24,
          25,
          26,
          27,
          28,
          29,
          30,
          31,
          32,
          33,
          34,
          35,
          36,
          37,
          38,
          39,
          40,
          41,
          42,
          43,
          44,
          45,
          46,
          47,
          48,
          49,
          50,
          51,
          52,
          53,
          54,
          55,
          56,
          57,
          58,
          59,
          60,
          61,
          62,
          63,
          64,
          65,
          66,
          67,
          68,
          69,
          70,
          71,
          72,
          73,
          74,
          75,
          76,
          77,
          78,
          79,
          80,
          81,
          82,
          83,
          84,
          85,
          86,
          87,
          88,
          89,
          90,
          91,
          92,
          93,
          94,
          95,
          96,
          97,
          98,
          99
         ],
         "y": [
          -0.13118472607997464,
          -0.06325575097796378,
          -0.15939783425454576,
          -0.06477716952424113,
          -0.0733731463015313,
          -0.06319433783082302,
          -0.18837102326768365,
          -0.06142121957637372,
          -0.06500717097879154,
          -0.18893276954668914,
          -0.0622049352344673,
          -0.06192693378082429,
          -0.062087125100364994,
          -0.061523963875212785,
          -0.061467826802519415,
          -0.09652393803516211,
          -0.08621949072185237,
          -0.06186803265823446,
          -0.06130727866861833,
          -0.06950334280361799,
          -0.1099273488849503,
          -0.06143290823712435,
          -0.061496074797567545,
          -0.061264482462936885,
          -0.06149315058542156,
          -0.07353717219278956,
          -0.06244755175508365,
          -0.06154950690083346,
          -0.15850360111432496,
          -0.06135437608793739,
          -0.08609414054539,
          -0.06167397107226389,
          -0.06638677243180106,
          -0.06195014019458214,
          -0.061569072627897854,
          -0.06495035248546209,
          -0.06186456831667395,
          -0.13083178042707677,
          -0.061318952062225235,
          -0.06119751345201333,
          -0.06141593518568611,
          -0.061423786754408925,
          -0.06237005176504543,
          -0.06143335447266864,
          -0.06154896229979118,
          -0.06131113812828661,
          -0.06132702879773393,
          -0.061318273988611026,
          -0.0611232499375928,
          -0.06346055689967409,
          -0.18907327061836732,
          -0.06131336358515014,
          -0.06142103024950529,
          -0.0664729714444875,
          -0.06826977610195815,
          -0.062151303519331035,
          -0.061445435792371224,
          -0.06120092715507721,
          -0.0614055473779222,
          -0.06159258901192499,
          -0.1309730026752555,
          -0.06131973567142144,
          -0.06155217651118553,
          -0.06104355670717759,
          -0.06112904860392065,
          -0.06134231801613458,
          -0.06119453322033409,
          -0.06145634831828123,
          -0.06124348892234238,
          -0.0613107207394431,
          -0.061059738140438045,
          -0.061187191256483996,
          -0.06135334674508112,
          -0.06135519462702116,
          -0.1587943538883235,
          -0.06101062441540366,
          -0.06128071720723253,
          -0.061254997375558416,
          -0.06127226976618785,
          -0.06278063612338569,
          -0.06124152017653479,
          -0.06114922549836008,
          -0.061417351464841,
          -0.06112814988561003,
          -0.06095295831955927,
          -0.061297732019511074,
          -0.06138415591375601,
          -0.06124308800938113,
          -0.061267223739147635,
          -0.09634318039595584,
          -0.0611689137970792,
          -0.06117527533404902,
          -0.061330197220677125,
          -0.06118942343859751,
          -0.06142288536609065,
          -0.08629006329801399,
          -0.0615209617389517,
          -0.06114319322498595,
          -0.06124965472707866,
          -0.06100401536873795
         ]
        },
        {
         "name": "Best Value",
         "type": "scatter",
         "x": [
          0,
          1,
          2,
          3,
          4,
          5,
          6,
          7,
          8,
          9,
          10,
          11,
          12,
          13,
          14,
          15,
          16,
          17,
          18,
          19,
          20,
          21,
          22,
          23,
          24,
          25,
          26,
          27,
          28,
          29,
          30,
          31,
          32,
          33,
          34,
          35,
          36,
          37,
          38,
          39,
          40,
          41,
          42,
          43,
          44,
          45,
          46,
          47,
          48,
          49,
          50,
          51,
          52,
          53,
          54,
          55,
          56,
          57,
          58,
          59,
          60,
          61,
          62,
          63,
          64,
          65,
          66,
          67,
          68,
          69,
          70,
          71,
          72,
          73,
          74,
          75,
          76,
          77,
          78,
          79,
          80,
          81,
          82,
          83,
          84,
          85,
          86,
          87,
          88,
          89,
          90,
          91,
          92,
          93,
          94,
          95,
          96,
          97,
          98,
          99
         ],
         "y": [
          -0.13118472607997464,
          -0.06325575097796378,
          -0.06325575097796378,
          -0.06325575097796378,
          -0.06325575097796378,
          -0.06319433783082302,
          -0.06319433783082302,
          -0.06142121957637372,
          -0.06142121957637372,
          -0.06142121957637372,
          -0.06142121957637372,
          -0.06142121957637372,
          -0.06142121957637372,
          -0.06142121957637372,
          -0.06142121957637372,
          -0.06142121957637372,
          -0.06142121957637372,
          -0.06142121957637372,
          -0.06130727866861833,
          -0.06130727866861833,
          -0.06130727866861833,
          -0.06130727866861833,
          -0.06130727866861833,
          -0.061264482462936885,
          -0.061264482462936885,
          -0.061264482462936885,
          -0.061264482462936885,
          -0.061264482462936885,
          -0.061264482462936885,
          -0.061264482462936885,
          -0.061264482462936885,
          -0.061264482462936885,
          -0.061264482462936885,
          -0.061264482462936885,
          -0.061264482462936885,
          -0.061264482462936885,
          -0.061264482462936885,
          -0.061264482462936885,
          -0.061264482462936885,
          -0.06119751345201333,
          -0.06119751345201333,
          -0.06119751345201333,
          -0.06119751345201333,
          -0.06119751345201333,
          -0.06119751345201333,
          -0.06119751345201333,
          -0.06119751345201333,
          -0.06119751345201333,
          -0.0611232499375928,
          -0.0611232499375928,
          -0.0611232499375928,
          -0.0611232499375928,
          -0.0611232499375928,
          -0.0611232499375928,
          -0.0611232499375928,
          -0.0611232499375928,
          -0.0611232499375928,
          -0.0611232499375928,
          -0.0611232499375928,
          -0.0611232499375928,
          -0.0611232499375928,
          -0.0611232499375928,
          -0.0611232499375928,
          -0.06104355670717759,
          -0.06104355670717759,
          -0.06104355670717759,
          -0.06104355670717759,
          -0.06104355670717759,
          -0.06104355670717759,
          -0.06104355670717759,
          -0.06104355670717759,
          -0.06104355670717759,
          -0.06104355670717759,
          -0.06104355670717759,
          -0.06104355670717759,
          -0.06101062441540366,
          -0.06101062441540366,
          -0.06101062441540366,
          -0.06101062441540366,
          -0.06101062441540366,
          -0.06101062441540366,
          -0.06101062441540366,
          -0.06101062441540366,
          -0.06101062441540366,
          -0.06095295831955927,
          -0.06095295831955927,
          -0.06095295831955927,
          -0.06095295831955927,
          -0.06095295831955927,
          -0.06095295831955927,
          -0.06095295831955927,
          -0.06095295831955927,
          -0.06095295831955927,
          -0.06095295831955927,
          -0.06095295831955927,
          -0.06095295831955927,
          -0.06095295831955927,
          -0.06095295831955927,
          -0.06095295831955927,
          -0.06095295831955927
         ]
        }
       ],
       "layout": {
        "autosize": true,
        "template": {
         "data": {
          "bar": [
           {
            "error_x": {
             "color": "#2a3f5f"
            },
            "error_y": {
             "color": "#2a3f5f"
            },
            "marker": {
             "line": {
              "color": "#E5ECF6",
              "width": 0.5
             },
             "pattern": {
              "fillmode": "overlay",
              "size": 10,
              "solidity": 0.2
             }
            },
            "type": "bar"
           }
          ],
          "barpolar": [
           {
            "marker": {
             "line": {
              "color": "#E5ECF6",
              "width": 0.5
             },
             "pattern": {
              "fillmode": "overlay",
              "size": 10,
              "solidity": 0.2
             }
            },
            "type": "barpolar"
           }
          ],
          "carpet": [
           {
            "aaxis": {
             "endlinecolor": "#2a3f5f",
             "gridcolor": "white",
             "linecolor": "white",
             "minorgridcolor": "white",
             "startlinecolor": "#2a3f5f"
            },
            "baxis": {
             "endlinecolor": "#2a3f5f",
             "gridcolor": "white",
             "linecolor": "white",
             "minorgridcolor": "white",
             "startlinecolor": "#2a3f5f"
            },
            "type": "carpet"
           }
          ],
          "choropleth": [
           {
            "colorbar": {
             "outlinewidth": 0,
             "ticks": ""
            },
            "type": "choropleth"
           }
          ],
          "contour": [
           {
            "colorbar": {
             "outlinewidth": 0,
             "ticks": ""
            },
            "colorscale": [
             [
              0,
              "#0d0887"
             ],
             [
              0.1111111111111111,
              "#46039f"
             ],
             [
              0.2222222222222222,
              "#7201a8"
             ],
             [
              0.3333333333333333,
              "#9c179e"
             ],
             [
              0.4444444444444444,
              "#bd3786"
             ],
             [
              0.5555555555555556,
              "#d8576b"
             ],
             [
              0.6666666666666666,
              "#ed7953"
             ],
             [
              0.7777777777777778,
              "#fb9f3a"
             ],
             [
              0.8888888888888888,
              "#fdca26"
             ],
             [
              1,
              "#f0f921"
             ]
            ],
            "type": "contour"
           }
          ],
          "contourcarpet": [
           {
            "colorbar": {
             "outlinewidth": 0,
             "ticks": ""
            },
            "type": "contourcarpet"
           }
          ],
          "heatmap": [
           {
            "colorbar": {
             "outlinewidth": 0,
             "ticks": ""
            },
            "colorscale": [
             [
              0,
              "#0d0887"
             ],
             [
              0.1111111111111111,
              "#46039f"
             ],
             [
              0.2222222222222222,
              "#7201a8"
             ],
             [
              0.3333333333333333,
              "#9c179e"
             ],
             [
              0.4444444444444444,
              "#bd3786"
             ],
             [
              0.5555555555555556,
              "#d8576b"
             ],
             [
              0.6666666666666666,
              "#ed7953"
             ],
             [
              0.7777777777777778,
              "#fb9f3a"
             ],
             [
              0.8888888888888888,
              "#fdca26"
             ],
             [
              1,
              "#f0f921"
             ]
            ],
            "type": "heatmap"
           }
          ],
          "heatmapgl": [
           {
            "colorbar": {
             "outlinewidth": 0,
             "ticks": ""
            },
            "colorscale": [
             [
              0,
              "#0d0887"
             ],
             [
              0.1111111111111111,
              "#46039f"
             ],
             [
              0.2222222222222222,
              "#7201a8"
             ],
             [
              0.3333333333333333,
              "#9c179e"
             ],
             [
              0.4444444444444444,
              "#bd3786"
             ],
             [
              0.5555555555555556,
              "#d8576b"
             ],
             [
              0.6666666666666666,
              "#ed7953"
             ],
             [
              0.7777777777777778,
              "#fb9f3a"
             ],
             [
              0.8888888888888888,
              "#fdca26"
             ],
             [
              1,
              "#f0f921"
             ]
            ],
            "type": "heatmapgl"
           }
          ],
          "histogram": [
           {
            "marker": {
             "pattern": {
              "fillmode": "overlay",
              "size": 10,
              "solidity": 0.2
             }
            },
            "type": "histogram"
           }
          ],
          "histogram2d": [
           {
            "colorbar": {
             "outlinewidth": 0,
             "ticks": ""
            },
            "colorscale": [
             [
              0,
              "#0d0887"
             ],
             [
              0.1111111111111111,
              "#46039f"
             ],
             [
              0.2222222222222222,
              "#7201a8"
             ],
             [
              0.3333333333333333,
              "#9c179e"
             ],
             [
              0.4444444444444444,
              "#bd3786"
             ],
             [
              0.5555555555555556,
              "#d8576b"
             ],
             [
              0.6666666666666666,
              "#ed7953"
             ],
             [
              0.7777777777777778,
              "#fb9f3a"
             ],
             [
              0.8888888888888888,
              "#fdca26"
             ],
             [
              1,
              "#f0f921"
             ]
            ],
            "type": "histogram2d"
           }
          ],
          "histogram2dcontour": [
           {
            "colorbar": {
             "outlinewidth": 0,
             "ticks": ""
            },
            "colorscale": [
             [
              0,
              "#0d0887"
             ],
             [
              0.1111111111111111,
              "#46039f"
             ],
             [
              0.2222222222222222,
              "#7201a8"
             ],
             [
              0.3333333333333333,
              "#9c179e"
             ],
             [
              0.4444444444444444,
              "#bd3786"
             ],
             [
              0.5555555555555556,
              "#d8576b"
             ],
             [
              0.6666666666666666,
              "#ed7953"
             ],
             [
              0.7777777777777778,
              "#fb9f3a"
             ],
             [
              0.8888888888888888,
              "#fdca26"
             ],
             [
              1,
              "#f0f921"
             ]
            ],
            "type": "histogram2dcontour"
           }
          ],
          "mesh3d": [
           {
            "colorbar": {
             "outlinewidth": 0,
             "ticks": ""
            },
            "type": "mesh3d"
           }
          ],
          "parcoords": [
           {
            "line": {
             "colorbar": {
              "outlinewidth": 0,
              "ticks": ""
             }
            },
            "type": "parcoords"
           }
          ],
          "pie": [
           {
            "automargin": true,
            "type": "pie"
           }
          ],
          "scatter": [
           {
            "marker": {
             "colorbar": {
              "outlinewidth": 0,
              "ticks": ""
             }
            },
            "type": "scatter"
           }
          ],
          "scatter3d": [
           {
            "line": {
             "colorbar": {
              "outlinewidth": 0,
              "ticks": ""
             }
            },
            "marker": {
             "colorbar": {
              "outlinewidth": 0,
              "ticks": ""
             }
            },
            "type": "scatter3d"
           }
          ],
          "scattercarpet": [
           {
            "marker": {
             "colorbar": {
              "outlinewidth": 0,
              "ticks": ""
             }
            },
            "type": "scattercarpet"
           }
          ],
          "scattergeo": [
           {
            "marker": {
             "colorbar": {
              "outlinewidth": 0,
              "ticks": ""
             }
            },
            "type": "scattergeo"
           }
          ],
          "scattergl": [
           {
            "marker": {
             "colorbar": {
              "outlinewidth": 0,
              "ticks": ""
             }
            },
            "type": "scattergl"
           }
          ],
          "scattermapbox": [
           {
            "marker": {
             "colorbar": {
              "outlinewidth": 0,
              "ticks": ""
             }
            },
            "type": "scattermapbox"
           }
          ],
          "scatterpolar": [
           {
            "marker": {
             "colorbar": {
              "outlinewidth": 0,
              "ticks": ""
             }
            },
            "type": "scatterpolar"
           }
          ],
          "scatterpolargl": [
           {
            "marker": {
             "colorbar": {
              "outlinewidth": 0,
              "ticks": ""
             }
            },
            "type": "scatterpolargl"
           }
          ],
          "scatterternary": [
           {
            "marker": {
             "colorbar": {
              "outlinewidth": 0,
              "ticks": ""
             }
            },
            "type": "scatterternary"
           }
          ],
          "surface": [
           {
            "colorbar": {
             "outlinewidth": 0,
             "ticks": ""
            },
            "colorscale": [
             [
              0,
              "#0d0887"
             ],
             [
              0.1111111111111111,
              "#46039f"
             ],
             [
              0.2222222222222222,
              "#7201a8"
             ],
             [
              0.3333333333333333,
              "#9c179e"
             ],
             [
              0.4444444444444444,
              "#bd3786"
             ],
             [
              0.5555555555555556,
              "#d8576b"
             ],
             [
              0.6666666666666666,
              "#ed7953"
             ],
             [
              0.7777777777777778,
              "#fb9f3a"
             ],
             [
              0.8888888888888888,
              "#fdca26"
             ],
             [
              1,
              "#f0f921"
             ]
            ],
            "type": "surface"
           }
          ],
          "table": [
           {
            "cells": {
             "fill": {
              "color": "#EBF0F8"
             },
             "line": {
              "color": "white"
             }
            },
            "header": {
             "fill": {
              "color": "#C8D4E3"
             },
             "line": {
              "color": "white"
             }
            },
            "type": "table"
           }
          ]
         },
         "layout": {
          "annotationdefaults": {
           "arrowcolor": "#2a3f5f",
           "arrowhead": 0,
           "arrowwidth": 1
          },
          "autotypenumbers": "strict",
          "coloraxis": {
           "colorbar": {
            "outlinewidth": 0,
            "ticks": ""
           }
          },
          "colorscale": {
           "diverging": [
            [
             0,
             "#8e0152"
            ],
            [
             0.1,
             "#c51b7d"
            ],
            [
             0.2,
             "#de77ae"
            ],
            [
             0.3,
             "#f1b6da"
            ],
            [
             0.4,
             "#fde0ef"
            ],
            [
             0.5,
             "#f7f7f7"
            ],
            [
             0.6,
             "#e6f5d0"
            ],
            [
             0.7,
             "#b8e186"
            ],
            [
             0.8,
             "#7fbc41"
            ],
            [
             0.9,
             "#4d9221"
            ],
            [
             1,
             "#276419"
            ]
           ],
           "sequential": [
            [
             0,
             "#0d0887"
            ],
            [
             0.1111111111111111,
             "#46039f"
            ],
            [
             0.2222222222222222,
             "#7201a8"
            ],
            [
             0.3333333333333333,
             "#9c179e"
            ],
            [
             0.4444444444444444,
             "#bd3786"
            ],
            [
             0.5555555555555556,
             "#d8576b"
            ],
            [
             0.6666666666666666,
             "#ed7953"
            ],
            [
             0.7777777777777778,
             "#fb9f3a"
            ],
            [
             0.8888888888888888,
             "#fdca26"
            ],
            [
             1,
             "#f0f921"
            ]
           ],
           "sequentialminus": [
            [
             0,
             "#0d0887"
            ],
            [
             0.1111111111111111,
             "#46039f"
            ],
            [
             0.2222222222222222,
             "#7201a8"
            ],
            [
             0.3333333333333333,
             "#9c179e"
            ],
            [
             0.4444444444444444,
             "#bd3786"
            ],
            [
             0.5555555555555556,
             "#d8576b"
            ],
            [
             0.6666666666666666,
             "#ed7953"
            ],
            [
             0.7777777777777778,
             "#fb9f3a"
            ],
            [
             0.8888888888888888,
             "#fdca26"
            ],
            [
             1,
             "#f0f921"
            ]
           ]
          },
          "colorway": [
           "#636efa",
           "#EF553B",
           "#00cc96",
           "#ab63fa",
           "#FFA15A",
           "#19d3f3",
           "#FF6692",
           "#B6E880",
           "#FF97FF",
           "#FECB52"
          ],
          "font": {
           "color": "#2a3f5f"
          },
          "geo": {
           "bgcolor": "white",
           "lakecolor": "white",
           "landcolor": "#E5ECF6",
           "showlakes": true,
           "showland": true,
           "subunitcolor": "white"
          },
          "hoverlabel": {
           "align": "left"
          },
          "hovermode": "closest",
          "mapbox": {
           "style": "light"
          },
          "paper_bgcolor": "white",
          "plot_bgcolor": "#E5ECF6",
          "polar": {
           "angularaxis": {
            "gridcolor": "white",
            "linecolor": "white",
            "ticks": ""
           },
           "bgcolor": "#E5ECF6",
           "radialaxis": {
            "gridcolor": "white",
            "linecolor": "white",
            "ticks": ""
           }
          },
          "scene": {
           "xaxis": {
            "backgroundcolor": "#E5ECF6",
            "gridcolor": "white",
            "gridwidth": 2,
            "linecolor": "white",
            "showbackground": true,
            "ticks": "",
            "zerolinecolor": "white"
           },
           "yaxis": {
            "backgroundcolor": "#E5ECF6",
            "gridcolor": "white",
            "gridwidth": 2,
            "linecolor": "white",
            "showbackground": true,
            "ticks": "",
            "zerolinecolor": "white"
           },
           "zaxis": {
            "backgroundcolor": "#E5ECF6",
            "gridcolor": "white",
            "gridwidth": 2,
            "linecolor": "white",
            "showbackground": true,
            "ticks": "",
            "zerolinecolor": "white"
           }
          },
          "shapedefaults": {
           "line": {
            "color": "#2a3f5f"
           }
          },
          "ternary": {
           "aaxis": {
            "gridcolor": "white",
            "linecolor": "white",
            "ticks": ""
           },
           "baxis": {
            "gridcolor": "white",
            "linecolor": "white",
            "ticks": ""
           },
           "bgcolor": "#E5ECF6",
           "caxis": {
            "gridcolor": "white",
            "linecolor": "white",
            "ticks": ""
           }
          },
          "title": {
           "x": 0.05
          },
          "xaxis": {
           "automargin": true,
           "gridcolor": "white",
           "linecolor": "white",
           "ticks": "",
           "title": {
            "standoff": 15
           },
           "zerolinecolor": "white",
           "zerolinewidth": 2
          },
          "yaxis": {
           "automargin": true,
           "gridcolor": "white",
           "linecolor": "white",
           "ticks": "",
           "title": {
            "standoff": 15
           },
           "zerolinecolor": "white",
           "zerolinewidth": 2
          }
         }
        },
        "title": {
         "text": "Optimization History Plot"
        },
        "xaxis": {
         "autorange": true,
         "range": [
          -5.94,
          104.94
         ],
         "title": {
          "text": "#Trials"
         },
         "type": "linear"
        },
        "yaxis": {
         "autorange": true,
         "range": [
          -0.19964630609933692,
          -0.05037992283858968
         ],
         "title": {
          "text": "Objective Value"
         },
         "type": "linear"
        }
       }
      },
      "image/png": "[encoded data removed]",
      "text/html": [
       "<div>                            <div id=\"56a8111f-2c50-40b2-837b-b8611d6a5e72\" class=\"plotly-graph-div\" style=\"height:525px; width:100%;\"></div>            <script type=\"text/javascript\">                require([\"plotly\"], function(Plotly) {                    window.PLOTLYENV=window.PLOTLYENV || {};                                    if (document.getElementById(\"56a8111f-2c50-40b2-837b-b8611d6a5e72\")) {                    Plotly.newPlot(                        \"56a8111f-2c50-40b2-837b-b8611d6a5e72\",                        [{\"mode\":\"markers\",\"name\":\"Objective Value\",\"type\":\"scatter\",\"x\":[0,1,2,3,4,5,6,7,8,9,10,11,12,13,14,15,16,17,18,19,20,21,22,23,24,25,26,27,28,29,30,31,32,33,34,35,36,37,38,39,40,41,42,43,44,45,46,47,48,49,50,51,52,53,54,55,56,57,58,59,60,61,62,63,64,65,66,67,68,69,70,71,72,73,74,75,76,77,78,79,80,81,82,83,84,85,86,87,88,89,90,91,92,93,94,95,96,97,98,99],\"y\":[-0.13118472607997464,-0.06325575097796378,-0.15939783425454576,-0.06477716952424113,-0.0733731463015313,-0.06319433783082302,-0.18837102326768365,-0.06142121957637372,-0.06500717097879154,-0.18893276954668914,-0.0622049352344673,-0.06192693378082429,-0.062087125100364994,-0.061523963875212785,-0.061467826802519415,-0.09652393803516211,-0.08621949072185237,-0.06186803265823446,-0.06130727866861833,-0.06950334280361799,-0.1099273488849503,-0.06143290823712435,-0.061496074797567545,-0.061264482462936885,-0.06149315058542156,-0.07353717219278956,-0.06244755175508365,-0.06154950690083346,-0.15850360111432496,-0.06135437608793739,-0.08609414054539,-0.06167397107226389,-0.06638677243180106,-0.06195014019458214,-0.061569072627897854,-0.06495035248546209,-0.06186456831667395,-0.13083178042707677,-0.061318952062225235,-0.06119751345201333,-0.06141593518568611,-0.061423786754408925,-0.06237005176504543,-0.06143335447266864,-0.06154896229979118,-0.06131113812828661,-0.06132702879773393,-0.061318273988611026,-0.0611232499375928,-0.06346055689967409,-0.18907327061836732,-0.06131336358515014,-0.06142103024950529,-0.0664729714444875,-0.06826977610195815,-0.062151303519331035,-0.061445435792371224,-0.06120092715507721,-0.0614055473779222,-0.06159258901192499,-0.1309730026752555,-0.06131973567142144,-0.06155217651118553,-0.06104355670717759,-0.06112904860392065,-0.06134231801613458,-0.06119453322033409,-0.06145634831828123,-0.06124348892234238,-0.0613107207394431,-0.061059738140438045,-0.061187191256483996,-0.06135334674508112,-0.06135519462702116,-0.1587943538883235,-0.06101062441540366,-0.06128071720723253,-0.061254997375558416,-0.06127226976618785,-0.06278063612338569,-0.06124152017653479,-0.06114922549836008,-0.061417351464841,-0.06112814988561003,-0.06095295831955927,-0.061297732019511074,-0.06138415591375601,-0.06124308800938113,-0.061267223739147635,-0.09634318039595584,-0.0611689137970792,-0.06117527533404902,-0.061330197220677125,-0.06118942343859751,-0.06142288536609065,-0.08629006329801399,-0.0615209617389517,-0.06114319322498595,-0.06124965472707866,-0.06100401536873795]},{\"name\":\"Best Value\",\"type\":\"scatter\",\"x\":[0,1,2,3,4,5,6,7,8,9,10,11,12,13,14,15,16,17,18,19,20,21,22,23,24,25,26,27,28,29,30,31,32,33,34,35,36,37,38,39,40,41,42,43,44,45,46,47,48,49,50,51,52,53,54,55,56,57,58,59,60,61,62,63,64,65,66,67,68,69,70,71,72,73,74,75,76,77,78,79,80,81,82,83,84,85,86,87,88,89,90,91,92,93,94,95,96,97,98,99],\"y\":[-0.13118472607997464,-0.06325575097796378,-0.06325575097796378,-0.06325575097796378,-0.06325575097796378,-0.06319433783082302,-0.06319433783082302,-0.06142121957637372,-0.06142121957637372,-0.06142121957637372,-0.06142121957637372,-0.06142121957637372,-0.06142121957637372,-0.06142121957637372,-0.06142121957637372,-0.06142121957637372,-0.06142121957637372,-0.06142121957637372,-0.06130727866861833,-0.06130727866861833,-0.06130727866861833,-0.06130727866861833,-0.06130727866861833,-0.061264482462936885,-0.061264482462936885,-0.061264482462936885,-0.061264482462936885,-0.061264482462936885,-0.061264482462936885,-0.061264482462936885,-0.061264482462936885,-0.061264482462936885,-0.061264482462936885,-0.061264482462936885,-0.061264482462936885,-0.061264482462936885,-0.061264482462936885,-0.061264482462936885,-0.061264482462936885,-0.06119751345201333,-0.06119751345201333,-0.06119751345201333,-0.06119751345201333,-0.06119751345201333,-0.06119751345201333,-0.06119751345201333,-0.06119751345201333,-0.06119751345201333,-0.0611232499375928,-0.0611232499375928,-0.0611232499375928,-0.0611232499375928,-0.0611232499375928,-0.0611232499375928,-0.0611232499375928,-0.0611232499375928,-0.0611232499375928,-0.0611232499375928,-0.0611232499375928,-0.0611232499375928,-0.0611232499375928,-0.0611232499375928,-0.0611232499375928,-0.06104355670717759,-0.06104355670717759,-0.06104355670717759,-0.06104355670717759,-0.06104355670717759,-0.06104355670717759,-0.06104355670717759,-0.06104355670717759,-0.06104355670717759,-0.06104355670717759,-0.06104355670717759,-0.06104355670717759,-0.06101062441540366,-0.06101062441540366,-0.06101062441540366,-0.06101062441540366,-0.06101062441540366,-0.06101062441540366,-0.06101062441540366,-0.06101062441540366,-0.06101062441540366,-0.06095295831955927,-0.06095295831955927,-0.06095295831955927,-0.06095295831955927,-0.06095295831955927,-0.06095295831955927,-0.06095295831955927,-0.06095295831955927,-0.06095295831955927,-0.06095295831955927,-0.06095295831955927,-0.06095295831955927,-0.06095295831955927,-0.06095295831955927,-0.06095295831955927,-0.06095295831955927]}],                        {\"template\":{\"data\":{\"bar\":[{\"error_x\":{\"color\":\"#2a3f5f\"},\"error_y\":{\"color\":\"#2a3f5f\"},\"marker\":{\"line\":{\"color\":\"#E5ECF6\",\"width\":0.5},\"pattern\":{\"fillmode\":\"overlay\",\"size\":10,\"solidity\":0.2}},\"type\":\"bar\"}],\"barpolar\":[{\"marker\":{\"line\":{\"color\":\"#E5ECF6\",\"width\":0.5},\"pattern\":{\"fillmode\":\"overlay\",\"size\":10,\"solidity\":0.2}},\"type\":\"barpolar\"}],\"carpet\":[{\"aaxis\":{\"endlinecolor\":\"#2a3f5f\",\"gridcolor\":\"white\",\"linecolor\":\"white\",\"minorgridcolor\":\"white\",\"startlinecolor\":\"#2a3f5f\"},\"baxis\":{\"endlinecolor\":\"#2a3f5f\",\"gridcolor\":\"white\",\"linecolor\":\"white\",\"minorgridcolor\":\"white\",\"startlinecolor\":\"#2a3f5f\"},\"type\":\"carpet\"}],\"choropleth\":[{\"colorbar\":{\"outlinewidth\":0,\"ticks\":\"\"},\"type\":\"choropleth\"}],\"contour\":[{\"colorbar\":{\"outlinewidth\":0,\"ticks\":\"\"},\"colorscale\":[[0.0,\"#0d0887\"],[0.1111111111111111,\"#46039f\"],[0.2222222222222222,\"#7201a8\"],[0.3333333333333333,\"#9c179e\"],[0.4444444444444444,\"#bd3786\"],[0.5555555555555556,\"#d8576b\"],[0.6666666666666666,\"#ed7953\"],[0.7777777777777778,\"#fb9f3a\"],[0.8888888888888888,\"#fdca26\"],[1.0,\"#f0f921\"]],\"type\":\"contour\"}],\"contourcarpet\":[{\"colorbar\":{\"outlinewidth\":0,\"ticks\":\"\"},\"type\":\"contourcarpet\"}],\"heatmap\":[{\"colorbar\":{\"outlinewidth\":0,\"ticks\":\"\"},\"colorscale\":[[0.0,\"#0d0887\"],[0.1111111111111111,\"#46039f\"],[0.2222222222222222,\"#7201a8\"],[0.3333333333333333,\"#9c179e\"],[0.4444444444444444,\"#bd3786\"],[0.5555555555555556,\"#d8576b\"],[0.6666666666666666,\"#ed7953\"],[0.7777777777777778,\"#fb9f3a\"],[0.8888888888888888,\"#fdca26\"],[1.0,\"#f0f921\"]],\"type\":\"heatmap\"}],\"heatmapgl\":[{\"colorbar\":{\"outlinewidth\":0,\"ticks\":\"\"},\"colorscale\":[[0.0,\"#0d0887\"],[0.1111111111111111,\"#46039f\"],[0.2222222222222222,\"#7201a8\"],[0.3333333333333333,\"#9c179e\"],[0.4444444444444444,\"#bd3786\"],[0.5555555555555556,\"#d8576b\"],[0.6666666666666666,\"#ed7953\"],[0.7777777777777778,\"#fb9f3a\"],[0.8888888888888888,\"#fdca26\"],[1.0,\"#f0f921\"]],\"type\":\"heatmapgl\"}],\"histogram\":[{\"marker\":{\"pattern\":{\"fillmode\":\"overlay\",\"size\":10,\"solidity\":0.2}},\"type\":\"histogram\"}],\"histogram2d\":[{\"colorbar\":{\"outlinewidth\":0,\"ticks\":\"\"},\"colorscale\":[[0.0,\"#0d0887\"],[0.1111111111111111,\"#46039f\"],[0.2222222222222222,\"#7201a8\"],[0.3333333333333333,\"#9c179e\"],[0.4444444444444444,\"#bd3786\"],[0.5555555555555556,\"#d8576b\"],[0.6666666666666666,\"#ed7953\"],[0.7777777777777778,\"#fb9f3a\"],[0.8888888888888888,\"#fdca26\"],[1.0,\"#f0f921\"]],\"type\":\"histogram2d\"}],\"histogram2dcontour\":[{\"colorbar\":{\"outlinewidth\":0,\"ticks\":\"\"},\"colorscale\":[[0.0,\"#0d0887\"],[0.1111111111111111,\"#46039f\"],[0.2222222222222222,\"#7201a8\"],[0.3333333333333333,\"#9c179e\"],[0.4444444444444444,\"#bd3786\"],[0.5555555555555556,\"#d8576b\"],[0.6666666666666666,\"#ed7953\"],[0.7777777777777778,\"#fb9f3a\"],[0.8888888888888888,\"#fdca26\"],[1.0,\"#f0f921\"]],\"type\":\"histogram2dcontour\"}],\"mesh3d\":[{\"colorbar\":{\"outlinewidth\":0,\"ticks\":\"\"},\"type\":\"mesh3d\"}],\"parcoords\":[{\"line\":{\"colorbar\":{\"outlinewidth\":0,\"ticks\":\"\"}},\"type\":\"parcoords\"}],\"pie\":[{\"automargin\":true,\"type\":\"pie\"}],\"scatter\":[{\"marker\":{\"colorbar\":{\"outlinewidth\":0,\"ticks\":\"\"}},\"type\":\"scatter\"}],\"scatter3d\":[{\"line\":{\"colorbar\":{\"outlinewidth\":0,\"ticks\":\"\"}},\"marker\":{\"colorbar\":{\"outlinewidth\":0,\"ticks\":\"\"}},\"type\":\"scatter3d\"}],\"scattercarpet\":[{\"marker\":{\"colorbar\":{\"outlinewidth\":0,\"ticks\":\"\"}},\"type\":\"scattercarpet\"}],\"scattergeo\":[{\"marker\":{\"colorbar\":{\"outlinewidth\":0,\"ticks\":\"\"}},\"type\":\"scattergeo\"}],\"scattergl\":[{\"marker\":{\"colorbar\":{\"outlinewidth\":0,\"ticks\":\"\"}},\"type\":\"scattergl\"}],\"scattermapbox\":[{\"marker\":{\"colorbar\":{\"outlinewidth\":0,\"ticks\":\"\"}},\"type\":\"scattermapbox\"}],\"scatterpolar\":[{\"marker\":{\"colorbar\":{\"outlinewidth\":0,\"ticks\":\"\"}},\"type\":\"scatterpolar\"}],\"scatterpolargl\":[{\"marker\":{\"colorbar\":{\"outlinewidth\":0,\"ticks\":\"\"}},\"type\":\"scatterpolargl\"}],\"scatterternary\":[{\"marker\":{\"colorbar\":{\"outlinewidth\":0,\"ticks\":\"\"}},\"type\":\"scatterternary\"}],\"surface\":[{\"colorbar\":{\"outlinewidth\":0,\"ticks\":\"\"},\"colorscale\":[[0.0,\"#0d0887\"],[0.1111111111111111,\"#46039f\"],[0.2222222222222222,\"#7201a8\"],[0.3333333333333333,\"#9c179e\"],[0.4444444444444444,\"#bd3786\"],[0.5555555555555556,\"#d8576b\"],[0.6666666666666666,\"#ed7953\"],[0.7777777777777778,\"#fb9f3a\"],[0.8888888888888888,\"#fdca26\"],[1.0,\"#f0f921\"]],\"type\":\"surface\"}],\"table\":[{\"cells\":{\"fill\":{\"color\":\"#EBF0F8\"},\"line\":{\"color\":\"white\"}},\"header\":{\"fill\":{\"color\":\"#C8D4E3\"},\"line\":{\"color\":\"white\"}},\"type\":\"table\"}]},\"layout\":{\"annotationdefaults\":{\"arrowcolor\":\"#2a3f5f\",\"arrowhead\":0,\"arrowwidth\":1},\"autotypenumbers\":\"strict\",\"coloraxis\":{\"colorbar\":{\"outlinewidth\":0,\"ticks\":\"\"}},\"colorscale\":{\"diverging\":[[0,\"#8e0152\"],[0.1,\"#c51b7d\"],[0.2,\"#de77ae\"],[0.3,\"#f1b6da\"],[0.4,\"#fde0ef\"],[0.5,\"#f7f7f7\"],[0.6,\"#e6f5d0\"],[0.7,\"#b8e186\"],[0.8,\"#7fbc41\"],[0.9,\"#4d9221\"],[1,\"#276419\"]],\"sequential\":[[0.0,\"#0d0887\"],[0.1111111111111111,\"#46039f\"],[0.2222222222222222,\"#7201a8\"],[0.3333333333333333,\"#9c179e\"],[0.4444444444444444,\"#bd3786\"],[0.5555555555555556,\"#d8576b\"],[0.6666666666666666,\"#ed7953\"],[0.7777777777777778,\"#fb9f3a\"],[0.8888888888888888,\"#fdca26\"],[1.0,\"#f0f921\"]],\"sequentialminus\":[[0.0,\"#0d0887\"],[0.1111111111111111,\"#46039f\"],[0.2222222222222222,\"#7201a8\"],[0.3333333333333333,\"#9c179e\"],[0.4444444444444444,\"#bd3786\"],[0.5555555555555556,\"#d8576b\"],[0.6666666666666666,\"#ed7953\"],[0.7777777777777778,\"#fb9f3a\"],[0.8888888888888888,\"#fdca26\"],[1.0,\"#f0f921\"]]},\"colorway\":[\"#636efa\",\"#EF553B\",\"#00cc96\",\"#ab63fa\",\"#FFA15A\",\"#19d3f3\",\"#FF6692\",\"#B6E880\",\"#FF97FF\",\"#FECB52\"],\"font\":{\"color\":\"#2a3f5f\"},\"geo\":{\"bgcolor\":\"white\",\"lakecolor\":\"white\",\"landcolor\":\"#E5ECF6\",\"showlakes\":true,\"showland\":true,\"subunitcolor\":\"white\"},\"hoverlabel\":{\"align\":\"left\"},\"hovermode\":\"closest\",\"mapbox\":{\"style\":\"light\"},\"paper_bgcolor\":\"white\",\"plot_bgcolor\":\"#E5ECF6\",\"polar\":{\"angularaxis\":{\"gridcolor\":\"white\",\"linecolor\":\"white\",\"ticks\":\"\"},\"bgcolor\":\"#E5ECF6\",\"radialaxis\":{\"gridcolor\":\"white\",\"linecolor\":\"white\",\"ticks\":\"\"}},\"scene\":{\"xaxis\":{\"backgroundcolor\":\"#E5ECF6\",\"gridcolor\":\"white\",\"gridwidth\":2,\"linecolor\":\"white\",\"showbackground\":true,\"ticks\":\"\",\"zerolinecolor\":\"white\"},\"yaxis\":{\"backgroundcolor\":\"#E5ECF6\",\"gridcolor\":\"white\",\"gridwidth\":2,\"linecolor\":\"white\",\"showbackground\":true,\"ticks\":\"\",\"zerolinecolor\":\"white\"},\"zaxis\":{\"backgroundcolor\":\"#E5ECF6\",\"gridcolor\":\"white\",\"gridwidth\":2,\"linecolor\":\"white\",\"showbackground\":true,\"ticks\":\"\",\"zerolinecolor\":\"white\"}},\"shapedefaults\":{\"line\":{\"color\":\"#2a3f5f\"}},\"ternary\":{\"aaxis\":{\"gridcolor\":\"white\",\"linecolor\":\"white\",\"ticks\":\"\"},\"baxis\":{\"gridcolor\":\"white\",\"linecolor\":\"white\",\"ticks\":\"\"},\"bgcolor\":\"#E5ECF6\",\"caxis\":{\"gridcolor\":\"white\",\"linecolor\":\"white\",\"ticks\":\"\"}},\"title\":{\"x\":0.05},\"xaxis\":{\"automargin\":true,\"gridcolor\":\"white\",\"linecolor\":\"white\",\"ticks\":\"\",\"title\":{\"standoff\":15},\"zerolinecolor\":\"white\",\"zerolinewidth\":2},\"yaxis\":{\"automargin\":true,\"gridcolor\":\"white\",\"linecolor\":\"white\",\"ticks\":\"\",\"title\":{\"standoff\":15},\"zerolinecolor\":\"white\",\"zerolinewidth\":2}}},\"title\":{\"text\":\"Optimization History Plot\"},\"xaxis\":{\"title\":{\"text\":\"#Trials\"}},\"yaxis\":{\"title\":{\"text\":\"Objective Value\"}}},                        {\"responsive\": true}                    ).then(function(){\n",
       "                            \n",
       "var gd = document.getElementById('56a8111f-2c50-40b2-837b-b8611d6a5e72');\n",
       "var x = new MutationObserver(function (mutations, observer) {{\n",
       "        var display = window.getComputedStyle(gd).display;\n",
       "        if (!display || display === 'none') {{\n",
       "            console.log([gd, 'removed!']);\n",
       "            Plotly.purge(gd);\n",
       "            observer.disconnect();\n",
       "        }}\n",
       "}});\n",
       "\n",
       "// Listen for the removal of the full notebook cells\n",
       "var notebookContainer = gd.closest('#notebook-container');\n",
       "if (notebookContainer) {{\n",
       "    x.observe(notebookContainer, {childList: true});\n",
       "}}\n",
       "\n",
       "// Listen for the clearing of the current output cell\n",
       "var outputEl = gd.closest('.output');\n",
       "if (outputEl) {{\n",
       "    x.observe(outputEl, {childList: true});\n",
       "}}\n",
       "\n",
       "                        })                };                });            </script>        </div>"
      ]
     },
     "metadata": {},
     "output_type": "display_data"
    }
   ],
   "source": [
    "optuna.visualization.plot_optimization_history(study)\n",
    "\n",
    "# Uncomment to write figure\n",
    "# fig1 = optuna.visualization.plot_optimization_history(study)\n",
    "# fig1.write_image('optuna_optimization_history.png')"
   ]
  },
  {
   "cell_type": "code",
   "execution_count": 23,
   "id": "monthly-spirituality",
   "metadata": {
    "tags": []
   },
   "outputs": [
    {
     "data": {
      "application/vnd.plotly.v1+json": {
       "config": {
        "plotlyServerURL": "https://plot.ly"
       },
       "data": [
        {
         "marker": {
          "color": [
           0,
           1,
           2,
           3,
           4,
           5,
           6,
           7,
           8,
           9,
           10,
           11,
           12,
           13,
           14,
           15,
           16,
           17,
           18,
           19,
           20,
           21,
           22,
           23,
           24,
           25,
           26,
           27,
           28,
           29,
           30,
           31,
           32,
           33,
           34,
           35,
           36,
           37,
           38,
           39,
           40,
           41,
           42,
           43,
           44,
           45,
           46,
           47,
           48,
           49,
           50,
           51,
           52,
           53,
           54,
           55,
           56,
           57,
           58,
           59,
           60,
           61,
           62,
           63,
           64,
           65,
           66,
           67,
           68,
           69,
           70,
           71,
           72,
           73,
           74,
           75,
           76,
           77,
           78,
           79,
           80,
           81,
           82,
           83,
           84,
           85,
           86,
           87,
           88,
           89,
           90,
           91,
           92,
           93,
           94,
           95,
           96,
           97,
           98,
           99
          ],
          "colorbar": {
           "title": {
            "text": "#Trials"
           },
           "x": 1,
           "xpad": 40,
           "y": 0.5
          },
          "colorscale": [
           [
            0,
            "rgb(247,251,255)"
           ],
           [
            0.125,
            "rgb(222,235,247)"
           ],
           [
            0.25,
            "rgb(198,219,239)"
           ],
           [
            0.375,
            "rgb(158,202,225)"
           ],
           [
            0.5,
            "rgb(107,174,214)"
           ],
           [
            0.625,
            "rgb(66,146,198)"
           ],
           [
            0.75,
            "rgb(33,113,181)"
           ],
           [
            0.875,
            "rgb(8,81,156)"
           ],
           [
            1,
            "rgb(8,48,107)"
           ]
          ],
          "line": {
           "color": "Grey",
           "width": 0.5
          },
          "showscale": true
         },
         "mode": "markers",
         "showlegend": false,
         "type": "scatter",
         "x": [
          3.5174491980808376,
          12.933442358650487,
          2.734731569780339,
          11.328574319047933,
          8.06491259417523,
          12.287690046019284,
          1.2021572934709497,
          16.278163526947946,
          14.48661817041077,
          1.507798681507505,
          28.67003481339737,
          29.66370648699038,
          31.540466468717945,
          20.54214658143693,
          20.048958611760256,
          5.232152020750818,
          6.616043037231413,
          19.735356655315385,
          19.1391412572117,
          9.353298162202998,
          4.445556187535792,
          19.445721267539263,
          17.346093606947456,
          23.31662967088997,
          24.588233569046295,
          8.946628365372385,
          13.939401866578004,
          23.090117619591005,
          2.152657130771295,
          16.085188109697793,
          6.88484177616154,
          16.865784301423087,
          10.614832052257773,
          14.877690329061013,
          25.950887138491588,
          11.449681878883304,
          16.11694633102145,
          3.1067729225683083,
          23.260731957986728,
          24.548325273791434,
          23.60578398433369,
          25.900505232379604,
          13.328974783995447,
          22.07333984021028,
          31.94732463214078,
          17.37784120464349,
          28.384322367072492,
          18.502644733210833,
          18.992858375455288,
          12.320501737823964,
          1.068737554337405,
          18.06207576823034,
          20.58710948204271,
          10.373613261899605,
          27.185466102619575,
          14.164119623520776,
          18.38692802535268,
          21.20690371009591,
          20.7984585719935,
          28.57883819925379,
          3.995544314732925,
          18.053149962494064,
          15.624475328079074,
          21.294523745568807,
          22.032374663949735,
          22.35483011630861,
          24.30262161707333,
          31.710763590423433,
          26.2982638187955,
          25.68873047828118,
          28.829924246920807,
          28.16213944164105,
          29.32624654112424,
          21.19295540455036,
          2.187907830908161,
          24.341007652332436,
          24.674764742481102,
          27.85349271657254,
          30.375355517691997,
          24.050551377501122,
          19.945435543535353,
          21.93760435727162,
          23.521539917841405,
          26.04887186726183,
          27.45628880326542,
          26.10422599693942,
          29.8931891436091,
          22.172851368456268,
          19.734263721198822,
          5.393613001414895,
          31.94790336265518,
          27.499652282538207,
          31.340449642219777,
          27.16434141296257,
          21.93954205903983,
          6.589675300786444,
          16.509592102544165,
          25.458310667640717,
          19.33129563868133,
          25.566656606952506
         ],
         "xaxis": "x",
         "y": [
          -0.13118472607997464,
          -0.06325575097796378,
          -0.15939783425454576,
          -0.06477716952424113,
          -0.0733731463015313,
          -0.06319433783082302,
          -0.18837102326768365,
          -0.06142121957637372,
          -0.06500717097879154,
          -0.18893276954668914,
          -0.0622049352344673,
          -0.06192693378082429,
          -0.062087125100364994,
          -0.061523963875212785,
          -0.061467826802519415,
          -0.09652393803516211,
          -0.08621949072185237,
          -0.06186803265823446,
          -0.06130727866861833,
          -0.06950334280361799,
          -0.1099273488849503,
          -0.06143290823712435,
          -0.061496074797567545,
          -0.061264482462936885,
          -0.06149315058542156,
          -0.07353717219278956,
          -0.06244755175508365,
          -0.06154950690083346,
          -0.15850360111432496,
          -0.06135437608793739,
          -0.08609414054539,
          -0.06167397107226389,
          -0.06638677243180106,
          -0.06195014019458214,
          -0.061569072627897854,
          -0.06495035248546209,
          -0.06186456831667395,
          -0.13083178042707677,
          -0.061318952062225235,
          -0.06119751345201333,
          -0.06141593518568611,
          -0.061423786754408925,
          -0.06237005176504543,
          -0.06143335447266864,
          -0.06154896229979118,
          -0.06131113812828661,
          -0.06132702879773393,
          -0.061318273988611026,
          -0.0611232499375928,
          -0.06346055689967409,
          -0.18907327061836732,
          -0.06131336358515014,
          -0.06142103024950529,
          -0.0664729714444875,
          -0.06826977610195815,
          -0.062151303519331035,
          -0.061445435792371224,
          -0.06120092715507721,
          -0.0614055473779222,
          -0.06159258901192499,
          -0.1309730026752555,
          -0.06131973567142144,
          -0.06155217651118553,
          -0.06104355670717759,
          -0.06112904860392065,
          -0.06134231801613458,
          -0.06119453322033409,
          -0.06145634831828123,
          -0.06124348892234238,
          -0.0613107207394431,
          -0.061059738140438045,
          -0.061187191256483996,
          -0.06135334674508112,
          -0.06135519462702116,
          -0.1587943538883235,
          -0.06101062441540366,
          -0.06128071720723253,
          -0.061254997375558416,
          -0.06127226976618785,
          -0.06278063612338569,
          -0.06124152017653479,
          -0.06114922549836008,
          -0.061417351464841,
          -0.06112814988561003,
          -0.06095295831955927,
          -0.061297732019511074,
          -0.06138415591375601,
          -0.06124308800938113,
          -0.061267223739147635,
          -0.09634318039595584,
          -0.0611689137970792,
          -0.06117527533404902,
          -0.061330197220677125,
          -0.06118942343859751,
          -0.06142288536609065,
          -0.08629006329801399,
          -0.0615209617389517,
          -0.06114319322498595,
          -0.06124965472707866,
          -0.06100401536873795
         ],
         "yaxis": "y"
        },
        {
         "marker": {
          "color": [
           0,
           1,
           2,
           3,
           4,
           5,
           6,
           7,
           8,
           9,
           10,
           11,
           12,
           13,
           14,
           15,
           16,
           17,
           18,
           19,
           20,
           21,
           22,
           23,
           24,
           25,
           26,
           27,
           28,
           29,
           30,
           31,
           32,
           33,
           34,
           35,
           36,
           37,
           38,
           39,
           40,
           41,
           42,
           43,
           44,
           45,
           46,
           47,
           48,
           49,
           50,
           51,
           52,
           53,
           54,
           55,
           56,
           57,
           58,
           59,
           60,
           61,
           62,
           63,
           64,
           65,
           66,
           67,
           68,
           69,
           70,
           71,
           72,
           73,
           74,
           75,
           76,
           77,
           78,
           79,
           80,
           81,
           82,
           83,
           84,
           85,
           86,
           87,
           88,
           89,
           90,
           91,
           92,
           93,
           94,
           95,
           96,
           97,
           98,
           99
          ],
          "colorbar": {
           "title": {
            "text": "#Trials"
           },
           "x": 1,
           "xpad": 40
          },
          "colorscale": [
           [
            0,
            "rgb(247,251,255)"
           ],
           [
            0.125,
            "rgb(222,235,247)"
           ],
           [
            0.25,
            "rgb(198,219,239)"
           ],
           [
            0.375,
            "rgb(158,202,225)"
           ],
           [
            0.5,
            "rgb(107,174,214)"
           ],
           [
            0.625,
            "rgb(66,146,198)"
           ],
           [
            0.75,
            "rgb(33,113,181)"
           ],
           [
            0.875,
            "rgb(8,81,156)"
           ],
           [
            1,
            "rgb(8,48,107)"
           ]
          ],
          "line": {
           "color": "Grey",
           "width": 0.5
          },
          "showscale": false
         },
         "mode": "markers",
         "showlegend": false,
         "type": "scatter",
         "x": [
          170,
          155,
          119,
          98,
          200,
          196,
          94,
          139,
          18,
          183,
          57,
          50,
          54,
          134,
          138,
          136,
          154,
          83,
          127,
          114,
          74,
          138,
          157,
          119,
          114,
          118,
          171,
          127,
          104,
          147,
          168,
          147,
          170,
          151,
          124,
          104,
          84,
          184,
          144,
          163,
          163,
          147,
          182,
          124,
          146,
          161,
          190,
          176,
          176,
          198,
          161,
          177,
          180,
          188,
          8,
          163,
          176,
          130,
          130,
          113,
          94,
          157,
          134,
          193,
          193,
          192,
          199,
          192,
          198,
          199,
          187,
          200,
          187,
          193,
          171,
          184,
          182,
          200,
          187,
          42,
          194,
          175,
          174,
          168,
          185,
          186,
          167,
          182,
          178,
          172,
          190,
          193,
          190,
          167,
          185,
          179,
          191,
          196,
          195,
          183
         ],
         "xaxis": "x2",
         "y": [
          -0.13118472607997464,
          -0.06325575097796378,
          -0.15939783425454576,
          -0.06477716952424113,
          -0.0733731463015313,
          -0.06319433783082302,
          -0.18837102326768365,
          -0.06142121957637372,
          -0.06500717097879154,
          -0.18893276954668914,
          -0.0622049352344673,
          -0.06192693378082429,
          -0.062087125100364994,
          -0.061523963875212785,
          -0.061467826802519415,
          -0.09652393803516211,
          -0.08621949072185237,
          -0.06186803265823446,
          -0.06130727866861833,
          -0.06950334280361799,
          -0.1099273488849503,
          -0.06143290823712435,
          -0.061496074797567545,
          -0.061264482462936885,
          -0.06149315058542156,
          -0.07353717219278956,
          -0.06244755175508365,
          -0.06154950690083346,
          -0.15850360111432496,
          -0.06135437608793739,
          -0.08609414054539,
          -0.06167397107226389,
          -0.06638677243180106,
          -0.06195014019458214,
          -0.061569072627897854,
          -0.06495035248546209,
          -0.06186456831667395,
          -0.13083178042707677,
          -0.061318952062225235,
          -0.06119751345201333,
          -0.06141593518568611,
          -0.061423786754408925,
          -0.06237005176504543,
          -0.06143335447266864,
          -0.06154896229979118,
          -0.06131113812828661,
          -0.06132702879773393,
          -0.061318273988611026,
          -0.0611232499375928,
          -0.06346055689967409,
          -0.18907327061836732,
          -0.06131336358515014,
          -0.06142103024950529,
          -0.0664729714444875,
          -0.06826977610195815,
          -0.062151303519331035,
          -0.061445435792371224,
          -0.06120092715507721,
          -0.0614055473779222,
          -0.06159258901192499,
          -0.1309730026752555,
          -0.06131973567142144,
          -0.06155217651118553,
          -0.06104355670717759,
          -0.06112904860392065,
          -0.06134231801613458,
          -0.06119453322033409,
          -0.06145634831828123,
          -0.06124348892234238,
          -0.0613107207394431,
          -0.061059738140438045,
          -0.061187191256483996,
          -0.06135334674508112,
          -0.06135519462702116,
          -0.1587943538883235,
          -0.06101062441540366,
          -0.06128071720723253,
          -0.061254997375558416,
          -0.06127226976618785,
          -0.06278063612338569,
          -0.06124152017653479,
          -0.06114922549836008,
          -0.061417351464841,
          -0.06112814988561003,
          -0.06095295831955927,
          -0.061297732019511074,
          -0.06138415591375601,
          -0.06124308800938113,
          -0.061267223739147635,
          -0.09634318039595584,
          -0.0611689137970792,
          -0.06117527533404902,
          -0.061330197220677125,
          -0.06118942343859751,
          -0.06142288536609065,
          -0.08629006329801399,
          -0.0615209617389517,
          -0.06114319322498595,
          -0.06124965472707866,
          -0.06100401536873795
         ],
         "yaxis": "y2"
        }
       ],
       "layout": {
        "autosize": true,
        "template": {
         "data": {
          "bar": [
           {
            "error_x": {
             "color": "#2a3f5f"
            },
            "error_y": {
             "color": "#2a3f5f"
            },
            "marker": {
             "line": {
              "color": "#E5ECF6",
              "width": 0.5
             },
             "pattern": {
              "fillmode": "overlay",
              "size": 10,
              "solidity": 0.2
             }
            },
            "type": "bar"
           }
          ],
          "barpolar": [
           {
            "marker": {
             "line": {
              "color": "#E5ECF6",
              "width": 0.5
             },
             "pattern": {
              "fillmode": "overlay",
              "size": 10,
              "solidity": 0.2
             }
            },
            "type": "barpolar"
           }
          ],
          "carpet": [
           {
            "aaxis": {
             "endlinecolor": "#2a3f5f",
             "gridcolor": "white",
             "linecolor": "white",
             "minorgridcolor": "white",
             "startlinecolor": "#2a3f5f"
            },
            "baxis": {
             "endlinecolor": "#2a3f5f",
             "gridcolor": "white",
             "linecolor": "white",
             "minorgridcolor": "white",
             "startlinecolor": "#2a3f5f"
            },
            "type": "carpet"
           }
          ],
          "choropleth": [
           {
            "colorbar": {
             "outlinewidth": 0,
             "ticks": ""
            },
            "type": "choropleth"
           }
          ],
          "contour": [
           {
            "colorbar": {
             "outlinewidth": 0,
             "ticks": ""
            },
            "colorscale": [
             [
              0,
              "#0d0887"
             ],
             [
              0.1111111111111111,
              "#46039f"
             ],
             [
              0.2222222222222222,
              "#7201a8"
             ],
             [
              0.3333333333333333,
              "#9c179e"
             ],
             [
              0.4444444444444444,
              "#bd3786"
             ],
             [
              0.5555555555555556,
              "#d8576b"
             ],
             [
              0.6666666666666666,
              "#ed7953"
             ],
             [
              0.7777777777777778,
              "#fb9f3a"
             ],
             [
              0.8888888888888888,
              "#fdca26"
             ],
             [
              1,
              "#f0f921"
             ]
            ],
            "type": "contour"
           }
          ],
          "contourcarpet": [
           {
            "colorbar": {
             "outlinewidth": 0,
             "ticks": ""
            },
            "type": "contourcarpet"
           }
          ],
          "heatmap": [
           {
            "colorbar": {
             "outlinewidth": 0,
             "ticks": ""
            },
            "colorscale": [
             [
              0,
              "#0d0887"
             ],
             [
              0.1111111111111111,
              "#46039f"
             ],
             [
              0.2222222222222222,
              "#7201a8"
             ],
             [
              0.3333333333333333,
              "#9c179e"
             ],
             [
              0.4444444444444444,
              "#bd3786"
             ],
             [
              0.5555555555555556,
              "#d8576b"
             ],
             [
              0.6666666666666666,
              "#ed7953"
             ],
             [
              0.7777777777777778,
              "#fb9f3a"
             ],
             [
              0.8888888888888888,
              "#fdca26"
             ],
             [
              1,
              "#f0f921"
             ]
            ],
            "type": "heatmap"
           }
          ],
          "heatmapgl": [
           {
            "colorbar": {
             "outlinewidth": 0,
             "ticks": ""
            },
            "colorscale": [
             [
              0,
              "#0d0887"
             ],
             [
              0.1111111111111111,
              "#46039f"
             ],
             [
              0.2222222222222222,
              "#7201a8"
             ],
             [
              0.3333333333333333,
              "#9c179e"
             ],
             [
              0.4444444444444444,
              "#bd3786"
             ],
             [
              0.5555555555555556,
              "#d8576b"
             ],
             [
              0.6666666666666666,
              "#ed7953"
             ],
             [
              0.7777777777777778,
              "#fb9f3a"
             ],
             [
              0.8888888888888888,
              "#fdca26"
             ],
             [
              1,
              "#f0f921"
             ]
            ],
            "type": "heatmapgl"
           }
          ],
          "histogram": [
           {
            "marker": {
             "pattern": {
              "fillmode": "overlay",
              "size": 10,
              "solidity": 0.2
             }
            },
            "type": "histogram"
           }
          ],
          "histogram2d": [
           {
            "colorbar": {
             "outlinewidth": 0,
             "ticks": ""
            },
            "colorscale": [
             [
              0,
              "#0d0887"
             ],
             [
              0.1111111111111111,
              "#46039f"
             ],
             [
              0.2222222222222222,
              "#7201a8"
             ],
             [
              0.3333333333333333,
              "#9c179e"
             ],
             [
              0.4444444444444444,
              "#bd3786"
             ],
             [
              0.5555555555555556,
              "#d8576b"
             ],
             [
              0.6666666666666666,
              "#ed7953"
             ],
             [
              0.7777777777777778,
              "#fb9f3a"
             ],
             [
              0.8888888888888888,
              "#fdca26"
             ],
             [
              1,
              "#f0f921"
             ]
            ],
            "type": "histogram2d"
           }
          ],
          "histogram2dcontour": [
           {
            "colorbar": {
             "outlinewidth": 0,
             "ticks": ""
            },
            "colorscale": [
             [
              0,
              "#0d0887"
             ],
             [
              0.1111111111111111,
              "#46039f"
             ],
             [
              0.2222222222222222,
              "#7201a8"
             ],
             [
              0.3333333333333333,
              "#9c179e"
             ],
             [
              0.4444444444444444,
              "#bd3786"
             ],
             [
              0.5555555555555556,
              "#d8576b"
             ],
             [
              0.6666666666666666,
              "#ed7953"
             ],
             [
              0.7777777777777778,
              "#fb9f3a"
             ],
             [
              0.8888888888888888,
              "#fdca26"
             ],
             [
              1,
              "#f0f921"
             ]
            ],
            "type": "histogram2dcontour"
           }
          ],
          "mesh3d": [
           {
            "colorbar": {
             "outlinewidth": 0,
             "ticks": ""
            },
            "type": "mesh3d"
           }
          ],
          "parcoords": [
           {
            "line": {
             "colorbar": {
              "outlinewidth": 0,
              "ticks": ""
             }
            },
            "type": "parcoords"
           }
          ],
          "pie": [
           {
            "automargin": true,
            "type": "pie"
           }
          ],
          "scatter": [
           {
            "marker": {
             "colorbar": {
              "outlinewidth": 0,
              "ticks": ""
             }
            },
            "type": "scatter"
           }
          ],
          "scatter3d": [
           {
            "line": {
             "colorbar": {
              "outlinewidth": 0,
              "ticks": ""
             }
            },
            "marker": {
             "colorbar": {
              "outlinewidth": 0,
              "ticks": ""
             }
            },
            "type": "scatter3d"
           }
          ],
          "scattercarpet": [
           {
            "marker": {
             "colorbar": {
              "outlinewidth": 0,
              "ticks": ""
             }
            },
            "type": "scattercarpet"
           }
          ],
          "scattergeo": [
           {
            "marker": {
             "colorbar": {
              "outlinewidth": 0,
              "ticks": ""
             }
            },
            "type": "scattergeo"
           }
          ],
          "scattergl": [
           {
            "marker": {
             "colorbar": {
              "outlinewidth": 0,
              "ticks": ""
             }
            },
            "type": "scattergl"
           }
          ],
          "scattermapbox": [
           {
            "marker": {
             "colorbar": {
              "outlinewidth": 0,
              "ticks": ""
             }
            },
            "type": "scattermapbox"
           }
          ],
          "scatterpolar": [
           {
            "marker": {
             "colorbar": {
              "outlinewidth": 0,
              "ticks": ""
             }
            },
            "type": "scatterpolar"
           }
          ],
          "scatterpolargl": [
           {
            "marker": {
             "colorbar": {
              "outlinewidth": 0,
              "ticks": ""
             }
            },
            "type": "scatterpolargl"
           }
          ],
          "scatterternary": [
           {
            "marker": {
             "colorbar": {
              "outlinewidth": 0,
              "ticks": ""
             }
            },
            "type": "scatterternary"
           }
          ],
          "surface": [
           {
            "colorbar": {
             "outlinewidth": 0,
             "ticks": ""
            },
            "colorscale": [
             [
              0,
              "#0d0887"
             ],
             [
              0.1111111111111111,
              "#46039f"
             ],
             [
              0.2222222222222222,
              "#7201a8"
             ],
             [
              0.3333333333333333,
              "#9c179e"
             ],
             [
              0.4444444444444444,
              "#bd3786"
             ],
             [
              0.5555555555555556,
              "#d8576b"
             ],
             [
              0.6666666666666666,
              "#ed7953"
             ],
             [
              0.7777777777777778,
              "#fb9f3a"
             ],
             [
              0.8888888888888888,
              "#fdca26"
             ],
             [
              1,
              "#f0f921"
             ]
            ],
            "type": "surface"
           }
          ],
          "table": [
           {
            "cells": {
             "fill": {
              "color": "#EBF0F8"
             },
             "line": {
              "color": "white"
             }
            },
            "header": {
             "fill": {
              "color": "#C8D4E3"
             },
             "line": {
              "color": "white"
             }
            },
            "type": "table"
           }
          ]
         },
         "layout": {
          "annotationdefaults": {
           "arrowcolor": "#2a3f5f",
           "arrowhead": 0,
           "arrowwidth": 1
          },
          "autotypenumbers": "strict",
          "coloraxis": {
           "colorbar": {
            "outlinewidth": 0,
            "ticks": ""
           }
          },
          "colorscale": {
           "diverging": [
            [
             0,
             "#8e0152"
            ],
            [
             0.1,
             "#c51b7d"
            ],
            [
             0.2,
             "#de77ae"
            ],
            [
             0.3,
             "#f1b6da"
            ],
            [
             0.4,
             "#fde0ef"
            ],
            [
             0.5,
             "#f7f7f7"
            ],
            [
             0.6,
             "#e6f5d0"
            ],
            [
             0.7,
             "#b8e186"
            ],
            [
             0.8,
             "#7fbc41"
            ],
            [
             0.9,
             "#4d9221"
            ],
            [
             1,
             "#276419"
            ]
           ],
           "sequential": [
            [
             0,
             "#0d0887"
            ],
            [
             0.1111111111111111,
             "#46039f"
            ],
            [
             0.2222222222222222,
             "#7201a8"
            ],
            [
             0.3333333333333333,
             "#9c179e"
            ],
            [
             0.4444444444444444,
             "#bd3786"
            ],
            [
             0.5555555555555556,
             "#d8576b"
            ],
            [
             0.6666666666666666,
             "#ed7953"
            ],
            [
             0.7777777777777778,
             "#fb9f3a"
            ],
            [
             0.8888888888888888,
             "#fdca26"
            ],
            [
             1,
             "#f0f921"
            ]
           ],
           "sequentialminus": [
            [
             0,
             "#0d0887"
            ],
            [
             0.1111111111111111,
             "#46039f"
            ],
            [
             0.2222222222222222,
             "#7201a8"
            ],
            [
             0.3333333333333333,
             "#9c179e"
            ],
            [
             0.4444444444444444,
             "#bd3786"
            ],
            [
             0.5555555555555556,
             "#d8576b"
            ],
            [
             0.6666666666666666,
             "#ed7953"
            ],
            [
             0.7777777777777778,
             "#fb9f3a"
            ],
            [
             0.8888888888888888,
             "#fdca26"
            ],
            [
             1,
             "#f0f921"
            ]
           ]
          },
          "colorway": [
           "#636efa",
           "#EF553B",
           "#00cc96",
           "#ab63fa",
           "#FFA15A",
           "#19d3f3",
           "#FF6692",
           "#B6E880",
           "#FF97FF",
           "#FECB52"
          ],
          "font": {
           "color": "#2a3f5f"
          },
          "geo": {
           "bgcolor": "white",
           "lakecolor": "white",
           "landcolor": "#E5ECF6",
           "showlakes": true,
           "showland": true,
           "subunitcolor": "white"
          },
          "hoverlabel": {
           "align": "left"
          },
          "hovermode": "closest",
          "mapbox": {
           "style": "light"
          },
          "paper_bgcolor": "white",
          "plot_bgcolor": "#E5ECF6",
          "polar": {
           "angularaxis": {
            "gridcolor": "white",
            "linecolor": "white",
            "ticks": ""
           },
           "bgcolor": "#E5ECF6",
           "radialaxis": {
            "gridcolor": "white",
            "linecolor": "white",
            "ticks": ""
           }
          },
          "scene": {
           "xaxis": {
            "backgroundcolor": "#E5ECF6",
            "gridcolor": "white",
            "gridwidth": 2,
            "linecolor": "white",
            "showbackground": true,
            "ticks": "",
            "zerolinecolor": "white"
           },
           "yaxis": {
            "backgroundcolor": "#E5ECF6",
            "gridcolor": "white",
            "gridwidth": 2,
            "linecolor": "white",
            "showbackground": true,
            "ticks": "",
            "zerolinecolor": "white"
           },
           "zaxis": {
            "backgroundcolor": "#E5ECF6",
            "gridcolor": "white",
            "gridwidth": 2,
            "linecolor": "white",
            "showbackground": true,
            "ticks": "",
            "zerolinecolor": "white"
           }
          },
          "shapedefaults": {
           "line": {
            "color": "#2a3f5f"
           }
          },
          "ternary": {
           "aaxis": {
            "gridcolor": "white",
            "linecolor": "white",
            "ticks": ""
           },
           "baxis": {
            "gridcolor": "white",
            "linecolor": "white",
            "ticks": ""
           },
           "bgcolor": "#E5ECF6",
           "caxis": {
            "gridcolor": "white",
            "linecolor": "white",
            "ticks": ""
           }
          },
          "title": {
           "x": 0.05
          },
          "xaxis": {
           "automargin": true,
           "gridcolor": "white",
           "linecolor": "white",
           "ticks": "",
           "title": {
            "standoff": 15
           },
           "zerolinecolor": "white",
           "zerolinewidth": 2
          },
          "yaxis": {
           "automargin": true,
           "gridcolor": "white",
           "linecolor": "white",
           "ticks": "",
           "title": {
            "standoff": 15
           },
           "zerolinecolor": "white",
           "zerolinewidth": 2
          }
         }
        },
        "title": {
         "text": "Slice Plot"
        },
        "xaxis": {
         "anchor": "y",
         "autorange": true,
         "domain": [
          0,
          0.45
         ],
         "range": [
          -0.06737971429723713,
          1.600693146707238
         ],
         "title": {
          "text": "max_depth"
         },
         "type": "log"
        },
        "xaxis2": {
         "anchor": "y2",
         "autorange": true,
         "domain": [
          0.55,
          1
         ],
         "range": [
          -4.524064916068818,
          212.52406491606882
         ],
         "title": {
          "text": "n_estimators"
         },
         "type": "linear"
        },
        "yaxis": {
         "anchor": "x",
         "autorange": true,
         "domain": [
          0,
          1
         ],
         "range": [
          -0.19964630609933692,
          -0.05037992283858968
         ],
         "title": {
          "text": "Objective Value"
         },
         "type": "linear"
        },
        "yaxis2": {
         "anchor": "x2",
         "autorange": true,
         "domain": [
          0,
          1
         ],
         "matches": "y",
         "range": [
          -0.19964630609933692,
          -0.05037992283858968
         ],
         "showticklabels": false,
         "type": "linear"
        }
       }
      },
      "image/png": "[encoded data removed]",
      "text/html": [
       "<div>                            <div id=\"5a4688ac-9d2f-4ada-8ea1-f7391b2a30a4\" class=\"plotly-graph-div\" style=\"height:525px; width:100%;\"></div>            <script type=\"text/javascript\">                require([\"plotly\"], function(Plotly) {                    window.PLOTLYENV=window.PLOTLYENV || {};                                    if (document.getElementById(\"5a4688ac-9d2f-4ada-8ea1-f7391b2a30a4\")) {                    Plotly.newPlot(                        \"5a4688ac-9d2f-4ada-8ea1-f7391b2a30a4\",                        [{\"marker\":{\"color\":[0,1,2,3,4,5,6,7,8,9,10,11,12,13,14,15,16,17,18,19,20,21,22,23,24,25,26,27,28,29,30,31,32,33,34,35,36,37,38,39,40,41,42,43,44,45,46,47,48,49,50,51,52,53,54,55,56,57,58,59,60,61,62,63,64,65,66,67,68,69,70,71,72,73,74,75,76,77,78,79,80,81,82,83,84,85,86,87,88,89,90,91,92,93,94,95,96,97,98,99],\"colorbar\":{\"title\":{\"text\":\"#Trials\"},\"x\":1.0,\"xpad\":40},\"colorscale\":[[0.0,\"rgb(247,251,255)\"],[0.125,\"rgb(222,235,247)\"],[0.25,\"rgb(198,219,239)\"],[0.375,\"rgb(158,202,225)\"],[0.5,\"rgb(107,174,214)\"],[0.625,\"rgb(66,146,198)\"],[0.75,\"rgb(33,113,181)\"],[0.875,\"rgb(8,81,156)\"],[1.0,\"rgb(8,48,107)\"]],\"line\":{\"color\":\"Grey\",\"width\":0.5},\"showscale\":true},\"mode\":\"markers\",\"showlegend\":false,\"type\":\"scatter\",\"x\":[3.5174491980808376,12.933442358650487,2.734731569780339,11.328574319047933,8.06491259417523,12.287690046019284,1.2021572934709497,16.278163526947946,14.48661817041077,1.507798681507505,28.67003481339737,29.66370648699038,31.540466468717945,20.54214658143693,20.048958611760256,5.232152020750818,6.616043037231413,19.735356655315385,19.1391412572117,9.353298162202998,4.445556187535792,19.445721267539263,17.346093606947456,23.31662967088997,24.588233569046295,8.946628365372385,13.939401866578004,23.090117619591005,2.152657130771295,16.085188109697793,6.88484177616154,16.865784301423087,10.614832052257773,14.877690329061013,25.950887138491588,11.449681878883304,16.11694633102145,3.1067729225683083,23.260731957986728,24.548325273791434,23.60578398433369,25.900505232379604,13.328974783995447,22.07333984021028,31.94732463214078,17.37784120464349,28.384322367072492,18.502644733210833,18.992858375455288,12.320501737823964,1.068737554337405,18.06207576823034,20.58710948204271,10.373613261899605,27.185466102619575,14.164119623520776,18.38692802535268,21.20690371009591,20.7984585719935,28.57883819925379,3.995544314732925,18.053149962494064,15.624475328079074,21.294523745568807,22.032374663949735,22.35483011630861,24.30262161707333,31.710763590423433,26.2982638187955,25.68873047828118,28.829924246920807,28.16213944164105,29.32624654112424,21.19295540455036,2.187907830908161,24.341007652332436,24.674764742481102,27.85349271657254,30.375355517691997,24.050551377501122,19.945435543535353,21.93760435727162,23.521539917841405,26.04887186726183,27.45628880326542,26.10422599693942,29.8931891436091,22.172851368456268,19.734263721198822,5.393613001414895,31.94790336265518,27.499652282538207,31.340449642219777,27.16434141296257,21.93954205903983,6.589675300786444,16.509592102544165,25.458310667640717,19.33129563868133,25.566656606952506],\"xaxis\":\"x\",\"y\":[-0.13118472607997464,-0.06325575097796378,-0.15939783425454576,-0.06477716952424113,-0.0733731463015313,-0.06319433783082302,-0.18837102326768365,-0.06142121957637372,-0.06500717097879154,-0.18893276954668914,-0.0622049352344673,-0.06192693378082429,-0.062087125100364994,-0.061523963875212785,-0.061467826802519415,-0.09652393803516211,-0.08621949072185237,-0.06186803265823446,-0.06130727866861833,-0.06950334280361799,-0.1099273488849503,-0.06143290823712435,-0.061496074797567545,-0.061264482462936885,-0.06149315058542156,-0.07353717219278956,-0.06244755175508365,-0.06154950690083346,-0.15850360111432496,-0.06135437608793739,-0.08609414054539,-0.06167397107226389,-0.06638677243180106,-0.06195014019458214,-0.061569072627897854,-0.06495035248546209,-0.06186456831667395,-0.13083178042707677,-0.061318952062225235,-0.06119751345201333,-0.06141593518568611,-0.061423786754408925,-0.06237005176504543,-0.06143335447266864,-0.06154896229979118,-0.06131113812828661,-0.06132702879773393,-0.061318273988611026,-0.0611232499375928,-0.06346055689967409,-0.18907327061836732,-0.06131336358515014,-0.06142103024950529,-0.0664729714444875,-0.06826977610195815,-0.062151303519331035,-0.061445435792371224,-0.06120092715507721,-0.0614055473779222,-0.06159258901192499,-0.1309730026752555,-0.06131973567142144,-0.06155217651118553,-0.06104355670717759,-0.06112904860392065,-0.06134231801613458,-0.06119453322033409,-0.06145634831828123,-0.06124348892234238,-0.0613107207394431,-0.061059738140438045,-0.061187191256483996,-0.06135334674508112,-0.06135519462702116,-0.1587943538883235,-0.06101062441540366,-0.06128071720723253,-0.061254997375558416,-0.06127226976618785,-0.06278063612338569,-0.06124152017653479,-0.06114922549836008,-0.061417351464841,-0.06112814988561003,-0.06095295831955927,-0.061297732019511074,-0.06138415591375601,-0.06124308800938113,-0.061267223739147635,-0.09634318039595584,-0.0611689137970792,-0.06117527533404902,-0.061330197220677125,-0.06118942343859751,-0.06142288536609065,-0.08629006329801399,-0.0615209617389517,-0.06114319322498595,-0.06124965472707866,-0.06100401536873795],\"yaxis\":\"y\"},{\"marker\":{\"color\":[0,1,2,3,4,5,6,7,8,9,10,11,12,13,14,15,16,17,18,19,20,21,22,23,24,25,26,27,28,29,30,31,32,33,34,35,36,37,38,39,40,41,42,43,44,45,46,47,48,49,50,51,52,53,54,55,56,57,58,59,60,61,62,63,64,65,66,67,68,69,70,71,72,73,74,75,76,77,78,79,80,81,82,83,84,85,86,87,88,89,90,91,92,93,94,95,96,97,98,99],\"colorbar\":{\"title\":{\"text\":\"#Trials\"},\"x\":1.0,\"xpad\":40},\"colorscale\":[[0.0,\"rgb(247,251,255)\"],[0.125,\"rgb(222,235,247)\"],[0.25,\"rgb(198,219,239)\"],[0.375,\"rgb(158,202,225)\"],[0.5,\"rgb(107,174,214)\"],[0.625,\"rgb(66,146,198)\"],[0.75,\"rgb(33,113,181)\"],[0.875,\"rgb(8,81,156)\"],[1.0,\"rgb(8,48,107)\"]],\"line\":{\"color\":\"Grey\",\"width\":0.5},\"showscale\":false},\"mode\":\"markers\",\"showlegend\":false,\"type\":\"scatter\",\"x\":[170,155,119,98,200,196,94,139,18,183,57,50,54,134,138,136,154,83,127,114,74,138,157,119,114,118,171,127,104,147,168,147,170,151,124,104,84,184,144,163,163,147,182,124,146,161,190,176,176,198,161,177,180,188,8,163,176,130,130,113,94,157,134,193,193,192,199,192,198,199,187,200,187,193,171,184,182,200,187,42,194,175,174,168,185,186,167,182,178,172,190,193,190,167,185,179,191,196,195,183],\"xaxis\":\"x2\",\"y\":[-0.13118472607997464,-0.06325575097796378,-0.15939783425454576,-0.06477716952424113,-0.0733731463015313,-0.06319433783082302,-0.18837102326768365,-0.06142121957637372,-0.06500717097879154,-0.18893276954668914,-0.0622049352344673,-0.06192693378082429,-0.062087125100364994,-0.061523963875212785,-0.061467826802519415,-0.09652393803516211,-0.08621949072185237,-0.06186803265823446,-0.06130727866861833,-0.06950334280361799,-0.1099273488849503,-0.06143290823712435,-0.061496074797567545,-0.061264482462936885,-0.06149315058542156,-0.07353717219278956,-0.06244755175508365,-0.06154950690083346,-0.15850360111432496,-0.06135437608793739,-0.08609414054539,-0.06167397107226389,-0.06638677243180106,-0.06195014019458214,-0.061569072627897854,-0.06495035248546209,-0.06186456831667395,-0.13083178042707677,-0.061318952062225235,-0.06119751345201333,-0.06141593518568611,-0.061423786754408925,-0.06237005176504543,-0.06143335447266864,-0.06154896229979118,-0.06131113812828661,-0.06132702879773393,-0.061318273988611026,-0.0611232499375928,-0.06346055689967409,-0.18907327061836732,-0.06131336358515014,-0.06142103024950529,-0.0664729714444875,-0.06826977610195815,-0.062151303519331035,-0.061445435792371224,-0.06120092715507721,-0.0614055473779222,-0.06159258901192499,-0.1309730026752555,-0.06131973567142144,-0.06155217651118553,-0.06104355670717759,-0.06112904860392065,-0.06134231801613458,-0.06119453322033409,-0.06145634831828123,-0.06124348892234238,-0.0613107207394431,-0.061059738140438045,-0.061187191256483996,-0.06135334674508112,-0.06135519462702116,-0.1587943538883235,-0.06101062441540366,-0.06128071720723253,-0.061254997375558416,-0.06127226976618785,-0.06278063612338569,-0.06124152017653479,-0.06114922549836008,-0.061417351464841,-0.06112814988561003,-0.06095295831955927,-0.061297732019511074,-0.06138415591375601,-0.06124308800938113,-0.061267223739147635,-0.09634318039595584,-0.0611689137970792,-0.06117527533404902,-0.061330197220677125,-0.06118942343859751,-0.06142288536609065,-0.08629006329801399,-0.0615209617389517,-0.06114319322498595,-0.06124965472707866,-0.06100401536873795],\"yaxis\":\"y2\"}],                        {\"template\":{\"data\":{\"bar\":[{\"error_x\":{\"color\":\"#2a3f5f\"},\"error_y\":{\"color\":\"#2a3f5f\"},\"marker\":{\"line\":{\"color\":\"#E5ECF6\",\"width\":0.5},\"pattern\":{\"fillmode\":\"overlay\",\"size\":10,\"solidity\":0.2}},\"type\":\"bar\"}],\"barpolar\":[{\"marker\":{\"line\":{\"color\":\"#E5ECF6\",\"width\":0.5},\"pattern\":{\"fillmode\":\"overlay\",\"size\":10,\"solidity\":0.2}},\"type\":\"barpolar\"}],\"carpet\":[{\"aaxis\":{\"endlinecolor\":\"#2a3f5f\",\"gridcolor\":\"white\",\"linecolor\":\"white\",\"minorgridcolor\":\"white\",\"startlinecolor\":\"#2a3f5f\"},\"baxis\":{\"endlinecolor\":\"#2a3f5f\",\"gridcolor\":\"white\",\"linecolor\":\"white\",\"minorgridcolor\":\"white\",\"startlinecolor\":\"#2a3f5f\"},\"type\":\"carpet\"}],\"choropleth\":[{\"colorbar\":{\"outlinewidth\":0,\"ticks\":\"\"},\"type\":\"choropleth\"}],\"contour\":[{\"colorbar\":{\"outlinewidth\":0,\"ticks\":\"\"},\"colorscale\":[[0.0,\"#0d0887\"],[0.1111111111111111,\"#46039f\"],[0.2222222222222222,\"#7201a8\"],[0.3333333333333333,\"#9c179e\"],[0.4444444444444444,\"#bd3786\"],[0.5555555555555556,\"#d8576b\"],[0.6666666666666666,\"#ed7953\"],[0.7777777777777778,\"#fb9f3a\"],[0.8888888888888888,\"#fdca26\"],[1.0,\"#f0f921\"]],\"type\":\"contour\"}],\"contourcarpet\":[{\"colorbar\":{\"outlinewidth\":0,\"ticks\":\"\"},\"type\":\"contourcarpet\"}],\"heatmap\":[{\"colorbar\":{\"outlinewidth\":0,\"ticks\":\"\"},\"colorscale\":[[0.0,\"#0d0887\"],[0.1111111111111111,\"#46039f\"],[0.2222222222222222,\"#7201a8\"],[0.3333333333333333,\"#9c179e\"],[0.4444444444444444,\"#bd3786\"],[0.5555555555555556,\"#d8576b\"],[0.6666666666666666,\"#ed7953\"],[0.7777777777777778,\"#fb9f3a\"],[0.8888888888888888,\"#fdca26\"],[1.0,\"#f0f921\"]],\"type\":\"heatmap\"}],\"heatmapgl\":[{\"colorbar\":{\"outlinewidth\":0,\"ticks\":\"\"},\"colorscale\":[[0.0,\"#0d0887\"],[0.1111111111111111,\"#46039f\"],[0.2222222222222222,\"#7201a8\"],[0.3333333333333333,\"#9c179e\"],[0.4444444444444444,\"#bd3786\"],[0.5555555555555556,\"#d8576b\"],[0.6666666666666666,\"#ed7953\"],[0.7777777777777778,\"#fb9f3a\"],[0.8888888888888888,\"#fdca26\"],[1.0,\"#f0f921\"]],\"type\":\"heatmapgl\"}],\"histogram\":[{\"marker\":{\"pattern\":{\"fillmode\":\"overlay\",\"size\":10,\"solidity\":0.2}},\"type\":\"histogram\"}],\"histogram2d\":[{\"colorbar\":{\"outlinewidth\":0,\"ticks\":\"\"},\"colorscale\":[[0.0,\"#0d0887\"],[0.1111111111111111,\"#46039f\"],[0.2222222222222222,\"#7201a8\"],[0.3333333333333333,\"#9c179e\"],[0.4444444444444444,\"#bd3786\"],[0.5555555555555556,\"#d8576b\"],[0.6666666666666666,\"#ed7953\"],[0.7777777777777778,\"#fb9f3a\"],[0.8888888888888888,\"#fdca26\"],[1.0,\"#f0f921\"]],\"type\":\"histogram2d\"}],\"histogram2dcontour\":[{\"colorbar\":{\"outlinewidth\":0,\"ticks\":\"\"},\"colorscale\":[[0.0,\"#0d0887\"],[0.1111111111111111,\"#46039f\"],[0.2222222222222222,\"#7201a8\"],[0.3333333333333333,\"#9c179e\"],[0.4444444444444444,\"#bd3786\"],[0.5555555555555556,\"#d8576b\"],[0.6666666666666666,\"#ed7953\"],[0.7777777777777778,\"#fb9f3a\"],[0.8888888888888888,\"#fdca26\"],[1.0,\"#f0f921\"]],\"type\":\"histogram2dcontour\"}],\"mesh3d\":[{\"colorbar\":{\"outlinewidth\":0,\"ticks\":\"\"},\"type\":\"mesh3d\"}],\"parcoords\":[{\"line\":{\"colorbar\":{\"outlinewidth\":0,\"ticks\":\"\"}},\"type\":\"parcoords\"}],\"pie\":[{\"automargin\":true,\"type\":\"pie\"}],\"scatter\":[{\"marker\":{\"colorbar\":{\"outlinewidth\":0,\"ticks\":\"\"}},\"type\":\"scatter\"}],\"scatter3d\":[{\"line\":{\"colorbar\":{\"outlinewidth\":0,\"ticks\":\"\"}},\"marker\":{\"colorbar\":{\"outlinewidth\":0,\"ticks\":\"\"}},\"type\":\"scatter3d\"}],\"scattercarpet\":[{\"marker\":{\"colorbar\":{\"outlinewidth\":0,\"ticks\":\"\"}},\"type\":\"scattercarpet\"}],\"scattergeo\":[{\"marker\":{\"colorbar\":{\"outlinewidth\":0,\"ticks\":\"\"}},\"type\":\"scattergeo\"}],\"scattergl\":[{\"marker\":{\"colorbar\":{\"outlinewidth\":0,\"ticks\":\"\"}},\"type\":\"scattergl\"}],\"scattermapbox\":[{\"marker\":{\"colorbar\":{\"outlinewidth\":0,\"ticks\":\"\"}},\"type\":\"scattermapbox\"}],\"scatterpolar\":[{\"marker\":{\"colorbar\":{\"outlinewidth\":0,\"ticks\":\"\"}},\"type\":\"scatterpolar\"}],\"scatterpolargl\":[{\"marker\":{\"colorbar\":{\"outlinewidth\":0,\"ticks\":\"\"}},\"type\":\"scatterpolargl\"}],\"scatterternary\":[{\"marker\":{\"colorbar\":{\"outlinewidth\":0,\"ticks\":\"\"}},\"type\":\"scatterternary\"}],\"surface\":[{\"colorbar\":{\"outlinewidth\":0,\"ticks\":\"\"},\"colorscale\":[[0.0,\"#0d0887\"],[0.1111111111111111,\"#46039f\"],[0.2222222222222222,\"#7201a8\"],[0.3333333333333333,\"#9c179e\"],[0.4444444444444444,\"#bd3786\"],[0.5555555555555556,\"#d8576b\"],[0.6666666666666666,\"#ed7953\"],[0.7777777777777778,\"#fb9f3a\"],[0.8888888888888888,\"#fdca26\"],[1.0,\"#f0f921\"]],\"type\":\"surface\"}],\"table\":[{\"cells\":{\"fill\":{\"color\":\"#EBF0F8\"},\"line\":{\"color\":\"white\"}},\"header\":{\"fill\":{\"color\":\"#C8D4E3\"},\"line\":{\"color\":\"white\"}},\"type\":\"table\"}]},\"layout\":{\"annotationdefaults\":{\"arrowcolor\":\"#2a3f5f\",\"arrowhead\":0,\"arrowwidth\":1},\"autotypenumbers\":\"strict\",\"coloraxis\":{\"colorbar\":{\"outlinewidth\":0,\"ticks\":\"\"}},\"colorscale\":{\"diverging\":[[0,\"#8e0152\"],[0.1,\"#c51b7d\"],[0.2,\"#de77ae\"],[0.3,\"#f1b6da\"],[0.4,\"#fde0ef\"],[0.5,\"#f7f7f7\"],[0.6,\"#e6f5d0\"],[0.7,\"#b8e186\"],[0.8,\"#7fbc41\"],[0.9,\"#4d9221\"],[1,\"#276419\"]],\"sequential\":[[0.0,\"#0d0887\"],[0.1111111111111111,\"#46039f\"],[0.2222222222222222,\"#7201a8\"],[0.3333333333333333,\"#9c179e\"],[0.4444444444444444,\"#bd3786\"],[0.5555555555555556,\"#d8576b\"],[0.6666666666666666,\"#ed7953\"],[0.7777777777777778,\"#fb9f3a\"],[0.8888888888888888,\"#fdca26\"],[1.0,\"#f0f921\"]],\"sequentialminus\":[[0.0,\"#0d0887\"],[0.1111111111111111,\"#46039f\"],[0.2222222222222222,\"#7201a8\"],[0.3333333333333333,\"#9c179e\"],[0.4444444444444444,\"#bd3786\"],[0.5555555555555556,\"#d8576b\"],[0.6666666666666666,\"#ed7953\"],[0.7777777777777778,\"#fb9f3a\"],[0.8888888888888888,\"#fdca26\"],[1.0,\"#f0f921\"]]},\"colorway\":[\"#636efa\",\"#EF553B\",\"#00cc96\",\"#ab63fa\",\"#FFA15A\",\"#19d3f3\",\"#FF6692\",\"#B6E880\",\"#FF97FF\",\"#FECB52\"],\"font\":{\"color\":\"#2a3f5f\"},\"geo\":{\"bgcolor\":\"white\",\"lakecolor\":\"white\",\"landcolor\":\"#E5ECF6\",\"showlakes\":true,\"showland\":true,\"subunitcolor\":\"white\"},\"hoverlabel\":{\"align\":\"left\"},\"hovermode\":\"closest\",\"mapbox\":{\"style\":\"light\"},\"paper_bgcolor\":\"white\",\"plot_bgcolor\":\"#E5ECF6\",\"polar\":{\"angularaxis\":{\"gridcolor\":\"white\",\"linecolor\":\"white\",\"ticks\":\"\"},\"bgcolor\":\"#E5ECF6\",\"radialaxis\":{\"gridcolor\":\"white\",\"linecolor\":\"white\",\"ticks\":\"\"}},\"scene\":{\"xaxis\":{\"backgroundcolor\":\"#E5ECF6\",\"gridcolor\":\"white\",\"gridwidth\":2,\"linecolor\":\"white\",\"showbackground\":true,\"ticks\":\"\",\"zerolinecolor\":\"white\"},\"yaxis\":{\"backgroundcolor\":\"#E5ECF6\",\"gridcolor\":\"white\",\"gridwidth\":2,\"linecolor\":\"white\",\"showbackground\":true,\"ticks\":\"\",\"zerolinecolor\":\"white\"},\"zaxis\":{\"backgroundcolor\":\"#E5ECF6\",\"gridcolor\":\"white\",\"gridwidth\":2,\"linecolor\":\"white\",\"showbackground\":true,\"ticks\":\"\",\"zerolinecolor\":\"white\"}},\"shapedefaults\":{\"line\":{\"color\":\"#2a3f5f\"}},\"ternary\":{\"aaxis\":{\"gridcolor\":\"white\",\"linecolor\":\"white\",\"ticks\":\"\"},\"baxis\":{\"gridcolor\":\"white\",\"linecolor\":\"white\",\"ticks\":\"\"},\"bgcolor\":\"#E5ECF6\",\"caxis\":{\"gridcolor\":\"white\",\"linecolor\":\"white\",\"ticks\":\"\"}},\"title\":{\"x\":0.05},\"xaxis\":{\"automargin\":true,\"gridcolor\":\"white\",\"linecolor\":\"white\",\"ticks\":\"\",\"title\":{\"standoff\":15},\"zerolinecolor\":\"white\",\"zerolinewidth\":2},\"yaxis\":{\"automargin\":true,\"gridcolor\":\"white\",\"linecolor\":\"white\",\"ticks\":\"\",\"title\":{\"standoff\":15},\"zerolinecolor\":\"white\",\"zerolinewidth\":2}}},\"title\":{\"text\":\"Slice Plot\"},\"xaxis\":{\"anchor\":\"y\",\"domain\":[0.0,0.45],\"title\":{\"text\":\"max_depth\"},\"type\":\"log\"},\"xaxis2\":{\"anchor\":\"y2\",\"domain\":[0.55,1.0],\"title\":{\"text\":\"n_estimators\"}},\"yaxis\":{\"anchor\":\"x\",\"domain\":[0.0,1.0],\"title\":{\"text\":\"Objective Value\"}},\"yaxis2\":{\"anchor\":\"x2\",\"domain\":[0.0,1.0],\"matches\":\"y\",\"showticklabels\":false}},                        {\"responsive\": true}                    ).then(function(){\n",
       "                            \n",
       "var gd = document.getElementById('5a4688ac-9d2f-4ada-8ea1-f7391b2a30a4');\n",
       "var x = new MutationObserver(function (mutations, observer) {{\n",
       "        var display = window.getComputedStyle(gd).display;\n",
       "        if (!display || display === 'none') {{\n",
       "            console.log([gd, 'removed!']);\n",
       "            Plotly.purge(gd);\n",
       "            observer.disconnect();\n",
       "        }}\n",
       "}});\n",
       "\n",
       "// Listen for the removal of the full notebook cells\n",
       "var notebookContainer = gd.closest('#notebook-container');\n",
       "if (notebookContainer) {{\n",
       "    x.observe(notebookContainer, {childList: true});\n",
       "}}\n",
       "\n",
       "// Listen for the clearing of the current output cell\n",
       "var outputEl = gd.closest('.output');\n",
       "if (outputEl) {{\n",
       "    x.observe(outputEl, {childList: true});\n",
       "}}\n",
       "\n",
       "                        })                };                });            </script>        </div>"
      ]
     },
     "metadata": {},
     "output_type": "display_data"
    }
   ],
   "source": [
    "optuna.visualization.plot_slice(study)\n",
    "\n",
    "# Uncomment to write figure\n",
    "# fig2 = optuna.visualization.plot_slice(study)\n",
    "# fig2.write_image('optuna_slice_plot.png')"
   ]
  },
  {
   "cell_type": "markdown",
   "id": "adequate-ukraine",
   "metadata": {},
   "source": [
    "Information about the trails can be extracted from the study:"
   ]
  },
  {
   "cell_type": "code",
   "execution_count": 20,
   "id": "wired-melbourne",
   "metadata": {},
   "outputs": [
    {
     "data": {
      "text/plain": [
       "FrozenTrial(number=84, values=[-0.06095295831955927], datetime_start=datetime.datetime(2021, 8, 12, 10, 55, 33, 335544), datetime_complete=datetime.datetime(2021, 8, 12, 10, 56, 1, 720384), params={'n_estimators': 185, 'max_depth': 27.45628880326542}, distributions={'n_estimators': IntUniformDistribution(high=200, low=2, step=1), 'max_depth': LogUniformDistribution(high=32.0, low=1.0)}, user_attrs={}, system_attrs={}, intermediate_values={}, trial_id=84, state=TrialState.COMPLETE, value=None)"
      ]
     },
     "execution_count": 20,
     "metadata": {},
     "output_type": "execute_result"
    }
   ],
   "source": [
    "trial = study.best_trial\n",
    "trial"
   ]
  },
  {
   "cell_type": "code",
   "execution_count": 21,
   "id": "threatened-subject",
   "metadata": {},
   "outputs": [
    {
     "data": {
      "text/plain": [
       "[-0.06095295831955927]"
      ]
     },
     "execution_count": 21,
     "metadata": {},
     "output_type": "execute_result"
    }
   ],
   "source": [
    "trial.values"
   ]
  },
  {
   "cell_type": "code",
   "execution_count": null,
   "id": "pursuant-librarian",
   "metadata": {},
   "outputs": [],
   "source": []
  }
 ],
 "metadata": {
  "kernelspec": {
   "display_name": "Python 3",
   "language": "python",
   "name": "python3"
  },
  "language_info": {
   "codemirror_mode": {
    "name": "ipython",
    "version": 3
   },
   "file_extension": ".py",
   "mimetype": "text/x-python",
   "name": "python",
   "nbconvert_exporter": "python",
   "pygments_lexer": "ipython3",
   "version": "3.7.9"
  }
 },
 "nbformat": 4,
 "nbformat_minor": 5
}
