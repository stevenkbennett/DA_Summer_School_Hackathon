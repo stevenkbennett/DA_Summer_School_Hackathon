{
 "cells": [
  {
   "cell_type": "markdown",
   "metadata": {},
   "source": [
    "# FoNS Datathon 2021 "
   ]
  },
  {
   "cell_type": "code",
   "execution_count": 1,
   "metadata": {},
   "outputs": [],
   "source": [
    "# Import pandas to store data in tables (called DataFrames)\n",
    "import pandas as pd\n",
    "\n",
    "# numpy arrays to store numbers in vector sequences\n",
    "import numpy as np\n",
    "\n",
    "# matplotlib is the graphical library used to show the correlation between\n",
    "# predicted values and actual values.\n",
    "import matplotlib.pyplot as plt\n",
    "\n",
    "# sklearn (sci-kit-learn) is the library which contains all the machine learning algortihms.\n",
    "from sklearn import *\n"
   ]
  },
  {
   "cell_type": "code",
   "execution_count": 3,
   "metadata": {},
   "outputs": [],
   "source": [
    "# Import the training datasets via pandas \"read_csv(filepath.csv)\" function.\n",
    "# As the files are in the same folder as the \"Getting_started.ipynb\" notebook file\n",
    "# we dont need to include a filepath, just the name of the file.\n",
    "train_descriptors = pd.read_csv(\"train_descriptors.csv\")\n",
    "train_mord3d = pd.read_csv(\"train_mord3d.csv\")\n",
    "train_morgan = pd.read_csv(\"train_morgan.csv\")\n",
    "train_rdk = pd.read_csv(\"train_rdk.csv\")\n",
    "\n",
    "train_crystals = pd.read_csv(\"train_crystals.csv\")\n",
    "train_distances = pd.read_csv(\"train_distances.csv\")\n",
    "train_centroid_distances = pd.read_csv(\"train_centroid_distances.csv\")"
   ]
  },
  {
   "cell_type": "code",
   "execution_count": 4,
   "metadata": {},
   "outputs": [],
   "source": [
    "# Same as above for the test sets\n",
    "test_descriptors = pd.read_csv(\"test_descriptors.csv\")\n",
    "test_mord3d = pd.read_csv(\"test_mord3d.csv\")\n",
    "test_morgan = pd.read_csv(\"test_morgan.csv\")\n",
    "test_rdk = pd.read_csv(\"test_rdk.csv\")"
   ]
  },
  {
   "cell_type": "code",
   "execution_count": 5,
   "metadata": {},
   "outputs": [
    {
     "data": {
      "text/html": [
       "<div>\n",
       "<style scoped>\n",
       "    .dataframe tbody tr th:only-of-type {\n",
       "        vertical-align: middle;\n",
       "    }\n",
       "\n",
       "    .dataframe tbody tr th {\n",
       "        vertical-align: top;\n",
       "    }\n",
       "\n",
       "    .dataframe thead th {\n",
       "        text-align: right;\n",
       "    }\n",
       "</style>\n",
       "<table border=\"1\" class=\"dataframe\">\n",
       "  <thead>\n",
       "    <tr style=\"text-align: right;\">\n",
       "      <th></th>\n",
       "      <th>identifiers</th>\n",
       "      <th>Unnamed: 0</th>\n",
       "      <th>name</th>\n",
       "      <th>ABC</th>\n",
       "      <th>ABCGG</th>\n",
       "      <th>nAcid</th>\n",
       "      <th>nBase</th>\n",
       "      <th>SpAbs_A</th>\n",
       "      <th>SpMax_A</th>\n",
       "      <th>SpDiam_A</th>\n",
       "      <th>...</th>\n",
       "      <th>MW</th>\n",
       "      <th>AMW</th>\n",
       "      <th>WPath</th>\n",
       "      <th>WPol</th>\n",
       "      <th>Zagreb1</th>\n",
       "      <th>Zagreb2</th>\n",
       "      <th>mZagreb1</th>\n",
       "      <th>mZagreb2</th>\n",
       "      <th>InchiKey</th>\n",
       "      <th>SMILES</th>\n",
       "    </tr>\n",
       "  </thead>\n",
       "  <tbody>\n",
       "    <tr>\n",
       "      <th>0</th>\n",
       "      <td>COXSUE</td>\n",
       "      <td>11365</td>\n",
       "      <td>Optimised_Molecules_V3.3460</td>\n",
       "      <td>8.773011</td>\n",
       "      <td>8.632564</td>\n",
       "      <td>0</td>\n",
       "      <td>0</td>\n",
       "      <td>14.599164</td>\n",
       "      <td>2.244739</td>\n",
       "      <td>4.388162</td>\n",
       "      <td>...</td>\n",
       "      <td>185.062283</td>\n",
       "      <td>8.046186</td>\n",
       "      <td>219</td>\n",
       "      <td>11</td>\n",
       "      <td>54.0</td>\n",
       "      <td>58.0</td>\n",
       "      <td>4.833333</td>\n",
       "      <td>2.777778</td>\n",
       "      <td>UYSCRWBEPUAZRA-UHFFFAOYSA-N</td>\n",
       "      <td>CC(=O)NN=C(C)C1=NCCS1</td>\n",
       "    </tr>\n",
       "    <tr>\n",
       "      <th>1</th>\n",
       "      <td>TUWFAU</td>\n",
       "      <td>58476</td>\n",
       "      <td>Optimised_Molecules_V3.19496</td>\n",
       "      <td>10.813451</td>\n",
       "      <td>10.346393</td>\n",
       "      <td>0</td>\n",
       "      <td>0</td>\n",
       "      <td>18.488707</td>\n",
       "      <td>2.357869</td>\n",
       "      <td>4.715737</td>\n",
       "      <td>...</td>\n",
       "      <td>199.110947</td>\n",
       "      <td>7.111105</td>\n",
       "      <td>364</td>\n",
       "      <td>22</td>\n",
       "      <td>70.0</td>\n",
       "      <td>80.0</td>\n",
       "      <td>6.805556</td>\n",
       "      <td>3.583333</td>\n",
       "      <td>RYPSYCXCJSHDJX-UHFFFAOYSA-N</td>\n",
       "      <td>CC(C)N(C)c1ccc(C#N)cc1C#N</td>\n",
       "    </tr>\n",
       "    <tr>\n",
       "      <th>2</th>\n",
       "      <td>DUTHEG</td>\n",
       "      <td>31879</td>\n",
       "      <td>Optimised_Molecules_V3.5074</td>\n",
       "      <td>10.922841</td>\n",
       "      <td>9.584172</td>\n",
       "      <td>0</td>\n",
       "      <td>0</td>\n",
       "      <td>16.685332</td>\n",
       "      <td>2.436274</td>\n",
       "      <td>4.872549</td>\n",
       "      <td>...</td>\n",
       "      <td>191.080710</td>\n",
       "      <td>8.307857</td>\n",
       "      <td>271</td>\n",
       "      <td>22</td>\n",
       "      <td>74.0</td>\n",
       "      <td>87.0</td>\n",
       "      <td>5.666667</td>\n",
       "      <td>3.000000</td>\n",
       "      <td>PVRUUABKIQNQFL-UHFFFAOYSA-N</td>\n",
       "      <td>Cc1cc(=O)n2c(N)nc(C)nc2n1</td>\n",
       "    </tr>\n",
       "    <tr>\n",
       "      <th>3</th>\n",
       "      <td>AXUDED08</td>\n",
       "      <td>2885</td>\n",
       "      <td>Optimised_Molecules_V3.988</td>\n",
       "      <td>7.140017</td>\n",
       "      <td>6.873356</td>\n",
       "      <td>0</td>\n",
       "      <td>0</td>\n",
       "      <td>12.857279</td>\n",
       "      <td>2.214320</td>\n",
       "      <td>4.428639</td>\n",
       "      <td>...</td>\n",
       "      <td>136.052429</td>\n",
       "      <td>7.558468</td>\n",
       "      <td>121</td>\n",
       "      <td>11</td>\n",
       "      <td>44.0</td>\n",
       "      <td>48.0</td>\n",
       "      <td>3.722222</td>\n",
       "      <td>2.444444</td>\n",
       "      <td>QPJVMBTYPHYUOC-UHFFFAOYSA-N</td>\n",
       "      <td>COC(=O)c1ccccc1</td>\n",
       "    </tr>\n",
       "    <tr>\n",
       "      <th>4</th>\n",
       "      <td>ARAGUV</td>\n",
       "      <td>2660</td>\n",
       "      <td>Optimised_Molecules_V3.795</td>\n",
       "      <td>7.399237</td>\n",
       "      <td>7.308033</td>\n",
       "      <td>0</td>\n",
       "      <td>0</td>\n",
       "      <td>11.638727</td>\n",
       "      <td>2.249778</td>\n",
       "      <td>4.311276</td>\n",
       "      <td>...</td>\n",
       "      <td>139.074562</td>\n",
       "      <td>7.319714</td>\n",
       "      <td>125</td>\n",
       "      <td>8</td>\n",
       "      <td>46.0</td>\n",
       "      <td>49.0</td>\n",
       "      <td>4.333333</td>\n",
       "      <td>2.250000</td>\n",
       "      <td>LUFRABHJXNJTNZ-UHFFFAOYSA-N</td>\n",
       "      <td>CC(=O)Nc1cc(C)[nH]n1</td>\n",
       "    </tr>\n",
       "    <tr>\n",
       "      <th>...</th>\n",
       "      <td>...</td>\n",
       "      <td>...</td>\n",
       "      <td>...</td>\n",
       "      <td>...</td>\n",
       "      <td>...</td>\n",
       "      <td>...</td>\n",
       "      <td>...</td>\n",
       "      <td>...</td>\n",
       "      <td>...</td>\n",
       "      <td>...</td>\n",
       "      <td>...</td>\n",
       "      <td>...</td>\n",
       "      <td>...</td>\n",
       "      <td>...</td>\n",
       "      <td>...</td>\n",
       "      <td>...</td>\n",
       "      <td>...</td>\n",
       "      <td>...</td>\n",
       "      <td>...</td>\n",
       "      <td>...</td>\n",
       "      <td>...</td>\n",
       "    </tr>\n",
       "    <tr>\n",
       "      <th>13444</th>\n",
       "      <td>GICQAN01</td>\n",
       "      <td>34720</td>\n",
       "      <td>Optimised_Molecules_V3.7209</td>\n",
       "      <td>11.589507</td>\n",
       "      <td>11.335446</td>\n",
       "      <td>0</td>\n",
       "      <td>0</td>\n",
       "      <td>18.593111</td>\n",
       "      <td>2.444247</td>\n",
       "      <td>4.716186</td>\n",
       "      <td>...</td>\n",
       "      <td>214.008667</td>\n",
       "      <td>12.588745</td>\n",
       "      <td>344</td>\n",
       "      <td>20</td>\n",
       "      <td>78.0</td>\n",
       "      <td>92.0</td>\n",
       "      <td>5.916667</td>\n",
       "      <td>3.277778</td>\n",
       "      <td>AMGTUMYRSHDKFL-UHFFFAOYSA-N</td>\n",
       "      <td>Nc1nc(-c2c([N+](=O)[O-])no[n+]2[O-])no1</td>\n",
       "    </tr>\n",
       "    <tr>\n",
       "      <th>13445</th>\n",
       "      <td>UNDECO</td>\n",
       "      <td>58781</td>\n",
       "      <td>Optimised_Molecules_V3.19870</td>\n",
       "      <td>8.594671</td>\n",
       "      <td>6.996374</td>\n",
       "      <td>0</td>\n",
       "      <td>0</td>\n",
       "      <td>15.070075</td>\n",
       "      <td>2.071027</td>\n",
       "      <td>4.107492</td>\n",
       "      <td>...</td>\n",
       "      <td>168.151415</td>\n",
       "      <td>5.254732</td>\n",
       "      <td>206</td>\n",
       "      <td>13</td>\n",
       "      <td>50.0</td>\n",
       "      <td>51.0</td>\n",
       "      <td>3.611111</td>\n",
       "      <td>2.916667</td>\n",
       "      <td>UPOSSYJVWXLPTA-UHFFFAOYSA-N</td>\n",
       "      <td>O=C1CCCCCCCCCC1</td>\n",
       "    </tr>\n",
       "    <tr>\n",
       "      <th>13446</th>\n",
       "      <td>IHECIH</td>\n",
       "      <td>38371</td>\n",
       "      <td>Optimised_Molecules_V3.9058</td>\n",
       "      <td>8.065904</td>\n",
       "      <td>7.608752</td>\n",
       "      <td>1</td>\n",
       "      <td>0</td>\n",
       "      <td>13.246202</td>\n",
       "      <td>2.248763</td>\n",
       "      <td>4.497527</td>\n",
       "      <td>...</td>\n",
       "      <td>153.042593</td>\n",
       "      <td>8.502366</td>\n",
       "      <td>158</td>\n",
       "      <td>12</td>\n",
       "      <td>50.0</td>\n",
       "      <td>54.0</td>\n",
       "      <td>4.583333</td>\n",
       "      <td>2.527778</td>\n",
       "      <td>VMONVJKJUDZYIE-UHFFFAOYSA-N</td>\n",
       "      <td>O=C(O)Cn1ccccc1=O</td>\n",
       "    </tr>\n",
       "    <tr>\n",
       "      <th>13447</th>\n",
       "      <td>MQUCXA11</td>\n",
       "      <td>45201</td>\n",
       "      <td>Optimised_Molecules_V3.12909</td>\n",
       "      <td>10.813451</td>\n",
       "      <td>9.387164</td>\n",
       "      <td>0</td>\n",
       "      <td>0</td>\n",
       "      <td>17.683997</td>\n",
       "      <td>2.402187</td>\n",
       "      <td>4.804373</td>\n",
       "      <td>...</td>\n",
       "      <td>186.079313</td>\n",
       "      <td>7.753305</td>\n",
       "      <td>283</td>\n",
       "      <td>21</td>\n",
       "      <td>72.0</td>\n",
       "      <td>84.0</td>\n",
       "      <td>5.055556</td>\n",
       "      <td>3.083333</td>\n",
       "      <td>AMOPWISLTWLTGM-UHFFFAOYSA-N</td>\n",
       "      <td>Cc1cc(C(N)=O)nc2ccccc12</td>\n",
       "    </tr>\n",
       "    <tr>\n",
       "      <th>13448</th>\n",
       "      <td>CAZFUF</td>\n",
       "      <td>7655</td>\n",
       "      <td>Optimised_Molecules_V3.2645</td>\n",
       "      <td>10.187224</td>\n",
       "      <td>9.217325</td>\n",
       "      <td>0</td>\n",
       "      <td>0</td>\n",
       "      <td>17.004191</td>\n",
       "      <td>2.270288</td>\n",
       "      <td>4.540576</td>\n",
       "      <td>...</td>\n",
       "      <td>212.025563</td>\n",
       "      <td>9.637526</td>\n",
       "      <td>338</td>\n",
       "      <td>17</td>\n",
       "      <td>64.0</td>\n",
       "      <td>70.0</td>\n",
       "      <td>5.944444</td>\n",
       "      <td>3.277778</td>\n",
       "      <td>WBZIRDVHGBWLDE-UHFFFAOYSA-N</td>\n",
       "      <td>COC(=S)Nc1ccc([N+](=O)[O-])cc1</td>\n",
       "    </tr>\n",
       "  </tbody>\n",
       "</table>\n",
       "<p>13449 rows × 1618 columns</p>\n",
       "</div>"
      ],
      "text/plain": [
       "      identifiers  Unnamed: 0                          name        ABC  \\\n",
       "0          COXSUE       11365   Optimised_Molecules_V3.3460   8.773011   \n",
       "1          TUWFAU       58476  Optimised_Molecules_V3.19496  10.813451   \n",
       "2          DUTHEG       31879   Optimised_Molecules_V3.5074  10.922841   \n",
       "3        AXUDED08        2885    Optimised_Molecules_V3.988   7.140017   \n",
       "4          ARAGUV        2660    Optimised_Molecules_V3.795   7.399237   \n",
       "...           ...         ...                           ...        ...   \n",
       "13444    GICQAN01       34720   Optimised_Molecules_V3.7209  11.589507   \n",
       "13445      UNDECO       58781  Optimised_Molecules_V3.19870   8.594671   \n",
       "13446      IHECIH       38371   Optimised_Molecules_V3.9058   8.065904   \n",
       "13447    MQUCXA11       45201  Optimised_Molecules_V3.12909  10.813451   \n",
       "13448      CAZFUF        7655   Optimised_Molecules_V3.2645  10.187224   \n",
       "\n",
       "           ABCGG  nAcid  nBase    SpAbs_A   SpMax_A  SpDiam_A  ...  \\\n",
       "0       8.632564      0      0  14.599164  2.244739  4.388162  ...   \n",
       "1      10.346393      0      0  18.488707  2.357869  4.715737  ...   \n",
       "2       9.584172      0      0  16.685332  2.436274  4.872549  ...   \n",
       "3       6.873356      0      0  12.857279  2.214320  4.428639  ...   \n",
       "4       7.308033      0      0  11.638727  2.249778  4.311276  ...   \n",
       "...          ...    ...    ...        ...       ...       ...  ...   \n",
       "13444  11.335446      0      0  18.593111  2.444247  4.716186  ...   \n",
       "13445   6.996374      0      0  15.070075  2.071027  4.107492  ...   \n",
       "13446   7.608752      1      0  13.246202  2.248763  4.497527  ...   \n",
       "13447   9.387164      0      0  17.683997  2.402187  4.804373  ...   \n",
       "13448   9.217325      0      0  17.004191  2.270288  4.540576  ...   \n",
       "\n",
       "               MW        AMW  WPath  WPol  Zagreb1  Zagreb2  mZagreb1  \\\n",
       "0      185.062283   8.046186    219    11     54.0     58.0  4.833333   \n",
       "1      199.110947   7.111105    364    22     70.0     80.0  6.805556   \n",
       "2      191.080710   8.307857    271    22     74.0     87.0  5.666667   \n",
       "3      136.052429   7.558468    121    11     44.0     48.0  3.722222   \n",
       "4      139.074562   7.319714    125     8     46.0     49.0  4.333333   \n",
       "...           ...        ...    ...   ...      ...      ...       ...   \n",
       "13444  214.008667  12.588745    344    20     78.0     92.0  5.916667   \n",
       "13445  168.151415   5.254732    206    13     50.0     51.0  3.611111   \n",
       "13446  153.042593   8.502366    158    12     50.0     54.0  4.583333   \n",
       "13447  186.079313   7.753305    283    21     72.0     84.0  5.055556   \n",
       "13448  212.025563   9.637526    338    17     64.0     70.0  5.944444   \n",
       "\n",
       "       mZagreb2                     InchiKey  \\\n",
       "0      2.777778  UYSCRWBEPUAZRA-UHFFFAOYSA-N   \n",
       "1      3.583333  RYPSYCXCJSHDJX-UHFFFAOYSA-N   \n",
       "2      3.000000  PVRUUABKIQNQFL-UHFFFAOYSA-N   \n",
       "3      2.444444  QPJVMBTYPHYUOC-UHFFFAOYSA-N   \n",
       "4      2.250000  LUFRABHJXNJTNZ-UHFFFAOYSA-N   \n",
       "...         ...                          ...   \n",
       "13444  3.277778  AMGTUMYRSHDKFL-UHFFFAOYSA-N   \n",
       "13445  2.916667  UPOSSYJVWXLPTA-UHFFFAOYSA-N   \n",
       "13446  2.527778  VMONVJKJUDZYIE-UHFFFAOYSA-N   \n",
       "13447  3.083333  AMOPWISLTWLTGM-UHFFFAOYSA-N   \n",
       "13448  3.277778  WBZIRDVHGBWLDE-UHFFFAOYSA-N   \n",
       "\n",
       "                                        SMILES  \n",
       "0                        CC(=O)NN=C(C)C1=NCCS1  \n",
       "1                    CC(C)N(C)c1ccc(C#N)cc1C#N  \n",
       "2                    Cc1cc(=O)n2c(N)nc(C)nc2n1  \n",
       "3                              COC(=O)c1ccccc1  \n",
       "4                         CC(=O)Nc1cc(C)[nH]n1  \n",
       "...                                        ...  \n",
       "13444  Nc1nc(-c2c([N+](=O)[O-])no[n+]2[O-])no1  \n",
       "13445                          O=C1CCCCCCCCCC1  \n",
       "13446                        O=C(O)Cn1ccccc1=O  \n",
       "13447                  Cc1cc(C(N)=O)nc2ccccc12  \n",
       "13448           COC(=S)Nc1ccc([N+](=O)[O-])cc1  \n",
       "\n",
       "[13449 rows x 1618 columns]"
      ]
     },
     "execution_count": 5,
     "metadata": {},
     "output_type": "execute_result"
    }
   ],
   "source": [
    "# Example showing the train_descriptors dataframe\n",
    "train_descriptors"
   ]
  },
  {
   "cell_type": "markdown",
   "metadata": {},
   "source": [
    "### Data pre-processing"
   ]
  },
  {
   "cell_type": "code",
   "execution_count": 9,
   "metadata": {},
   "outputs": [
    {
     "name": "stdout",
     "output_type": "stream",
     "text": [
      "(13449, 1618)\n",
      "(13449, 984)\n"
     ]
    }
   ],
   "source": [
    "# Take all the rows of the train_descriptors DataFrame (:), and make a new DataFrame\n",
    "# which only contains data from the third column up to the second to last column (3:-2).\n",
    "# Drop any columns which have missing data (.dropna(...)).\n",
    "train_descriptors_full = train_descriptors.iloc[:, 3:-2].dropna(axis= 1, how=\"any\")\n",
    "\n",
    "# Comparing the two, we see a loss of 634 columns.\n",
    "# Train_descriptors_full can now be used to train a regression algorithm\n",
    "print(train_descriptors.shape)\n",
    "print(train_descriptors_full.shape)"
   ]
  },
  {
   "cell_type": "code",
   "execution_count": 11,
   "metadata": {},
   "outputs": [
    {
     "data": {
      "text/plain": [
       "(3363, 984)"
      ]
     },
     "execution_count": 11,
     "metadata": {},
     "output_type": "execute_result"
    }
   ],
   "source": [
    "# Make sure that the test set has all the same data as the training set.\n",
    "test_descriptors_full = test_descriptors[train_descriptors_full.columns]\n",
    "test_descriptors_full.shape"
   ]
  },
  {
   "cell_type": "code",
   "execution_count": 14,
   "metadata": {},
   "outputs": [
    {
     "data": {
      "text/plain": [
       "(3363, 984)"
      ]
     },
     "execution_count": 14,
     "metadata": {},
     "output_type": "execute_result"
    }
   ],
   "source": [
    "# Checking that the test set contains no missing values either.\n",
    "test_descriptors_full_na = test_descriptors_full.dropna(axis= 1, how=\"any\")\n",
    "test_descriptors_full_na.shape"
   ]
  },
  {
   "cell_type": "code",
   "execution_count": 19,
   "metadata": {},
   "outputs": [
    {
     "name": "stdout",
     "output_type": "stream",
     "text": [
      "(13449, 124) (3363, 124)\n"
     ]
    }
   ],
   "source": [
    "# Principal component analysis\n",
    "\n",
    "# From the decomposition module in sklearn, set up a PCA analysis function.\n",
    "# The number of principal components selected to complete the analysis is\n",
    "# the number of principal components required to satisfy 95% of the variance in the data.\n",
    "train_PCA = decomposition.PCA(n_components=.95)\n",
    "\n",
    "# The scaler allows for removing the bias from data which is orders of magnitude larger than\n",
    "# other data in the dataset. the StandardScaler function is called from the preprocessing module.\n",
    "scaler_for_PCA = preprocessing.StandardScaler()\n",
    "\n",
    "\n",
    "# Scale all the values in train_descriptors_full according to the StandardScaler routine\n",
    "scaled_values = scaler_for_PCA.fit_transform(train_descriptors_full)\n",
    "\n",
    "# Do the PCA analysis on the scaled values\n",
    "train_descriptors_PCA = train_PCA.fit_transform(scaled_values)\n",
    "\n",
    "# fit the test descriptors on the first principal components \n",
    "# previously extracted from the training set.\n",
    "test_descriptors_PCA = train_PCA.transform(scaler_for_PCA.transform(test_descriptors_full))\n",
    "print(train_descriptors_PCA.shape, test_descriptors_PCA.shape)"
   ]
  },
  {
   "cell_type": "markdown",
   "metadata": {},
   "source": [
    "### A (very!!) simple and bad model\n",
    "\n",
    "sklearn docs for linear regression: https://scikit-learn.org/stable/modules/generated/sklearn.linear_model.LinearRegression.html?highlight=linear%20regression#sklearn.linear_model.LinearRegression"
   ]
  },
  {
   "cell_type": "code",
   "execution_count": 22,
   "metadata": {},
   "outputs": [
    {
     "data": {
      "text/plain": [
       "LinearRegression()"
      ]
     },
     "execution_count": 22,
     "metadata": {},
     "output_type": "execute_result"
    }
   ],
   "source": [
    "# This step sets up the linear regression algorithm with the target\n",
    "# to predict the \"a\" values in the train_crystals DataFrame.\n",
    "# the training values take the form of the 124 Principal components\n",
    "# that were extracted from the train_descriptors DataFrame\n",
    "\n",
    "target = \"a\"\n",
    "model = linear_model.LinearRegression()\n",
    "model.fit(train_descriptors_PCA, train_crystals[target])"
   ]
  },
  {
   "cell_type": "code",
   "execution_count": 8,
   "metadata": {
    "scrolled": true
   },
   "outputs": [
    {
     "data": {
      "image/png": "[encoded data removed]",
      "text/plain": [
       "<Figure size 432x288 with 1 Axes>"
      ]
     },
     "metadata": {
      "needs_background": "light"
     },
     "output_type": "display_data"
    }
   ],
   "source": [
    "# Now use the fitted regression model to predict\n",
    "# the \"a\" values\n",
    "predictions = model.predict(train_descriptors_PCA)\n",
    "\n",
    "# Plot the true \"a\" values against the predicted values\n",
    "plt.plot(train_crystals[target], predictions, \"bo\")\n",
    "plt.xlabel(\"True values\")\n",
    "plt.ylabel(\"Predicted values\")\n",
    "plt.title(\"Predicted z-value against true values\")\n",
    "plt.show()"
   ]
  },
  {
   "cell_type": "markdown",
   "metadata": {},
   "source": [
    "### Cross-validation to evaluate the model's performance\n",
    "\n",
    "sklearn docs on CV: https://scikit-learn.org/stable/modules/cross_validation.html#cross-validation"
   ]
  },
  {
   "cell_type": "code",
   "execution_count": 9,
   "metadata": {},
   "outputs": [
    {
     "name": "stdout",
     "output_type": "stream",
     "text": [
      "Average negative MAE: -3.258\n",
      "Standard deviation: 0.05\n"
     ]
    }
   ],
   "source": [
    "cv_scores = model_selection.cross_val_score(\n",
    "    model, \n",
    "    train_descriptors_PCA, \n",
    "    train_crystals[target], \n",
    "    scoring=\"neg_mean_absolute_error\")\n",
    "\n",
    "print(\"Average negative MAE:\", round(np.mean(cv_scores), 3))\n",
    "print(\"Standard deviation:\", round(np.std(cv_scores), 3))"
   ]
  },
  {
   "cell_type": "markdown",
   "metadata": {},
   "source": [
    "### Outputting predictions for automated checking \n",
    "Link: https://github.com/stevenkbennett/fons_datathon_testing"
   ]
  },
  {
   "cell_type": "code",
   "execution_count": 10,
   "metadata": {},
   "outputs": [],
   "source": [
    "predictions = model.predict(test_descriptors_PCA)"
   ]
  },
  {
   "cell_type": "code",
   "execution_count": 11,
   "metadata": {},
   "outputs": [],
   "source": [
    "np.savetxt(\"task_x_predictions.csv\", predictions)\n",
    "# Alternatively, if using pandas, you can use the following:\n",
    "pd.DataFrame(predictions).to_csv(\"task_x_predictions.csv\", header=False, index=False)"
   ]
  },
  {
   "cell_type": "code",
   "execution_count": null,
   "metadata": {},
   "outputs": [],
   "source": []
  },
  {
   "cell_type": "code",
   "execution_count": null,
   "metadata": {},
   "outputs": [],
   "source": []
  }
 ],
 "metadata": {
  "kernelspec": {
   "display_name": "Python 3",
   "language": "python",
   "name": "python3"
  },
  "language_info": {
   "codemirror_mode": {
    "name": "ipython",
    "version": 3
   },
   "file_extension": ".py",
   "mimetype": "text/x-python",
   "name": "python",
   "nbconvert_exporter": "python",
   "pygments_lexer": "ipython3",
   "version": "3.8.5"
  }
 },
 "nbformat": 4,
 "nbformat_minor": 5
}
