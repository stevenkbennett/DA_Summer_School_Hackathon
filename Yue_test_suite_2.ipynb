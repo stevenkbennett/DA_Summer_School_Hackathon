{
 "cells": [
  {
   "cell_type": "markdown",
   "id": "dedicated-bahrain",
   "metadata": {},
   "source": [
    "# Yue - test suite code"
   ]
  },
  {
   "cell_type": "code",
   "execution_count": 2,
   "id": "exterior-collective",
   "metadata": {},
   "outputs": [],
   "source": [
    "import pandas as pd\n",
    "import numpy as np\n",
    "import matplotlib.pyplot as plt\n",
    "from sklearn import *"
   ]
  },
  {
   "cell_type": "code",
   "execution_count": 3,
   "id": "overhead-airplane",
   "metadata": {},
   "outputs": [],
   "source": [
    "train_descriptors = pd.read_csv(\"train_descriptors.csv\")\n",
    "train_mord3d = pd.read_csv(\"train_mord3d.csv\")\n",
    "train_morgan = pd.read_csv(\"train_morgan.csv\")\n",
    "train_rdk = pd.read_csv(\"train_rdk.csv\")\n",
    "\n",
    "train_crystals = pd.read_csv(\"train_crystals.csv\")\n",
    "train_distances = pd.read_csv(\"train_distances.csv\")\n",
    "train_centroid_distances = pd.read_csv(\"train_centroid_distances.csv\")"
   ]
  },
  {
   "cell_type": "code",
   "execution_count": 4,
   "id": "animated-chancellor",
   "metadata": {},
   "outputs": [],
   "source": [
    "test_descriptors = pd.read_csv(\"test_descriptors.csv\")\n",
    "test_mord3d = pd.read_csv(\"test_mord3d.csv\")\n",
    "test_morgan = pd.read_csv(\"test_morgan.csv\")\n",
    "test_rdk = pd.read_csv(\"test_rdk.csv\")"
   ]
  },
  {
   "cell_type": "markdown",
   "id": "contemporary-flashing",
   "metadata": {},
   "source": [
    "## Preprocessing"
   ]
  },
  {
   "cell_type": "code",
   "execution_count": 5,
   "id": "explicit-chicken",
   "metadata": {},
   "outputs": [
    {
     "data": {
      "text/plain": [
       "(13449, 1465)"
      ]
     },
     "execution_count": 5,
     "metadata": {},
     "output_type": "execute_result"
    }
   ],
   "source": [
    "# Are there any redundant columns (all values the same)? These wouldn't contribute to the model at all\n",
    "\n",
    "for col in train_descriptors.columns:\n",
    "    if len(train_descriptors[col].unique()) == 1:\n",
    "\n",
    "# If so, drop redundant columns:\n",
    "        train_descriptors.drop(col,inplace=True,axis=1)\n",
    "\n",
    "train_descriptors.shape # Drops to 1465 - ~150 redundant columns"
   ]
  },
  {
   "cell_type": "code",
   "execution_count": 6,
   "id": "centered-dakota",
   "metadata": {},
   "outputs": [
    {
     "data": {
      "text/plain": [
       "(13449, 891)"
      ]
     },
     "execution_count": 6,
     "metadata": {},
     "output_type": "execute_result"
    }
   ],
   "source": [
    "# Drop all columns with NA - Last 2 columns are InchiKey and SMILES\n",
    "\n",
    "train_descriptors_full = train_descriptors.iloc[:, 3:-2].dropna(axis= 1, how=\"any\")\n",
    "train_descriptors_full.shape # previously (13449, 891)"
   ]
  },
  {
   "cell_type": "code",
   "execution_count": 8,
   "id": "possible-military",
   "metadata": {},
   "outputs": [
    {
     "name": "stdout",
     "output_type": "stream",
     "text": [
      "(13449, 124) (3363, 124)\n"
     ]
    }
   ],
   "source": [
    "train_PCA = decomposition.PCA(n_components=.95)\n",
    "scaler_for_PCA = preprocessing.StandardScaler()\n",
    "train_descriptors_PCA = train_PCA.fit_transform(scaler_for_PCA.fit_transform(train_descriptors_full))\n",
    "test_descriptors_PCA = train_PCA.transform(scaler_for_PCA.transform(test_descriptors_full))\n",
    "print(train_descriptors_PCA.shape, test_descriptors_PCA.shape)"
   ]
  },
  {
   "cell_type": "markdown",
   "id": "laughing-construction",
   "metadata": {},
   "source": [
    "#### Choose the datasets to feed into the test suite \n",
    "\n",
    "Choose which dataset and target to use, and feed them into X_train and y_train below"
   ]
  },
  {
   "cell_type": "code",
   "execution_count": 9,
   "id": "adequate-provider",
   "metadata": {},
   "outputs": [],
   "source": [
    "target = \"calculated_density\"\n",
    "\n",
    "# Split data into training and test sets\n",
    "# X_train, X_valid, y_train, y_valid = model_selection.train_test_split(train_descriptors_PCA, train_crystals[target], random_state = 0)\n",
    "# print(len(X_train), len(X_valid))\n",
    "\n",
    "# Use full set if tuning with CV\n",
    "X_train = train_descriptors_PCA\n",
    "y_train = train_crystals[target]"
   ]
  },
  {
   "cell_type": "markdown",
   "id": "bound-bacteria",
   "metadata": {},
   "source": [
    "#### Test suite for optimizing different models\n",
    "In the test suite, we write one objective function for each model we want to test.\n",
    "\n",
    "**Parameters:**  \n",
    "\n",
    "Random forest:\n",
    "* `n_estimators` number of trees (default 100)\n",
    "* `max_depth` tree depth (default ?)\n",
    "\n",
    "Gradient boosting https://machinelearningmastery.com/gradient-boosting-machine-ensemble-in-python/\n",
    "* `n_estimators` number of trees (default 100)\n",
    "* `subsample` number of samples (what fraction of the training set is used to train each tree? default 1.0, i.e. all)\n",
    "* `max_features` max number of features to fit each tree (maybe less important? leave this out to use every feature)\n",
    "* `learning_rate` learning rate (default 0.1, rate between 0-1; use log scale)\n",
    "* `max_depth` tree depth (default 3; too large may lead to overfitting. Try 1-10?)"
   ]
  },
  {
   "cell_type": "code",
   "execution_count": 29,
   "id": "similar-leonard",
   "metadata": {},
   "outputs": [],
   "source": [
    "# Define objective functions for each model to use\n",
    "\n",
    "# Set scoring function\n",
    "scoring = \"neg_mean_absolute_error\"\n",
    "\n",
    "# Random forest\n",
    "def obj_RF(trial):\n",
    "    n_estimators = trial.suggest_int('n_estimators', 2, 200)\n",
    "    max_depth = int(trial.suggest_loguniform('max_depth', 1, 32))\n",
    "    clf = ensemble.RandomForestRegressor(n_estimators=n_estimators, max_depth=max_depth, n_jobs=-1)\n",
    "    return model_selection.cross_val_score(clf, X_train, y_train, \n",
    "                                           n_jobs=-1, scoring=scoring, cv=3).mean()\n",
    "\n",
    "# Gradient boosting - maybe try XGboost implementation instead as it has better performance?\n",
    "# Key parameters: n_estimators, max_depth, learning_rate\n",
    "# GB doesn't have a n_jobs parameter\n",
    "\n",
    "def obj_GB(trial):\n",
    "    n_estimators = trial.suggest_int('n_estimators', 2, 200)\n",
    "    max_depth = int(trial.suggest_loguniform('max_depth', 1, 10))\n",
    "    learning_rate = trial.suggest_loguniform('learning_rate', 0.0001, 1) # Note - this is not an int!\n",
    "    \n",
    "    clf = ensemble.GradientBoostingRegressor(n_estimators=n_estimators, max_depth=max_depth, learning_rate=learning_rate)\n",
    "    \n",
    "    return model_selection.cross_val_score(clf, X_train, y_train, n_jobs=-1, scoring=scoring, cv=3).mean()\n",
    "\n",
    "# Define list of objectives to use below\n",
    "def obj_XX(trail):\n",
    "    # Set parameters for optuna to suggest\n",
    "    # parameters = trail.suggest_XX\n",
    "    \n",
    "    # Set model\n",
    "    # clf = sklearn model function here with parameters\n",
    "    \n",
    "    # return a scoring function - have been using all data with 3 fold cross validation\n",
    "    # balance between time needed (higher CV folds = slower) and accuracy\n",
    "    # returns mean of CV score array\n",
    "    return model_selection.cross_val_score(clf, X_train, y_train, n_jobs=-1, scoring=scoring, cv=3).mean()\n",
    "\n",
    "\n",
    "# Create list of tests to run"
   ]
  },
  {
   "cell_type": "markdown",
   "id": "above-yellow",
   "metadata": {},
   "source": [
    "Create list of studies to optimize:"
   ]
  },
  {
   "cell_type": "code",
   "execution_count": null,
   "id": "radio-roots",
   "metadata": {},
   "outputs": [],
   "source": [
    "%%time # record time it takes to run\n",
    "\n",
    "study_rf = optuna.create_study(direction='maximize')\n",
    "study_gb = optuna.create_study(direction='maximize')\n",
    "# fill in other models etc.  \n",
    "\n",
    "study_rf.optimize(obj_RF, n_trials=100)\n",
    "study_gb.optimize(obj_GB, n_trials=100)\n"
   ]
  },
  {
   "cell_type": "code",
   "execution_count": null,
   "id": "aboriginal-sector",
   "metadata": {},
   "outputs": [],
   "source": []
  },
  {
   "cell_type": "code",
   "execution_count": null,
   "id": "second-oriental",
   "metadata": {},
   "outputs": [],
   "source": []
  },
  {
   "cell_type": "markdown",
   "id": "recognized-pulse",
   "metadata": {},
   "source": [
    "#### Below is just unit testing for a different model\n",
    "\n",
    "Not directly relevant to test suite code"
   ]
  },
  {
   "cell_type": "code",
   "execution_count": 30,
   "id": "gross-argentina",
   "metadata": {
    "collapsed": true,
    "jupyter": {
     "outputs_hidden": true
    },
    "tags": []
   },
   "outputs": [
    {
     "name": "stderr",
     "output_type": "stream",
     "text": [
      "\u001b[32m[I 2021-08-15 21:27:32,174]\u001b[0m A new study created in memory with name: no-name-0f6c26ad-62af-4f19-ac6b-a90298b00144\u001b[0m\n",
      "\u001b[32m[I 2021-08-15 21:27:45,804]\u001b[0m Trial 0 finished with value: -0.13947638888243055 and parameters: {'n_estimators': 71, 'max_depth': 2.6358572330388035, 'learning_rate': 0.022785434546836066}. Best is trial 0 with value: -0.13947638888243055.\u001b[0m\n",
      "\u001b[32m[I 2021-08-15 21:28:02,068]\u001b[0m Trial 1 finished with value: -0.21887384128155493 and parameters: {'n_estimators': 84, 'max_depth': 2.4155965813474567, 'learning_rate': 0.0007952688327350772}. Best is trial 0 with value: -0.13947638888243055.\u001b[0m\n",
      "\u001b[32m[I 2021-08-15 21:28:19,002]\u001b[0m Trial 2 finished with value: -0.11961728426717466 and parameters: {'n_estimators': 168, 'max_depth': 1.6303719801414625, 'learning_rate': 0.03915909340817165}. Best is trial 2 with value: -0.11961728426717466.\u001b[0m\n",
      "\u001b[32m[I 2021-08-15 21:28:26,554]\u001b[0m Trial 3 finished with value: -0.219156767811572 and parameters: {'n_estimators': 74, 'max_depth': 1.970993980293779, 'learning_rate': 0.0018252311817280903}. Best is trial 2 with value: -0.11961728426717466.\u001b[0m\n",
      "\u001b[32m[I 2021-08-15 21:29:18,443]\u001b[0m Trial 4 finished with value: -0.05361797559961646 and parameters: {'n_estimators': 114, 'max_depth': 5.965896920884274, 'learning_rate': 0.09962140846060119}. Best is trial 4 with value: -0.05361797559961646.\u001b[0m\n",
      "\u001b[32m[I 2021-08-15 21:29:30,993]\u001b[0m Trial 5 finished with value: -0.2223710073551616 and parameters: {'n_estimators': 27, 'max_depth': 5.820814449685189, 'learning_rate': 0.0005293314230162655}. Best is trial 4 with value: -0.05361797559961646.\u001b[0m\n",
      "\u001b[32m[I 2021-08-15 21:29:42,091]\u001b[0m Trial 6 finished with value: -0.22274499509100873 and parameters: {'n_estimators': 110, 'max_depth': 1.3701131897094603, 'learning_rate': 0.0004379700714491288}. Best is trial 4 with value: -0.05361797559961646.\u001b[0m\n",
      "\u001b[32m[I 2021-08-15 21:30:36,139]\u001b[0m Trial 7 finished with value: -0.11665636060477357 and parameters: {'n_estimators': 94, 'max_depth': 7.382235214566928, 'learning_rate': 0.009624744180282491}. Best is trial 4 with value: -0.05361797559961646.\u001b[0m\n",
      "\u001b[32m[I 2021-08-15 21:30:42,160]\u001b[0m Trial 8 finished with value: -0.21888487814791294 and parameters: {'n_estimators': 8, 'max_depth': 9.918656558710627, 'learning_rate': 0.003843594729245627}. Best is trial 4 with value: -0.05361797559961646.\u001b[0m\n",
      "\u001b[32m[I 2021-08-15 21:31:50,482]\u001b[0m Trial 9 finished with value: -0.06269388399970034 and parameters: {'n_estimators': 118, 'max_depth': 7.521522918554764, 'learning_rate': 0.023285796111345958}. Best is trial 4 with value: -0.05361797559961646.\u001b[0m\n",
      "\u001b[32m[I 2021-08-15 21:33:00,527]\u001b[0m Trial 10 finished with value: -0.07118916952592193 and parameters: {'n_estimators': 192, 'max_depth': 4.190320021856426, 'learning_rate': 0.6970793351318183}. Best is trial 4 with value: -0.05361797559961646.\u001b[0m\n",
      "\u001b[32m[I 2021-08-15 21:33:49,990]\u001b[0m Trial 11 finished with value: -0.05504563989463259 and parameters: {'n_estimators': 137, 'max_depth': 4.153809992507794, 'learning_rate': 0.16257863592075839}. Best is trial 4 with value: -0.05361797559961646.\u001b[0m\n",
      "\u001b[32m[I 2021-08-15 21:34:28,082]\u001b[0m Trial 12 finished with value: -0.05839745846463632 and parameters: {'n_estimators': 136, 'max_depth': 3.846214214930233, 'learning_rate': 0.2737570248595307}. Best is trial 4 with value: -0.05361797559961646.\u001b[0m\n",
      "\u001b[32m[I 2021-08-15 21:35:24,657]\u001b[0m Trial 13 finished with value: -0.054557262728302615 and parameters: {'n_estimators': 153, 'max_depth': 4.944267893666406, 'learning_rate': 0.1655005921744589}. Best is trial 4 with value: -0.05361797559961646.\u001b[0m\n",
      "\u001b[32m[I 2021-08-15 21:35:40,701]\u001b[0m Trial 14 finished with value: -0.08821675776931392 and parameters: {'n_estimators': 161, 'max_depth': 1.0186789481165366, 'learning_rate': 0.11820727964093074}. Best is trial 4 with value: -0.05361797559961646.\u001b[0m\n",
      "\u001b[32m[I 2021-08-15 21:37:09,644]\u001b[0m Trial 15 finished with value: -0.07549847766603024 and parameters: {'n_estimators': 200, 'max_depth': 5.395800870354057, 'learning_rate': 0.7676644593888118}. Best is trial 4 with value: -0.05361797559961646.\u001b[0m\n",
      "\u001b[32m[I 2021-08-15 21:38:21,203]\u001b[0m Trial 16 finished with value: -0.2217616253719602 and parameters: {'n_estimators': 160, 'max_depth': 5.666626004631373, 'learning_rate': 0.00011195464760098166}. Best is trial 4 with value: -0.05361797559961646.\u001b[0m\n",
      "\u001b[32m[I 2021-08-15 21:38:35,951]\u001b[0m Trial 17 finished with value: -0.08367617396679276 and parameters: {'n_estimators': 51, 'max_depth': 3.205163470127129, 'learning_rate': 0.07440036135622083}. Best is trial 4 with value: -0.05361797559961646.\u001b[0m\n",
      "\u001b[32m[I 2021-08-15 21:40:03,749]\u001b[0m Trial 18 finished with value: -0.057622127164433906 and parameters: {'n_estimators': 133, 'max_depth': 8.616013512028143, 'learning_rate': 0.33066033452762816}. Best is trial 4 with value: -0.05361797559961646.\u001b[0m\n",
      "\u001b[32m[I 2021-08-15 21:41:06,766]\u001b[0m Trial 19 finished with value: -0.057292943577395485 and parameters: {'n_estimators': 171, 'max_depth': 4.893241194811407, 'learning_rate': 0.05739704442470666}. Best is trial 4 with value: -0.05361797559961646.\u001b[0m\n",
      "\u001b[32m[I 2021-08-15 21:42:06,747]\u001b[0m Trial 20 finished with value: -0.09336222692432776 and parameters: {'n_estimators': 114, 'max_depth': 6.4423138982632935, 'learning_rate': 0.012739753329647439}. Best is trial 4 with value: -0.05361797559961646.\u001b[0m\n",
      "\u001b[32m[I 2021-08-15 21:43:00,998]\u001b[0m Trial 21 finished with value: -0.05455732368567151 and parameters: {'n_estimators': 140, 'max_depth': 4.067784213355413, 'learning_rate': 0.17830359063907444}. Best is trial 4 with value: -0.05361797559961646.\u001b[0m\n",
      "\u001b[32m[I 2021-08-15 21:43:43,488]\u001b[0m Trial 22 finished with value: -0.0578597885171081 and parameters: {'n_estimators': 147, 'max_depth': 3.17544141356158, 'learning_rate': 0.2604163361529052}. Best is trial 4 with value: -0.05361797559961646.\u001b[0m\n",
      "\u001b[32m[I 2021-08-15 21:44:50,481]\u001b[0m Trial 23 finished with value: -0.05464284959815597 and parameters: {'n_estimators': 182, 'max_depth': 4.693369773552185, 'learning_rate': 0.10092671099341279}. Best is trial 4 with value: -0.05361797559961646.\u001b[0m\n",
      "\u001b[32m[I 2021-08-15 21:45:28,290]\u001b[0m Trial 24 finished with value: -0.061501430098515934 and parameters: {'n_estimators': 129, 'max_depth': 3.6044045920545433, 'learning_rate': 0.40064871593591256}. Best is trial 4 with value: -0.05361797559961646.\u001b[0m\n",
      "\u001b[32m[I 2021-08-15 21:46:47,372]\u001b[0m Trial 25 finished with value: -0.05423760595823487 and parameters: {'n_estimators': 149, 'max_depth': 6.748765682225758, 'learning_rate': 0.04007310012968714}. Best is trial 4 with value: -0.05361797559961646.\u001b[0m\n",
      "\u001b[32m[I 2021-08-15 21:48:06,331]\u001b[0m Trial 26 finished with value: -0.05661015527465157 and parameters: {'n_estimators': 153, 'max_depth': 6.939697681873742, 'learning_rate': 0.030703811924057044}. Best is trial 4 with value: -0.05361797559961646.\u001b[0m\n",
      "\u001b[32m[I 2021-08-15 21:49:18,578]\u001b[0m Trial 27 finished with value: -0.10939981680954845 and parameters: {'n_estimators': 104, 'max_depth': 9.046446951004157, 'learning_rate': 0.009093757865691004}. Best is trial 4 with value: -0.05361797559961646.\u001b[0m\n",
      "\u001b[32m[I 2021-08-15 21:50:37,512]\u001b[0m Trial 28 finished with value: -0.05216031131024714 and parameters: {'n_estimators': 121, 'max_depth': 8.09254749619306, 'learning_rate': 0.05609515777851178}. Best is trial 28 with value: -0.05216031131024714.\u001b[0m\n",
      "\u001b[32m[I 2021-08-15 21:51:06,338]\u001b[0m Trial 29 finished with value: -0.12823080781262486 and parameters: {'n_estimators': 49, 'max_depth': 7.915906856751203, 'learning_rate': 0.015339129356656064}. Best is trial 28 with value: -0.05216031131024714.\u001b[0m\n",
      "\u001b[32m[I 2021-08-15 21:52:09,705]\u001b[0m Trial 30 finished with value: -0.14770057236346978 and parameters: {'n_estimators': 124, 'max_depth': 6.11883730129971, 'learning_rate': 0.004624879005715644}. Best is trial 28 with value: -0.05216031131024714.\u001b[0m\n",
      "\u001b[32m[I 2021-08-15 21:52:58,524]\u001b[0m Trial 31 finished with value: -0.05679559117333902 and parameters: {'n_estimators': 94, 'max_depth': 6.777887742981676, 'learning_rate': 0.049581992096135785}. Best is trial 28 with value: -0.05216031131024714.\u001b[0m\n",
      "\u001b[32m[I 2021-08-15 21:53:15,209]\u001b[0m Trial 32 finished with value: -0.0849659075040845 and parameters: {'n_estimators': 83, 'max_depth': 2.5578661902894364, 'learning_rate': 0.07832102519933908}. Best is trial 28 with value: -0.05216031131024714.\u001b[0m\n",
      "\u001b[32m[I 2021-08-15 21:54:33,803]\u001b[0m Trial 33 finished with value: -0.05696211154406202 and parameters: {'n_estimators': 175, 'max_depth': 5.05768076465137, 'learning_rate': 0.0356156324843993}. Best is trial 28 with value: -0.05216031131024714.\u001b[0m\n",
      "\u001b[32m[I 2021-08-15 21:56:13,053]\u001b[0m Trial 34 finished with value: -0.05395288496668125 and parameters: {'n_estimators': 150, 'max_depth': 8.495153751500075, 'learning_rate': 0.17203061508682607}. Best is trial 28 with value: -0.05216031131024714.\u001b[0m\n",
      "\u001b[32m[I 2021-08-15 21:57:36,566]\u001b[0m Trial 35 finished with value: -0.05842073929763716 and parameters: {'n_estimators': 121, 'max_depth': 9.619408049262375, 'learning_rate': 0.023828066011913722}. Best is trial 28 with value: -0.05216031131024714.\u001b[0m\n",
      "\u001b[32m[I 2021-08-15 21:58:17,120]\u001b[0m Trial 36 finished with value: -0.06391099797932585 and parameters: {'n_estimators': 67, 'max_depth': 7.8013769991594755, 'learning_rate': 0.5288103784430966}. Best is trial 28 with value: -0.05216031131024714.\u001b[0m\n",
      "\u001b[32m[I 2021-08-15 21:59:20,162]\u001b[0m Trial 37 finished with value: -0.05397798307523909 and parameters: {'n_estimators': 97, 'max_depth': 8.476177359280157, 'learning_rate': 0.04686516183113557}. Best is trial 28 with value: -0.05216031131024714.\u001b[0m\n",
      "\u001b[32m[I 2021-08-15 22:00:24,905]\u001b[0m Trial 38 finished with value: -0.05247169341546551 and parameters: {'n_estimators': 101, 'max_depth': 8.517884016754465, 'learning_rate': 0.11652556629968278}. Best is trial 28 with value: -0.05216031131024714.\u001b[0m\n",
      "\u001b[32m[I 2021-08-15 22:01:19,845]\u001b[0m Trial 39 finished with value: -0.05346359382371877 and parameters: {'n_estimators': 78, 'max_depth': 9.873238431803749, 'learning_rate': 0.10999205337707171}. Best is trial 28 with value: -0.05216031131024714.\u001b[0m\n",
      "\u001b[32m[I 2021-08-15 22:02:13,471]\u001b[0m Trial 40 finished with value: -0.053624385374278695 and parameters: {'n_estimators': 76, 'max_depth': 9.729651231634536, 'learning_rate': 0.0992840342844235}. Best is trial 28 with value: -0.05216031131024714.\u001b[0m\n",
      "\u001b[32m[I 2021-08-15 22:03:03,607]\u001b[0m Trial 41 finished with value: -0.05381825957409256 and parameters: {'n_estimators': 71, 'max_depth': 9.479748235498626, 'learning_rate': 0.12125794022211747}. Best is trial 28 with value: -0.05216031131024714.\u001b[0m\n",
      "\u001b[32m[I 2021-08-15 22:04:02,113]\u001b[0m Trial 42 finished with value: -0.05325225902888838 and parameters: {'n_estimators': 84, 'max_depth': 9.882427870195842, 'learning_rate': 0.07594326285247158}. Best is trial 28 with value: -0.05216031131024714.\u001b[0m\n",
      "\u001b[32m[I 2021-08-15 22:05:06,032]\u001b[0m Trial 43 finished with value: -0.05413638886785201 and parameters: {'n_estimators': 108, 'max_depth': 7.57936206803068, 'learning_rate': 0.23836640162321682}. Best is trial 28 with value: -0.05216031131024714.\u001b[0m\n",
      "\u001b[32m[I 2021-08-15 22:06:00,131]\u001b[0m Trial 44 finished with value: -0.07597587909714178 and parameters: {'n_estimators': 85, 'max_depth': 8.288827297692773, 'learning_rate': 0.02049714687521226}. Best is trial 28 with value: -0.05216031131024714.\u001b[0m\n",
      "\u001b[32m[I 2021-08-15 22:06:41,064]\u001b[0m Trial 45 finished with value: -0.05550367097809794 and parameters: {'n_estimators': 59, 'max_depth': 9.918713885832258, 'learning_rate': 0.0623925010151656}. Best is trial 28 with value: -0.05216031131024714.\u001b[0m\n",
      "\u001b[32m[I 2021-08-15 22:06:44,724]\u001b[0m Trial 46 finished with value: -0.21510149145237342 and parameters: {'n_estimators': 35, 'max_depth': 1.8992341302412943, 'learning_rate': 0.006626727545528588}. Best is trial 28 with value: -0.05216031131024714.\u001b[0m\n",
      "\u001b[32m[I 2021-08-15 22:07:35,376]\u001b[0m Trial 47 finished with value: -0.20619019483737744 and parameters: {'n_estimators': 87, 'max_depth': 7.0821265752402836, 'learning_rate': 0.0012139065710571949}. Best is trial 28 with value: -0.05216031131024714.\u001b[0m\n",
      "\u001b[32m[I 2021-08-15 22:08:28,383]\u001b[0m Trial 48 finished with value: -0.05965599468023255 and parameters: {'n_estimators': 101, 'max_depth': 6.265719320328941, 'learning_rate': 0.3923478180238797}. Best is trial 28 with value: -0.05216031131024714.\u001b[0m\n",
      "\u001b[32m[I 2021-08-15 22:09:41,524]\u001b[0m Trial 49 finished with value: -0.052575354607077913 and parameters: {'n_estimators': 111, 'max_depth': 8.864052381601157, 'learning_rate': 0.12507258221883769}. Best is trial 28 with value: -0.05216031131024714.\u001b[0m\n",
      "\u001b[32m[I 2021-08-15 22:10:57,590]\u001b[0m Trial 50 finished with value: -0.05284569701995332 and parameters: {'n_estimators': 113, 'max_depth': 8.74537637033004, 'learning_rate': 0.14073375961676984}. Best is trial 28 with value: -0.05216031131024714.\u001b[0m\n",
      "\u001b[32m[I 2021-08-15 22:12:10,862]\u001b[0m Trial 51 finished with value: -0.05293149884046949 and parameters: {'n_estimators': 112, 'max_depth': 8.518761573797649, 'learning_rate': 0.13033841123052575}. Best is trial 28 with value: -0.05216031131024714.\u001b[0m\n",
      "\u001b[32m[I 2021-08-15 22:13:27,613]\u001b[0m Trial 52 finished with value: -0.054716002369501804 and parameters: {'n_estimators': 114, 'max_depth': 8.841890594509223, 'learning_rate': 0.21864638111633194}. Best is trial 28 with value: -0.05216031131024714.\u001b[0m\n",
      "\u001b[32m[I 2021-08-15 22:14:43,677]\u001b[0m Trial 53 finished with value: -0.09140660436824499 and parameters: {'n_estimators': 126, 'max_depth': 7.766639095018165, 'learning_rate': 0.9925035099029577}. Best is trial 28 with value: -0.05216031131024714.\u001b[0m\n",
      "\u001b[32m[I 2021-08-15 22:15:48,177]\u001b[0m Trial 54 finished with value: -0.05199534420534335 and parameters: {'n_estimators': 109, 'max_depth': 7.247626859690884, 'learning_rate': 0.07659492746137277}. Best is trial 54 with value: -0.05199534420534335.\u001b[0m\n",
      "\u001b[32m[I 2021-08-15 22:16:36,280]\u001b[0m Trial 55 finished with value: -0.053819902694806986 and parameters: {'n_estimators': 107, 'max_depth': 5.859523667173857, 'learning_rate': 0.1511202460149405}. Best is trial 54 with value: -0.05199534420534335.\u001b[0m\n",
      "\u001b[32m[I 2021-08-15 22:17:33,492]\u001b[0m Trial 56 finished with value: -0.0617164744771189 and parameters: {'n_estimators': 93, 'max_depth': 7.4399236068300185, 'learning_rate': 0.4607620272109168}. Best is trial 54 with value: -0.05199534420534335.\u001b[0m\n",
      "\u001b[32m[I 2021-08-15 22:18:27,695]\u001b[0m Trial 57 finished with value: -0.05318313403051824 and parameters: {'n_estimators': 118, 'max_depth': 5.357133079629676, 'learning_rate': 0.13516714729457502}. Best is trial 54 with value: -0.05199534420534335.\u001b[0m\n",
      "\u001b[32m[I 2021-08-15 22:20:01,751]\u001b[0m Trial 58 finished with value: -0.05645836153063966 and parameters: {'n_estimators': 139, 'max_depth': 8.96335171348228, 'learning_rate': 0.28844991843195644}. Best is trial 54 with value: -0.05199534420534335.\u001b[0m\n",
      "\u001b[32m[I 2021-08-15 22:21:24,682]\u001b[0m Trial 59 finished with value: -0.05556260389474111 and parameters: {'n_estimators': 131, 'max_depth': 8.17152530311739, 'learning_rate': 0.02834706787695795}. Best is trial 54 with value: -0.05199534420534335.\u001b[0m\n",
      "\u001b[32m[I 2021-08-15 22:21:35,148]\u001b[0m Trial 60 finished with value: -0.22378856108903414 and parameters: {'n_estimators': 101, 'max_depth': 1.3703474925237795, 'learning_rate': 0.00023850325841387622}. Best is trial 54 with value: -0.05199534420534335.\u001b[0m\n",
      "\u001b[32m[I 2021-08-15 22:22:28,844]\u001b[0m Trial 61 finished with value: -0.05350314542738672 and parameters: {'n_estimators': 117, 'max_depth': 5.335885133613306, 'learning_rate': 0.13886991271773527}. Best is trial 54 with value: -0.05199534420534335.\u001b[0m\n",
      "\u001b[32m[I 2021-08-15 22:23:28,114]\u001b[0m Trial 62 finished with value: -0.0527499476006044 and parameters: {'n_estimators': 113, 'max_depth': 6.562917484017387, 'learning_rate': 0.07806562297006467}. Best is trial 54 with value: -0.05199534420534335.\u001b[0m\n",
      "\u001b[32m[I 2021-08-15 22:24:34,612]\u001b[0m Trial 63 finished with value: -0.05163768632120625 and parameters: {'n_estimators': 113, 'max_depth': 7.265364011095706, 'learning_rate': 0.08324081274091524}. Best is trial 63 with value: -0.05163768632120625.\u001b[0m\n",
      "\u001b[32m[I 2021-08-15 22:25:39,153]\u001b[0m Trial 64 finished with value: -0.05248128558796475 and parameters: {'n_estimators': 122, 'max_depth': 6.95495367551777, 'learning_rate': 0.07652393562711}. Best is trial 63 with value: -0.05163768632120625.\u001b[0m\n",
      "\u001b[32m[I 2021-08-15 22:26:43,213]\u001b[0m Trial 65 finished with value: -0.05284144414794739 and parameters: {'n_estimators': 123, 'max_depth': 6.6869645379724245, 'learning_rate': 0.06432255785068089}. Best is trial 63 with value: -0.05163768632120625.\u001b[0m\n",
      "\u001b[32m[I 2021-08-15 22:28:05,581]\u001b[0m Trial 66 finished with value: -0.05129906546550029 and parameters: {'n_estimators': 141, 'max_depth': 7.129754111218768, 'learning_rate': 0.08566224660821928}. Best is trial 66 with value: -0.05129906546550029.\u001b[0m\n",
      "\u001b[32m[I 2021-08-15 22:29:28,023]\u001b[0m Trial 67 finished with value: -0.05228659057508873 and parameters: {'n_estimators': 142, 'max_depth': 7.286535689143602, 'learning_rate': 0.04577103591169596}. Best is trial 66 with value: -0.05129906546550029.\u001b[0m\n",
      "\u001b[32m[I 2021-08-15 22:30:42,053]\u001b[0m Trial 68 finished with value: -0.05688995133518632 and parameters: {'n_estimators': 165, 'max_depth': 5.739561696069073, 'learning_rate': 0.03850974373930992}. Best is trial 66 with value: -0.05129906546550029.\u001b[0m\n",
      "\u001b[32m[I 2021-08-15 22:32:01,792]\u001b[0m Trial 69 finished with value: -0.052400224884291545 and parameters: {'n_estimators': 136, 'max_depth': 7.170606572863614, 'learning_rate': 0.04728448262876706}. Best is trial 66 with value: -0.05129906546550029.\u001b[0m\n",
      "\u001b[32m[I 2021-08-15 22:32:54,480]\u001b[0m Trial 70 finished with value: -0.07904941521489124 and parameters: {'n_estimators': 144, 'max_depth': 4.384291317915611, 'learning_rate': 0.021161094527604857}. Best is trial 66 with value: -0.05129906546550029.\u001b[0m\n",
      "\u001b[32m[I 2021-08-15 22:34:24,534]\u001b[0m Trial 71 finished with value: -0.06607380976228742 and parameters: {'n_estimators': 156, 'max_depth': 7.258975258335616, 'learning_rate': 0.015636975519090057}. Best is trial 66 with value: -0.05129906546550029.\u001b[0m\n",
      "\u001b[32m[I 2021-08-15 22:35:37,702]\u001b[0m Trial 72 finished with value: -0.053235300463872905 and parameters: {'n_estimators': 142, 'max_depth': 6.139330165290407, 'learning_rate': 0.04979396896146623}. Best is trial 66 with value: -0.05129906546550029.\u001b[0m\n",
      "\u001b[32m[I 2021-08-15 22:36:47,170]\u001b[0m Trial 73 finished with value: -0.05185752281513851 and parameters: {'n_estimators': 134, 'max_depth': 6.855689500947063, 'learning_rate': 0.08910709108690827}. Best is trial 66 with value: -0.05129906546550029.\u001b[0m\n",
      "\u001b[32m[I 2021-08-15 22:38:06,390]\u001b[0m Trial 74 finished with value: -0.0522458227740589 and parameters: {'n_estimators': 136, 'max_depth': 7.463507312887702, 'learning_rate': 0.050759264396036355}. Best is trial 66 with value: -0.05129906546550029.\u001b[0m\n",
      "\u001b[32m[I 2021-08-15 22:39:14,785]\u001b[0m Trial 75 finished with value: -0.05796083024945423 and parameters: {'n_estimators': 134, 'max_depth': 6.368451219522009, 'learning_rate': 0.031546100570889496}. Best is trial 66 with value: -0.05129906546550029.\u001b[0m\n",
      "\u001b[32m[I 2021-08-15 22:40:30,528]\u001b[0m Trial 76 finished with value: -0.052599706794686805 and parameters: {'n_estimators': 130, 'max_depth': 7.244493054306578, 'learning_rate': 0.046773137478719404}. Best is trial 66 with value: -0.05129906546550029.\u001b[0m\n",
      "\u001b[32m[I 2021-08-15 22:41:51,841]\u001b[0m Trial 77 finished with value: -0.051308397856081885 and parameters: {'n_estimators': 138, 'max_depth': 7.657803330755752, 'learning_rate': 0.09039008343409108}. Best is trial 66 with value: -0.05129906546550029.\u001b[0m\n",
      "\u001b[32m[I 2021-08-15 22:43:18,110]\u001b[0m Trial 78 finished with value: -0.05154344008285803 and parameters: {'n_estimators': 147, 'max_depth': 7.8464695567114395, 'learning_rate': 0.09276847390375122}. Best is trial 66 with value: -0.05129906546550029.\u001b[0m\n",
      "\u001b[32m[I 2021-08-15 22:44:48,561]\u001b[0m Trial 79 finished with value: -0.05136041821484236 and parameters: {'n_estimators': 156, 'max_depth': 7.924729434719671, 'learning_rate': 0.09451330529518341}. Best is trial 66 with value: -0.05129906546550029.\u001b[0m\n",
      "\u001b[32m[I 2021-08-15 22:46:21,501]\u001b[0m Trial 80 finished with value: -0.05132996409809671 and parameters: {'n_estimators': 156, 'max_depth': 7.897480740460265, 'learning_rate': 0.0940230397455829}. Best is trial 66 with value: -0.05129906546550029.\u001b[0m\n",
      "\u001b[32m[I 2021-08-15 22:46:51,893]\u001b[0m Trial 81 finished with value: -0.06890408489251312 and parameters: {'n_estimators': 157, 'max_depth': 2.8880868091016945, 'learning_rate': 0.0957468412248855}. Best is trial 66 with value: -0.05129906546550029.\u001b[0m\n",
      "\u001b[32m[I 2021-08-15 22:48:49,508]\u001b[0m Trial 82 finished with value: -0.054868933411844074 and parameters: {'n_estimators': 177, 'max_depth': 8.048076560441258, 'learning_rate': 0.2171648517526142}. Best is trial 66 with value: -0.05129906546550029.\u001b[0m\n",
      "\u001b[32m[I 2021-08-15 22:50:26,331]\u001b[0m Trial 83 finished with value: -0.05119613453555263 and parameters: {'n_estimators': 165, 'max_depth': 7.742003352230158, 'learning_rate': 0.08808430013447574}. Best is trial 83 with value: -0.05119613453555263.\u001b[0m\n",
      "\u001b[32m[I 2021-08-15 22:52:28,484]\u001b[0m Trial 84 finished with value: -0.05486158063855084 and parameters: {'n_estimators': 166, 'max_depth': 9.324120721315294, 'learning_rate': 0.18141881980227653}. Best is trial 83 with value: -0.05119613453555263.\u001b[0m\n",
      "\u001b[32m[I 2021-08-15 22:54:05,780]\u001b[0m Trial 85 finished with value: -0.05138449302236011 and parameters: {'n_estimators': 188, 'max_depth': 6.760908910627936, 'learning_rate': 0.08701163771913725}. Best is trial 83 with value: -0.05119613453555263.\u001b[0m\n",
      "\u001b[32m[I 2021-08-15 22:55:45,229]\u001b[0m Trial 86 finished with value: -0.051203484706031734 and parameters: {'n_estimators': 192, 'max_depth': 6.540215038200375, 'learning_rate': 0.08827771980124319}. Best is trial 83 with value: -0.05119613453555263.\u001b[0m\n",
      "\u001b[32m[I 2021-08-15 22:57:35,173]\u001b[0m Trial 87 finished with value: -0.05107531443090187 and parameters: {'n_estimators': 187, 'max_depth': 7.920281630913733, 'learning_rate': 0.06374800807435875}. Best is trial 87 with value: -0.05107531443090187.\u001b[0m\n",
      "\u001b[32m[I 2021-08-15 22:59:26,867]\u001b[0m Trial 88 finished with value: -0.05123656199667359 and parameters: {'n_estimators': 192, 'max_depth': 7.887391139237466, 'learning_rate': 0.06330350430297073}. Best is trial 87 with value: -0.05107531443090187.\u001b[0m\n",
      "\u001b[32m[I 2021-08-15 23:00:03,183]\u001b[0m Trial 89 finished with value: -0.07285849438083646 and parameters: {'n_estimators': 192, 'max_depth': 2.2108794522822732, 'learning_rate': 0.05974999269777788}. Best is trial 87 with value: -0.05107531443090187.\u001b[0m\n",
      "\u001b[32m[I 2021-08-15 23:01:44,339]\u001b[0m Trial 90 finished with value: -0.05694407687517591 and parameters: {'n_estimators': 191, 'max_depth': 6.565981420491316, 'learning_rate': 0.32303716797708637}. Best is trial 87 with value: -0.05107531443090187.\u001b[0m\n",
      "\u001b[32m[I 2021-08-15 23:03:42,842]\u001b[0m Trial 91 finished with value: -0.05330207258362662 and parameters: {'n_estimators': 199, 'max_depth': 7.84519194370893, 'learning_rate': 0.19222611804538717}. Best is trial 87 with value: -0.05107531443090187.\u001b[0m\n",
      "\u001b[32m[I 2021-08-15 23:05:32,980]\u001b[0m Trial 92 finished with value: -0.05134267930602599 and parameters: {'n_estimators': 186, 'max_depth': 7.91292160492773, 'learning_rate': 0.10069171161644537}. Best is trial 87 with value: -0.05107531443090187.\u001b[0m\n",
      "\u001b[32m[I 2021-08-15 23:07:43,948]\u001b[0m Trial 93 finished with value: -0.05285518397063649 and parameters: {'n_estimators': 185, 'max_depth': 9.228505604321875, 'learning_rate': 0.0648157550973326}. Best is trial 87 with value: -0.05107531443090187.\u001b[0m\n",
      "\u001b[32m[I 2021-08-15 23:09:10,441]\u001b[0m Trial 94 finished with value: -0.05452995614968831 and parameters: {'n_estimators': 171, 'max_depth': 6.106331186913661, 'learning_rate': 0.03367467223537263}. Best is trial 87 with value: -0.05107531443090187.\u001b[0m\n",
      "\u001b[32m[I 2021-08-15 23:11:09,774]\u001b[0m Trial 95 finished with value: -0.052478670744504775 and parameters: {'n_estimators': 182, 'max_depth': 8.200643351979796, 'learning_rate': 0.11141392650784503}. Best is trial 87 with value: -0.05107531443090187.\u001b[0m\n",
      "\u001b[32m[I 2021-08-15 23:12:32,062]\u001b[0m Trial 96 finished with value: -0.060511937975410414 and parameters: {'n_estimators': 186, 'max_depth': 5.592614394512464, 'learning_rate': 0.025457906512606435}. Best is trial 87 with value: -0.05107531443090187.\u001b[0m\n",
      "\u001b[32m[I 2021-08-15 23:14:41,637]\u001b[0m Trial 97 finished with value: -0.052520895163515637 and parameters: {'n_estimators': 197, 'max_depth': 8.418648870523993, 'learning_rate': 0.10525942498304738}. Best is trial 87 with value: -0.05107531443090187.\u001b[0m\n",
      "\u001b[32m[I 2021-08-15 23:15:31,596]\u001b[0m Trial 98 finished with value: -0.06225738985213979 and parameters: {'n_estimators': 177, 'max_depth': 3.6103148700543546, 'learning_rate': 0.06354245431834142}. Best is trial 87 with value: -0.05107531443090187.\u001b[0m\n",
      "\u001b[32m[I 2021-08-15 23:17:08,733]\u001b[0m Trial 99 finished with value: -0.05334061529179348 and parameters: {'n_estimators': 163, 'max_depth': 7.828226462852263, 'learning_rate': 0.18308281243357885}. Best is trial 87 with value: -0.05107531443090187.\u001b[0m\n"
     ]
    },
    {
     "name": "stdout",
     "output_type": "stream",
     "text": [
      "Wall time: 1h 49min 36s\n"
     ]
    }
   ],
   "source": [
    "%%time\n",
    "study = optuna.create_study(direction='maximize')\n",
    "study.optimize(obj_GB, n_trials=100)"
   ]
  },
  {
   "cell_type": "markdown",
   "id": "worth-woman",
   "metadata": {},
   "source": [
    "Can use direct visualization (install plotly library) or write figures to image. Note: Also need to install [kaleido](https://github.com/optuna/optuna/issues/602) to export plotly figures\n"
   ]
  },
  {
   "cell_type": "code",
   "execution_count": 36,
   "id": "accessible-emphasis",
   "metadata": {},
   "outputs": [
    {
     "data": {
      "application/vnd.plotly.v1+json": {
       "config": {
        "plotlyServerURL": "https://plot.ly"
       },
       "data": [
        {
         "mode": "markers",
         "name": "Objective Value",
         "type": "scatter",
         "x": [
          0,
          1,
          2,
          3,
          4,
          5,
          6,
          7,
          8,
          9,
          10,
          11,
          12,
          13,
          14,
          15,
          16,
          17,
          18,
          19,
          20,
          21,
          22,
          23,
          24,
          25,
          26,
          27,
          28,
          29,
          30,
          31,
          32,
          33,
          34,
          35,
          36,
          37,
          38,
          39,
          40,
          41,
          42,
          43,
          44,
          45,
          46,
          47,
          48,
          49,
          50,
          51,
          52,
          53,
          54,
          55,
          56,
          57,
          58,
          59,
          60,
          61,
          62,
          63,
          64,
          65,
          66,
          67,
          68,
          69,
          70,
          71,
          72,
          73,
          74,
          75,
          76,
          77,
          78,
          79,
          80,
          81,
          82,
          83,
          84,
          85,
          86,
          87,
          88,
          89,
          90,
          91,
          92,
          93,
          94,
          95,
          96,
          97,
          98,
          99
         ],
         "y": [
          -0.13947638888243055,
          -0.21887384128155493,
          -0.11961728426717466,
          -0.219156767811572,
          -0.05361797559961646,
          -0.2223710073551616,
          -0.22274499509100873,
          -0.11665636060477357,
          -0.21888487814791294,
          -0.06269388399970034,
          -0.07118916952592193,
          -0.05504563989463259,
          -0.05839745846463632,
          -0.054557262728302615,
          -0.08821675776931392,
          -0.07549847766603024,
          -0.2217616253719602,
          -0.08367617396679276,
          -0.057622127164433906,
          -0.057292943577395485,
          -0.09336222692432776,
          -0.05455732368567151,
          -0.0578597885171081,
          -0.05464284959815597,
          -0.061501430098515934,
          -0.05423760595823487,
          -0.05661015527465157,
          -0.10939981680954845,
          -0.05216031131024714,
          -0.12823080781262486,
          -0.14770057236346978,
          -0.05679559117333902,
          -0.0849659075040845,
          -0.05696211154406202,
          -0.05395288496668125,
          -0.05842073929763716,
          -0.06391099797932585,
          -0.05397798307523909,
          -0.05247169341546551,
          -0.05346359382371877,
          -0.053624385374278695,
          -0.05381825957409256,
          -0.05325225902888838,
          -0.05413638886785201,
          -0.07597587909714178,
          -0.05550367097809794,
          -0.21510149145237342,
          -0.20619019483737744,
          -0.05965599468023255,
          -0.052575354607077913,
          -0.05284569701995332,
          -0.05293149884046949,
          -0.054716002369501804,
          -0.09140660436824499,
          -0.05199534420534335,
          -0.053819902694806986,
          -0.0617164744771189,
          -0.05318313403051824,
          -0.05645836153063966,
          -0.05556260389474111,
          -0.22378856108903414,
          -0.05350314542738672,
          -0.0527499476006044,
          -0.05163768632120625,
          -0.05248128558796475,
          -0.05284144414794739,
          -0.05129906546550029,
          -0.05228659057508873,
          -0.05688995133518632,
          -0.052400224884291545,
          -0.07904941521489124,
          -0.06607380976228742,
          -0.053235300463872905,
          -0.05185752281513851,
          -0.0522458227740589,
          -0.05796083024945423,
          -0.052599706794686805,
          -0.051308397856081885,
          -0.05154344008285803,
          -0.05136041821484236,
          -0.05132996409809671,
          -0.06890408489251312,
          -0.054868933411844074,
          -0.05119613453555263,
          -0.05486158063855084,
          -0.05138449302236011,
          -0.051203484706031734,
          -0.05107531443090187,
          -0.05123656199667359,
          -0.07285849438083646,
          -0.05694407687517591,
          -0.05330207258362662,
          -0.05134267930602599,
          -0.05285518397063649,
          -0.05452995614968831,
          -0.052478670744504775,
          -0.060511937975410414,
          -0.052520895163515637,
          -0.06225738985213979,
          -0.05334061529179348
         ]
        },
        {
         "name": "Best Value",
         "type": "scatter",
         "x": [
          0,
          1,
          2,
          3,
          4,
          5,
          6,
          7,
          8,
          9,
          10,
          11,
          12,
          13,
          14,
          15,
          16,
          17,
          18,
          19,
          20,
          21,
          22,
          23,
          24,
          25,
          26,
          27,
          28,
          29,
          30,
          31,
          32,
          33,
          34,
          35,
          36,
          37,
          38,
          39,
          40,
          41,
          42,
          43,
          44,
          45,
          46,
          47,
          48,
          49,
          50,
          51,
          52,
          53,
          54,
          55,
          56,
          57,
          58,
          59,
          60,
          61,
          62,
          63,
          64,
          65,
          66,
          67,
          68,
          69,
          70,
          71,
          72,
          73,
          74,
          75,
          76,
          77,
          78,
          79,
          80,
          81,
          82,
          83,
          84,
          85,
          86,
          87,
          88,
          89,
          90,
          91,
          92,
          93,
          94,
          95,
          96,
          97,
          98,
          99
         ],
         "y": [
          -0.13947638888243055,
          -0.13947638888243055,
          -0.11961728426717466,
          -0.11961728426717466,
          -0.05361797559961646,
          -0.05361797559961646,
          -0.05361797559961646,
          -0.05361797559961646,
          -0.05361797559961646,
          -0.05361797559961646,
          -0.05361797559961646,
          -0.05361797559961646,
          -0.05361797559961646,
          -0.05361797559961646,
          -0.05361797559961646,
          -0.05361797559961646,
          -0.05361797559961646,
          -0.05361797559961646,
          -0.05361797559961646,
          -0.05361797559961646,
          -0.05361797559961646,
          -0.05361797559961646,
          -0.05361797559961646,
          -0.05361797559961646,
          -0.05361797559961646,
          -0.05361797559961646,
          -0.05361797559961646,
          -0.05361797559961646,
          -0.05216031131024714,
          -0.05216031131024714,
          -0.05216031131024714,
          -0.05216031131024714,
          -0.05216031131024714,
          -0.05216031131024714,
          -0.05216031131024714,
          -0.05216031131024714,
          -0.05216031131024714,
          -0.05216031131024714,
          -0.05216031131024714,
          -0.05216031131024714,
          -0.05216031131024714,
          -0.05216031131024714,
          -0.05216031131024714,
          -0.05216031131024714,
          -0.05216031131024714,
          -0.05216031131024714,
          -0.05216031131024714,
          -0.05216031131024714,
          -0.05216031131024714,
          -0.05216031131024714,
          -0.05216031131024714,
          -0.05216031131024714,
          -0.05216031131024714,
          -0.05216031131024714,
          -0.05199534420534335,
          -0.05199534420534335,
          -0.05199534420534335,
          -0.05199534420534335,
          -0.05199534420534335,
          -0.05199534420534335,
          -0.05199534420534335,
          -0.05199534420534335,
          -0.05199534420534335,
          -0.05163768632120625,
          -0.05163768632120625,
          -0.05163768632120625,
          -0.05129906546550029,
          -0.05129906546550029,
          -0.05129906546550029,
          -0.05129906546550029,
          -0.05129906546550029,
          -0.05129906546550029,
          -0.05129906546550029,
          -0.05129906546550029,
          -0.05129906546550029,
          -0.05129906546550029,
          -0.05129906546550029,
          -0.05129906546550029,
          -0.05129906546550029,
          -0.05129906546550029,
          -0.05129906546550029,
          -0.05129906546550029,
          -0.05129906546550029,
          -0.05119613453555263,
          -0.05119613453555263,
          -0.05119613453555263,
          -0.05119613453555263,
          -0.05107531443090187,
          -0.05107531443090187,
          -0.05107531443090187,
          -0.05107531443090187,
          -0.05107531443090187,
          -0.05107531443090187,
          -0.05107531443090187,
          -0.05107531443090187,
          -0.05107531443090187,
          -0.05107531443090187,
          -0.05107531443090187,
          -0.05107531443090187,
          -0.05107531443090187
         ]
        }
       ],
       "layout": {
        "autosize": true,
        "template": {
         "data": {
          "bar": [
           {
            "error_x": {
             "color": "#2a3f5f"
            },
            "error_y": {
             "color": "#2a3f5f"
            },
            "marker": {
             "line": {
              "color": "#E5ECF6",
              "width": 0.5
             },
             "pattern": {
              "fillmode": "overlay",
              "size": 10,
              "solidity": 0.2
             }
            },
            "type": "bar"
           }
          ],
          "barpolar": [
           {
            "marker": {
             "line": {
              "color": "#E5ECF6",
              "width": 0.5
             },
             "pattern": {
              "fillmode": "overlay",
              "size": 10,
              "solidity": 0.2
             }
            },
            "type": "barpolar"
           }
          ],
          "carpet": [
           {
            "aaxis": {
             "endlinecolor": "#2a3f5f",
             "gridcolor": "white",
             "linecolor": "white",
             "minorgridcolor": "white",
             "startlinecolor": "#2a3f5f"
            },
            "baxis": {
             "endlinecolor": "#2a3f5f",
             "gridcolor": "white",
             "linecolor": "white",
             "minorgridcolor": "white",
             "startlinecolor": "#2a3f5f"
            },
            "type": "carpet"
           }
          ],
          "choropleth": [
           {
            "colorbar": {
             "outlinewidth": 0,
             "ticks": ""
            },
            "type": "choropleth"
           }
          ],
          "contour": [
           {
            "colorbar": {
             "outlinewidth": 0,
             "ticks": ""
            },
            "colorscale": [
             [
              0,
              "#0d0887"
             ],
             [
              0.1111111111111111,
              "#46039f"
             ],
             [
              0.2222222222222222,
              "#7201a8"
             ],
             [
              0.3333333333333333,
              "#9c179e"
             ],
             [
              0.4444444444444444,
              "#bd3786"
             ],
             [
              0.5555555555555556,
              "#d8576b"
             ],
             [
              0.6666666666666666,
              "#ed7953"
             ],
             [
              0.7777777777777778,
              "#fb9f3a"
             ],
             [
              0.8888888888888888,
              "#fdca26"
             ],
             [
              1,
              "#f0f921"
             ]
            ],
            "type": "contour"
           }
          ],
          "contourcarpet": [
           {
            "colorbar": {
             "outlinewidth": 0,
             "ticks": ""
            },
            "type": "contourcarpet"
           }
          ],
          "heatmap": [
           {
            "colorbar": {
             "outlinewidth": 0,
             "ticks": ""
            },
            "colorscale": [
             [
              0,
              "#0d0887"
             ],
             [
              0.1111111111111111,
              "#46039f"
             ],
             [
              0.2222222222222222,
              "#7201a8"
             ],
             [
              0.3333333333333333,
              "#9c179e"
             ],
             [
              0.4444444444444444,
              "#bd3786"
             ],
             [
              0.5555555555555556,
              "#d8576b"
             ],
             [
              0.6666666666666666,
              "#ed7953"
             ],
             [
              0.7777777777777778,
              "#fb9f3a"
             ],
             [
              0.8888888888888888,
              "#fdca26"
             ],
             [
              1,
              "#f0f921"
             ]
            ],
            "type": "heatmap"
           }
          ],
          "heatmapgl": [
           {
            "colorbar": {
             "outlinewidth": 0,
             "ticks": ""
            },
            "colorscale": [
             [
              0,
              "#0d0887"
             ],
             [
              0.1111111111111111,
              "#46039f"
             ],
             [
              0.2222222222222222,
              "#7201a8"
             ],
             [
              0.3333333333333333,
              "#9c179e"
             ],
             [
              0.4444444444444444,
              "#bd3786"
             ],
             [
              0.5555555555555556,
              "#d8576b"
             ],
             [
              0.6666666666666666,
              "#ed7953"
             ],
             [
              0.7777777777777778,
              "#fb9f3a"
             ],
             [
              0.8888888888888888,
              "#fdca26"
             ],
             [
              1,
              "#f0f921"
             ]
            ],
            "type": "heatmapgl"
           }
          ],
          "histogram": [
           {
            "marker": {
             "pattern": {
              "fillmode": "overlay",
              "size": 10,
              "solidity": 0.2
             }
            },
            "type": "histogram"
           }
          ],
          "histogram2d": [
           {
            "colorbar": {
             "outlinewidth": 0,
             "ticks": ""
            },
            "colorscale": [
             [
              0,
              "#0d0887"
             ],
             [
              0.1111111111111111,
              "#46039f"
             ],
             [
              0.2222222222222222,
              "#7201a8"
             ],
             [
              0.3333333333333333,
              "#9c179e"
             ],
             [
              0.4444444444444444,
              "#bd3786"
             ],
             [
              0.5555555555555556,
              "#d8576b"
             ],
             [
              0.6666666666666666,
              "#ed7953"
             ],
             [
              0.7777777777777778,
              "#fb9f3a"
             ],
             [
              0.8888888888888888,
              "#fdca26"
             ],
             [
              1,
              "#f0f921"
             ]
            ],
            "type": "histogram2d"
           }
          ],
          "histogram2dcontour": [
           {
            "colorbar": {
             "outlinewidth": 0,
             "ticks": ""
            },
            "colorscale": [
             [
              0,
              "#0d0887"
             ],
             [
              0.1111111111111111,
              "#46039f"
             ],
             [
              0.2222222222222222,
              "#7201a8"
             ],
             [
              0.3333333333333333,
              "#9c179e"
             ],
             [
              0.4444444444444444,
              "#bd3786"
             ],
             [
              0.5555555555555556,
              "#d8576b"
             ],
             [
              0.6666666666666666,
              "#ed7953"
             ],
             [
              0.7777777777777778,
              "#fb9f3a"
             ],
             [
              0.8888888888888888,
              "#fdca26"
             ],
             [
              1,
              "#f0f921"
             ]
            ],
            "type": "histogram2dcontour"
           }
          ],
          "mesh3d": [
           {
            "colorbar": {
             "outlinewidth": 0,
             "ticks": ""
            },
            "type": "mesh3d"
           }
          ],
          "parcoords": [
           {
            "line": {
             "colorbar": {
              "outlinewidth": 0,
              "ticks": ""
             }
            },
            "type": "parcoords"
           }
          ],
          "pie": [
           {
            "automargin": true,
            "type": "pie"
           }
          ],
          "scatter": [
           {
            "marker": {
             "colorbar": {
              "outlinewidth": 0,
              "ticks": ""
             }
            },
            "type": "scatter"
           }
          ],
          "scatter3d": [
           {
            "line": {
             "colorbar": {
              "outlinewidth": 0,
              "ticks": ""
             }
            },
            "marker": {
             "colorbar": {
              "outlinewidth": 0,
              "ticks": ""
             }
            },
            "type": "scatter3d"
           }
          ],
          "scattercarpet": [
           {
            "marker": {
             "colorbar": {
              "outlinewidth": 0,
              "ticks": ""
             }
            },
            "type": "scattercarpet"
           }
          ],
          "scattergeo": [
           {
            "marker": {
             "colorbar": {
              "outlinewidth": 0,
              "ticks": ""
             }
            },
            "type": "scattergeo"
           }
          ],
          "scattergl": [
           {
            "marker": {
             "colorbar": {
              "outlinewidth": 0,
              "ticks": ""
             }
            },
            "type": "scattergl"
           }
          ],
          "scattermapbox": [
           {
            "marker": {
             "colorbar": {
              "outlinewidth": 0,
              "ticks": ""
             }
            },
            "type": "scattermapbox"
           }
          ],
          "scatterpolar": [
           {
            "marker": {
             "colorbar": {
              "outlinewidth": 0,
              "ticks": ""
             }
            },
            "type": "scatterpolar"
           }
          ],
          "scatterpolargl": [
           {
            "marker": {
             "colorbar": {
              "outlinewidth": 0,
              "ticks": ""
             }
            },
            "type": "scatterpolargl"
           }
          ],
          "scatterternary": [
           {
            "marker": {
             "colorbar": {
              "outlinewidth": 0,
              "ticks": ""
             }
            },
            "type": "scatterternary"
           }
          ],
          "surface": [
           {
            "colorbar": {
             "outlinewidth": 0,
             "ticks": ""
            },
            "colorscale": [
             [
              0,
              "#0d0887"
             ],
             [
              0.1111111111111111,
              "#46039f"
             ],
             [
              0.2222222222222222,
              "#7201a8"
             ],
             [
              0.3333333333333333,
              "#9c179e"
             ],
             [
              0.4444444444444444,
              "#bd3786"
             ],
             [
              0.5555555555555556,
              "#d8576b"
             ],
             [
              0.6666666666666666,
              "#ed7953"
             ],
             [
              0.7777777777777778,
              "#fb9f3a"
             ],
             [
              0.8888888888888888,
              "#fdca26"
             ],
             [
              1,
              "#f0f921"
             ]
            ],
            "type": "surface"
           }
          ],
          "table": [
           {
            "cells": {
             "fill": {
              "color": "#EBF0F8"
             },
             "line": {
              "color": "white"
             }
            },
            "header": {
             "fill": {
              "color": "#C8D4E3"
             },
             "line": {
              "color": "white"
             }
            },
            "type": "table"
           }
          ]
         },
         "layout": {
          "annotationdefaults": {
           "arrowcolor": "#2a3f5f",
           "arrowhead": 0,
           "arrowwidth": 1
          },
          "autotypenumbers": "strict",
          "coloraxis": {
           "colorbar": {
            "outlinewidth": 0,
            "ticks": ""
           }
          },
          "colorscale": {
           "diverging": [
            [
             0,
             "#8e0152"
            ],
            [
             0.1,
             "#c51b7d"
            ],
            [
             0.2,
             "#de77ae"
            ],
            [
             0.3,
             "#f1b6da"
            ],
            [
             0.4,
             "#fde0ef"
            ],
            [
             0.5,
             "#f7f7f7"
            ],
            [
             0.6,
             "#e6f5d0"
            ],
            [
             0.7,
             "#b8e186"
            ],
            [
             0.8,
             "#7fbc41"
            ],
            [
             0.9,
             "#4d9221"
            ],
            [
             1,
             "#276419"
            ]
           ],
           "sequential": [
            [
             0,
             "#0d0887"
            ],
            [
             0.1111111111111111,
             "#46039f"
            ],
            [
             0.2222222222222222,
             "#7201a8"
            ],
            [
             0.3333333333333333,
             "#9c179e"
            ],
            [
             0.4444444444444444,
             "#bd3786"
            ],
            [
             0.5555555555555556,
             "#d8576b"
            ],
            [
             0.6666666666666666,
             "#ed7953"
            ],
            [
             0.7777777777777778,
             "#fb9f3a"
            ],
            [
             0.8888888888888888,
             "#fdca26"
            ],
            [
             1,
             "#f0f921"
            ]
           ],
           "sequentialminus": [
            [
             0,
             "#0d0887"
            ],
            [
             0.1111111111111111,
             "#46039f"
            ],
            [
             0.2222222222222222,
             "#7201a8"
            ],
            [
             0.3333333333333333,
             "#9c179e"
            ],
            [
             0.4444444444444444,
             "#bd3786"
            ],
            [
             0.5555555555555556,
             "#d8576b"
            ],
            [
             0.6666666666666666,
             "#ed7953"
            ],
            [
             0.7777777777777778,
             "#fb9f3a"
            ],
            [
             0.8888888888888888,
             "#fdca26"
            ],
            [
             1,
             "#f0f921"
            ]
           ]
          },
          "colorway": [
           "#636efa",
           "#EF553B",
           "#00cc96",
           "#ab63fa",
           "#FFA15A",
           "#19d3f3",
           "#FF6692",
           "#B6E880",
           "#FF97FF",
           "#FECB52"
          ],
          "font": {
           "color": "#2a3f5f"
          },
          "geo": {
           "bgcolor": "white",
           "lakecolor": "white",
           "landcolor": "#E5ECF6",
           "showlakes": true,
           "showland": true,
           "subunitcolor": "white"
          },
          "hoverlabel": {
           "align": "left"
          },
          "hovermode": "closest",
          "mapbox": {
           "style": "light"
          },
          "paper_bgcolor": "white",
          "plot_bgcolor": "#E5ECF6",
          "polar": {
           "angularaxis": {
            "gridcolor": "white",
            "linecolor": "white",
            "ticks": ""
           },
           "bgcolor": "#E5ECF6",
           "radialaxis": {
            "gridcolor": "white",
            "linecolor": "white",
            "ticks": ""
           }
          },
          "scene": {
           "xaxis": {
            "backgroundcolor": "#E5ECF6",
            "gridcolor": "white",
            "gridwidth": 2,
            "linecolor": "white",
            "showbackground": true,
            "ticks": "",
            "zerolinecolor": "white"
           },
           "yaxis": {
            "backgroundcolor": "#E5ECF6",
            "gridcolor": "white",
            "gridwidth": 2,
            "linecolor": "white",
            "showbackground": true,
            "ticks": "",
            "zerolinecolor": "white"
           },
           "zaxis": {
            "backgroundcolor": "#E5ECF6",
            "gridcolor": "white",
            "gridwidth": 2,
            "linecolor": "white",
            "showbackground": true,
            "ticks": "",
            "zerolinecolor": "white"
           }
          },
          "shapedefaults": {
           "line": {
            "color": "#2a3f5f"
           }
          },
          "ternary": {
           "aaxis": {
            "gridcolor": "white",
            "linecolor": "white",
            "ticks": ""
           },
           "baxis": {
            "gridcolor": "white",
            "linecolor": "white",
            "ticks": ""
           },
           "bgcolor": "#E5ECF6",
           "caxis": {
            "gridcolor": "white",
            "linecolor": "white",
            "ticks": ""
           }
          },
          "title": {
           "x": 0.05
          },
          "xaxis": {
           "automargin": true,
           "gridcolor": "white",
           "linecolor": "white",
           "ticks": "",
           "title": {
            "standoff": 15
           },
           "zerolinecolor": "white",
           "zerolinewidth": 2
          },
          "yaxis": {
           "automargin": true,
           "gridcolor": "white",
           "linecolor": "white",
           "ticks": "",
           "title": {
            "standoff": 15
           },
           "zerolinecolor": "white",
           "zerolinewidth": 2
          }
         }
        },
        "title": {
         "text": "Optimization History Plot"
        },
        "xaxis": {
         "autorange": true,
         "range": [
          -5.903225806451613,
          104.90322580645162
         ],
         "title": {
          "text": "#Trials"
         },
         "type": "linear"
        },
        "yaxis": {
         "autorange": true,
         "range": [
          -0.2380415960074237,
          -0.03682227951251232
         ],
         "title": {
          "text": "Objective Value"
         },
         "type": "linear"
        }
       }
      },
      "image/png": "[encoded data removed]",
      "text/html": [
       "<div>                            <div id=\"fa158f90-f279-4c2d-9f49-fa8a38d13a73\" class=\"plotly-graph-div\" style=\"height:525px; width:100%;\"></div>            <script type=\"text/javascript\">                require([\"plotly\"], function(Plotly) {                    window.PLOTLYENV=window.PLOTLYENV || {};                                    if (document.getElementById(\"fa158f90-f279-4c2d-9f49-fa8a38d13a73\")) {                    Plotly.newPlot(                        \"fa158f90-f279-4c2d-9f49-fa8a38d13a73\",                        [{\"mode\":\"markers\",\"name\":\"Objective Value\",\"type\":\"scatter\",\"x\":[0,1,2,3,4,5,6,7,8,9,10,11,12,13,14,15,16,17,18,19,20,21,22,23,24,25,26,27,28,29,30,31,32,33,34,35,36,37,38,39,40,41,42,43,44,45,46,47,48,49,50,51,52,53,54,55,56,57,58,59,60,61,62,63,64,65,66,67,68,69,70,71,72,73,74,75,76,77,78,79,80,81,82,83,84,85,86,87,88,89,90,91,92,93,94,95,96,97,98,99],\"y\":[-0.13947638888243055,-0.21887384128155493,-0.11961728426717466,-0.219156767811572,-0.05361797559961646,-0.2223710073551616,-0.22274499509100873,-0.11665636060477357,-0.21888487814791294,-0.06269388399970034,-0.07118916952592193,-0.05504563989463259,-0.05839745846463632,-0.054557262728302615,-0.08821675776931392,-0.07549847766603024,-0.2217616253719602,-0.08367617396679276,-0.057622127164433906,-0.057292943577395485,-0.09336222692432776,-0.05455732368567151,-0.0578597885171081,-0.05464284959815597,-0.061501430098515934,-0.05423760595823487,-0.05661015527465157,-0.10939981680954845,-0.05216031131024714,-0.12823080781262486,-0.14770057236346978,-0.05679559117333902,-0.0849659075040845,-0.05696211154406202,-0.05395288496668125,-0.05842073929763716,-0.06391099797932585,-0.05397798307523909,-0.05247169341546551,-0.05346359382371877,-0.053624385374278695,-0.05381825957409256,-0.05325225902888838,-0.05413638886785201,-0.07597587909714178,-0.05550367097809794,-0.21510149145237342,-0.20619019483737744,-0.05965599468023255,-0.052575354607077913,-0.05284569701995332,-0.05293149884046949,-0.054716002369501804,-0.09140660436824499,-0.05199534420534335,-0.053819902694806986,-0.0617164744771189,-0.05318313403051824,-0.05645836153063966,-0.05556260389474111,-0.22378856108903414,-0.05350314542738672,-0.0527499476006044,-0.05163768632120625,-0.05248128558796475,-0.05284144414794739,-0.05129906546550029,-0.05228659057508873,-0.05688995133518632,-0.052400224884291545,-0.07904941521489124,-0.06607380976228742,-0.053235300463872905,-0.05185752281513851,-0.0522458227740589,-0.05796083024945423,-0.052599706794686805,-0.051308397856081885,-0.05154344008285803,-0.05136041821484236,-0.05132996409809671,-0.06890408489251312,-0.054868933411844074,-0.05119613453555263,-0.05486158063855084,-0.05138449302236011,-0.051203484706031734,-0.05107531443090187,-0.05123656199667359,-0.07285849438083646,-0.05694407687517591,-0.05330207258362662,-0.05134267930602599,-0.05285518397063649,-0.05452995614968831,-0.052478670744504775,-0.060511937975410414,-0.052520895163515637,-0.06225738985213979,-0.05334061529179348]},{\"name\":\"Best Value\",\"type\":\"scatter\",\"x\":[0,1,2,3,4,5,6,7,8,9,10,11,12,13,14,15,16,17,18,19,20,21,22,23,24,25,26,27,28,29,30,31,32,33,34,35,36,37,38,39,40,41,42,43,44,45,46,47,48,49,50,51,52,53,54,55,56,57,58,59,60,61,62,63,64,65,66,67,68,69,70,71,72,73,74,75,76,77,78,79,80,81,82,83,84,85,86,87,88,89,90,91,92,93,94,95,96,97,98,99],\"y\":[-0.13947638888243055,-0.13947638888243055,-0.11961728426717466,-0.11961728426717466,-0.05361797559961646,-0.05361797559961646,-0.05361797559961646,-0.05361797559961646,-0.05361797559961646,-0.05361797559961646,-0.05361797559961646,-0.05361797559961646,-0.05361797559961646,-0.05361797559961646,-0.05361797559961646,-0.05361797559961646,-0.05361797559961646,-0.05361797559961646,-0.05361797559961646,-0.05361797559961646,-0.05361797559961646,-0.05361797559961646,-0.05361797559961646,-0.05361797559961646,-0.05361797559961646,-0.05361797559961646,-0.05361797559961646,-0.05361797559961646,-0.05216031131024714,-0.05216031131024714,-0.05216031131024714,-0.05216031131024714,-0.05216031131024714,-0.05216031131024714,-0.05216031131024714,-0.05216031131024714,-0.05216031131024714,-0.05216031131024714,-0.05216031131024714,-0.05216031131024714,-0.05216031131024714,-0.05216031131024714,-0.05216031131024714,-0.05216031131024714,-0.05216031131024714,-0.05216031131024714,-0.05216031131024714,-0.05216031131024714,-0.05216031131024714,-0.05216031131024714,-0.05216031131024714,-0.05216031131024714,-0.05216031131024714,-0.05216031131024714,-0.05199534420534335,-0.05199534420534335,-0.05199534420534335,-0.05199534420534335,-0.05199534420534335,-0.05199534420534335,-0.05199534420534335,-0.05199534420534335,-0.05199534420534335,-0.05163768632120625,-0.05163768632120625,-0.05163768632120625,-0.05129906546550029,-0.05129906546550029,-0.05129906546550029,-0.05129906546550029,-0.05129906546550029,-0.05129906546550029,-0.05129906546550029,-0.05129906546550029,-0.05129906546550029,-0.05129906546550029,-0.05129906546550029,-0.05129906546550029,-0.05129906546550029,-0.05129906546550029,-0.05129906546550029,-0.05129906546550029,-0.05129906546550029,-0.05119613453555263,-0.05119613453555263,-0.05119613453555263,-0.05119613453555263,-0.05107531443090187,-0.05107531443090187,-0.05107531443090187,-0.05107531443090187,-0.05107531443090187,-0.05107531443090187,-0.05107531443090187,-0.05107531443090187,-0.05107531443090187,-0.05107531443090187,-0.05107531443090187,-0.05107531443090187,-0.05107531443090187]}],                        {\"template\":{\"data\":{\"bar\":[{\"error_x\":{\"color\":\"#2a3f5f\"},\"error_y\":{\"color\":\"#2a3f5f\"},\"marker\":{\"line\":{\"color\":\"#E5ECF6\",\"width\":0.5},\"pattern\":{\"fillmode\":\"overlay\",\"size\":10,\"solidity\":0.2}},\"type\":\"bar\"}],\"barpolar\":[{\"marker\":{\"line\":{\"color\":\"#E5ECF6\",\"width\":0.5},\"pattern\":{\"fillmode\":\"overlay\",\"size\":10,\"solidity\":0.2}},\"type\":\"barpolar\"}],\"carpet\":[{\"aaxis\":{\"endlinecolor\":\"#2a3f5f\",\"gridcolor\":\"white\",\"linecolor\":\"white\",\"minorgridcolor\":\"white\",\"startlinecolor\":\"#2a3f5f\"},\"baxis\":{\"endlinecolor\":\"#2a3f5f\",\"gridcolor\":\"white\",\"linecolor\":\"white\",\"minorgridcolor\":\"white\",\"startlinecolor\":\"#2a3f5f\"},\"type\":\"carpet\"}],\"choropleth\":[{\"colorbar\":{\"outlinewidth\":0,\"ticks\":\"\"},\"type\":\"choropleth\"}],\"contour\":[{\"colorbar\":{\"outlinewidth\":0,\"ticks\":\"\"},\"colorscale\":[[0.0,\"#0d0887\"],[0.1111111111111111,\"#46039f\"],[0.2222222222222222,\"#7201a8\"],[0.3333333333333333,\"#9c179e\"],[0.4444444444444444,\"#bd3786\"],[0.5555555555555556,\"#d8576b\"],[0.6666666666666666,\"#ed7953\"],[0.7777777777777778,\"#fb9f3a\"],[0.8888888888888888,\"#fdca26\"],[1.0,\"#f0f921\"]],\"type\":\"contour\"}],\"contourcarpet\":[{\"colorbar\":{\"outlinewidth\":0,\"ticks\":\"\"},\"type\":\"contourcarpet\"}],\"heatmap\":[{\"colorbar\":{\"outlinewidth\":0,\"ticks\":\"\"},\"colorscale\":[[0.0,\"#0d0887\"],[0.1111111111111111,\"#46039f\"],[0.2222222222222222,\"#7201a8\"],[0.3333333333333333,\"#9c179e\"],[0.4444444444444444,\"#bd3786\"],[0.5555555555555556,\"#d8576b\"],[0.6666666666666666,\"#ed7953\"],[0.7777777777777778,\"#fb9f3a\"],[0.8888888888888888,\"#fdca26\"],[1.0,\"#f0f921\"]],\"type\":\"heatmap\"}],\"heatmapgl\":[{\"colorbar\":{\"outlinewidth\":0,\"ticks\":\"\"},\"colorscale\":[[0.0,\"#0d0887\"],[0.1111111111111111,\"#46039f\"],[0.2222222222222222,\"#7201a8\"],[0.3333333333333333,\"#9c179e\"],[0.4444444444444444,\"#bd3786\"],[0.5555555555555556,\"#d8576b\"],[0.6666666666666666,\"#ed7953\"],[0.7777777777777778,\"#fb9f3a\"],[0.8888888888888888,\"#fdca26\"],[1.0,\"#f0f921\"]],\"type\":\"heatmapgl\"}],\"histogram\":[{\"marker\":{\"pattern\":{\"fillmode\":\"overlay\",\"size\":10,\"solidity\":0.2}},\"type\":\"histogram\"}],\"histogram2d\":[{\"colorbar\":{\"outlinewidth\":0,\"ticks\":\"\"},\"colorscale\":[[0.0,\"#0d0887\"],[0.1111111111111111,\"#46039f\"],[0.2222222222222222,\"#7201a8\"],[0.3333333333333333,\"#9c179e\"],[0.4444444444444444,\"#bd3786\"],[0.5555555555555556,\"#d8576b\"],[0.6666666666666666,\"#ed7953\"],[0.7777777777777778,\"#fb9f3a\"],[0.8888888888888888,\"#fdca26\"],[1.0,\"#f0f921\"]],\"type\":\"histogram2d\"}],\"histogram2dcontour\":[{\"colorbar\":{\"outlinewidth\":0,\"ticks\":\"\"},\"colorscale\":[[0.0,\"#0d0887\"],[0.1111111111111111,\"#46039f\"],[0.2222222222222222,\"#7201a8\"],[0.3333333333333333,\"#9c179e\"],[0.4444444444444444,\"#bd3786\"],[0.5555555555555556,\"#d8576b\"],[0.6666666666666666,\"#ed7953\"],[0.7777777777777778,\"#fb9f3a\"],[0.8888888888888888,\"#fdca26\"],[1.0,\"#f0f921\"]],\"type\":\"histogram2dcontour\"}],\"mesh3d\":[{\"colorbar\":{\"outlinewidth\":0,\"ticks\":\"\"},\"type\":\"mesh3d\"}],\"parcoords\":[{\"line\":{\"colorbar\":{\"outlinewidth\":0,\"ticks\":\"\"}},\"type\":\"parcoords\"}],\"pie\":[{\"automargin\":true,\"type\":\"pie\"}],\"scatter\":[{\"marker\":{\"colorbar\":{\"outlinewidth\":0,\"ticks\":\"\"}},\"type\":\"scatter\"}],\"scatter3d\":[{\"line\":{\"colorbar\":{\"outlinewidth\":0,\"ticks\":\"\"}},\"marker\":{\"colorbar\":{\"outlinewidth\":0,\"ticks\":\"\"}},\"type\":\"scatter3d\"}],\"scattercarpet\":[{\"marker\":{\"colorbar\":{\"outlinewidth\":0,\"ticks\":\"\"}},\"type\":\"scattercarpet\"}],\"scattergeo\":[{\"marker\":{\"colorbar\":{\"outlinewidth\":0,\"ticks\":\"\"}},\"type\":\"scattergeo\"}],\"scattergl\":[{\"marker\":{\"colorbar\":{\"outlinewidth\":0,\"ticks\":\"\"}},\"type\":\"scattergl\"}],\"scattermapbox\":[{\"marker\":{\"colorbar\":{\"outlinewidth\":0,\"ticks\":\"\"}},\"type\":\"scattermapbox\"}],\"scatterpolar\":[{\"marker\":{\"colorbar\":{\"outlinewidth\":0,\"ticks\":\"\"}},\"type\":\"scatterpolar\"}],\"scatterpolargl\":[{\"marker\":{\"colorbar\":{\"outlinewidth\":0,\"ticks\":\"\"}},\"type\":\"scatterpolargl\"}],\"scatterternary\":[{\"marker\":{\"colorbar\":{\"outlinewidth\":0,\"ticks\":\"\"}},\"type\":\"scatterternary\"}],\"surface\":[{\"colorbar\":{\"outlinewidth\":0,\"ticks\":\"\"},\"colorscale\":[[0.0,\"#0d0887\"],[0.1111111111111111,\"#46039f\"],[0.2222222222222222,\"#7201a8\"],[0.3333333333333333,\"#9c179e\"],[0.4444444444444444,\"#bd3786\"],[0.5555555555555556,\"#d8576b\"],[0.6666666666666666,\"#ed7953\"],[0.7777777777777778,\"#fb9f3a\"],[0.8888888888888888,\"#fdca26\"],[1.0,\"#f0f921\"]],\"type\":\"surface\"}],\"table\":[{\"cells\":{\"fill\":{\"color\":\"#EBF0F8\"},\"line\":{\"color\":\"white\"}},\"header\":{\"fill\":{\"color\":\"#C8D4E3\"},\"line\":{\"color\":\"white\"}},\"type\":\"table\"}]},\"layout\":{\"annotationdefaults\":{\"arrowcolor\":\"#2a3f5f\",\"arrowhead\":0,\"arrowwidth\":1},\"autotypenumbers\":\"strict\",\"coloraxis\":{\"colorbar\":{\"outlinewidth\":0,\"ticks\":\"\"}},\"colorscale\":{\"diverging\":[[0,\"#8e0152\"],[0.1,\"#c51b7d\"],[0.2,\"#de77ae\"],[0.3,\"#f1b6da\"],[0.4,\"#fde0ef\"],[0.5,\"#f7f7f7\"],[0.6,\"#e6f5d0\"],[0.7,\"#b8e186\"],[0.8,\"#7fbc41\"],[0.9,\"#4d9221\"],[1,\"#276419\"]],\"sequential\":[[0.0,\"#0d0887\"],[0.1111111111111111,\"#46039f\"],[0.2222222222222222,\"#7201a8\"],[0.3333333333333333,\"#9c179e\"],[0.4444444444444444,\"#bd3786\"],[0.5555555555555556,\"#d8576b\"],[0.6666666666666666,\"#ed7953\"],[0.7777777777777778,\"#fb9f3a\"],[0.8888888888888888,\"#fdca26\"],[1.0,\"#f0f921\"]],\"sequentialminus\":[[0.0,\"#0d0887\"],[0.1111111111111111,\"#46039f\"],[0.2222222222222222,\"#7201a8\"],[0.3333333333333333,\"#9c179e\"],[0.4444444444444444,\"#bd3786\"],[0.5555555555555556,\"#d8576b\"],[0.6666666666666666,\"#ed7953\"],[0.7777777777777778,\"#fb9f3a\"],[0.8888888888888888,\"#fdca26\"],[1.0,\"#f0f921\"]]},\"colorway\":[\"#636efa\",\"#EF553B\",\"#00cc96\",\"#ab63fa\",\"#FFA15A\",\"#19d3f3\",\"#FF6692\",\"#B6E880\",\"#FF97FF\",\"#FECB52\"],\"font\":{\"color\":\"#2a3f5f\"},\"geo\":{\"bgcolor\":\"white\",\"lakecolor\":\"white\",\"landcolor\":\"#E5ECF6\",\"showlakes\":true,\"showland\":true,\"subunitcolor\":\"white\"},\"hoverlabel\":{\"align\":\"left\"},\"hovermode\":\"closest\",\"mapbox\":{\"style\":\"light\"},\"paper_bgcolor\":\"white\",\"plot_bgcolor\":\"#E5ECF6\",\"polar\":{\"angularaxis\":{\"gridcolor\":\"white\",\"linecolor\":\"white\",\"ticks\":\"\"},\"bgcolor\":\"#E5ECF6\",\"radialaxis\":{\"gridcolor\":\"white\",\"linecolor\":\"white\",\"ticks\":\"\"}},\"scene\":{\"xaxis\":{\"backgroundcolor\":\"#E5ECF6\",\"gridcolor\":\"white\",\"gridwidth\":2,\"linecolor\":\"white\",\"showbackground\":true,\"ticks\":\"\",\"zerolinecolor\":\"white\"},\"yaxis\":{\"backgroundcolor\":\"#E5ECF6\",\"gridcolor\":\"white\",\"gridwidth\":2,\"linecolor\":\"white\",\"showbackground\":true,\"ticks\":\"\",\"zerolinecolor\":\"white\"},\"zaxis\":{\"backgroundcolor\":\"#E5ECF6\",\"gridcolor\":\"white\",\"gridwidth\":2,\"linecolor\":\"white\",\"showbackground\":true,\"ticks\":\"\",\"zerolinecolor\":\"white\"}},\"shapedefaults\":{\"line\":{\"color\":\"#2a3f5f\"}},\"ternary\":{\"aaxis\":{\"gridcolor\":\"white\",\"linecolor\":\"white\",\"ticks\":\"\"},\"baxis\":{\"gridcolor\":\"white\",\"linecolor\":\"white\",\"ticks\":\"\"},\"bgcolor\":\"#E5ECF6\",\"caxis\":{\"gridcolor\":\"white\",\"linecolor\":\"white\",\"ticks\":\"\"}},\"title\":{\"x\":0.05},\"xaxis\":{\"automargin\":true,\"gridcolor\":\"white\",\"linecolor\":\"white\",\"ticks\":\"\",\"title\":{\"standoff\":15},\"zerolinecolor\":\"white\",\"zerolinewidth\":2},\"yaxis\":{\"automargin\":true,\"gridcolor\":\"white\",\"linecolor\":\"white\",\"ticks\":\"\",\"title\":{\"standoff\":15},\"zerolinecolor\":\"white\",\"zerolinewidth\":2}}},\"title\":{\"text\":\"Optimization History Plot\"},\"xaxis\":{\"title\":{\"text\":\"#Trials\"}},\"yaxis\":{\"title\":{\"text\":\"Objective Value\"}}},                        {\"responsive\": true}                    ).then(function(){\n",
       "                            \n",
       "var gd = document.getElementById('fa158f90-f279-4c2d-9f49-fa8a38d13a73');\n",
       "var x = new MutationObserver(function (mutations, observer) {{\n",
       "        var display = window.getComputedStyle(gd).display;\n",
       "        if (!display || display === 'none') {{\n",
       "            console.log([gd, 'removed!']);\n",
       "            Plotly.purge(gd);\n",
       "            observer.disconnect();\n",
       "        }}\n",
       "}});\n",
       "\n",
       "// Listen for the removal of the full notebook cells\n",
       "var notebookContainer = gd.closest('#notebook-container');\n",
       "if (notebookContainer) {{\n",
       "    x.observe(notebookContainer, {childList: true});\n",
       "}}\n",
       "\n",
       "// Listen for the clearing of the current output cell\n",
       "var outputEl = gd.closest('.output');\n",
       "if (outputEl) {{\n",
       "    x.observe(outputEl, {childList: true});\n",
       "}}\n",
       "\n",
       "                        })                };                });            </script>        </div>"
      ]
     },
     "metadata": {},
     "output_type": "display_data"
    }
   ],
   "source": [
    "optuna.visualization.plot_optimization_history(study)\n",
    "\n",
    "# Uncomment to write figure\n",
    "# fig1 = optuna.visualization.plot_optimization_history(study)\n",
    "# fig1.write_image('optuna_optimization_history_GB_PCA.png')"
   ]
  },
  {
   "cell_type": "code",
   "execution_count": 37,
   "id": "inner-marathon",
   "metadata": {
    "tags": []
   },
   "outputs": [
    {
     "data": {
      "application/vnd.plotly.v1+json": {
       "config": {
        "plotlyServerURL": "https://plot.ly"
       },
       "data": [
        {
         "marker": {
          "color": [
           0,
           1,
           2,
           3,
           4,
           5,
           6,
           7,
           8,
           9,
           10,
           11,
           12,
           13,
           14,
           15,
           16,
           17,
           18,
           19,
           20,
           21,
           22,
           23,
           24,
           25,
           26,
           27,
           28,
           29,
           30,
           31,
           32,
           33,
           34,
           35,
           36,
           37,
           38,
           39,
           40,
           41,
           42,
           43,
           44,
           45,
           46,
           47,
           48,
           49,
           50,
           51,
           52,
           53,
           54,
           55,
           56,
           57,
           58,
           59,
           60,
           61,
           62,
           63,
           64,
           65,
           66,
           67,
           68,
           69,
           70,
           71,
           72,
           73,
           74,
           75,
           76,
           77,
           78,
           79,
           80,
           81,
           82,
           83,
           84,
           85,
           86,
           87,
           88,
           89,
           90,
           91,
           92,
           93,
           94,
           95,
           96,
           97,
           98,
           99
          ],
          "colorbar": {
           "title": {
            "text": "#Trials"
           },
           "x": 1,
           "xpad": 40,
           "y": 0.5
          },
          "colorscale": [
           [
            0,
            "rgb(247,251,255)"
           ],
           [
            0.125,
            "rgb(222,235,247)"
           ],
           [
            0.25,
            "rgb(198,219,239)"
           ],
           [
            0.375,
            "rgb(158,202,225)"
           ],
           [
            0.5,
            "rgb(107,174,214)"
           ],
           [
            0.625,
            "rgb(66,146,198)"
           ],
           [
            0.75,
            "rgb(33,113,181)"
           ],
           [
            0.875,
            "rgb(8,81,156)"
           ],
           [
            1,
            "rgb(8,48,107)"
           ]
          ],
          "line": {
           "color": "Grey",
           "width": 0.5
          },
          "showscale": true
         },
         "mode": "markers",
         "showlegend": false,
         "type": "scatter",
         "x": [
          0.022785434546836066,
          0.0007952688327350772,
          0.03915909340817165,
          0.0018252311817280903,
          0.09962140846060119,
          0.0005293314230162655,
          0.0004379700714491288,
          0.009624744180282491,
          0.003843594729245627,
          0.023285796111345958,
          0.6970793351318183,
          0.16257863592075839,
          0.2737570248595307,
          0.1655005921744589,
          0.11820727964093074,
          0.7676644593888118,
          0.00011195464760098166,
          0.07440036135622083,
          0.33066033452762816,
          0.05739704442470666,
          0.012739753329647439,
          0.17830359063907444,
          0.2604163361529052,
          0.10092671099341279,
          0.40064871593591256,
          0.04007310012968714,
          0.030703811924057044,
          0.009093757865691004,
          0.05609515777851178,
          0.015339129356656064,
          0.004624879005715644,
          0.049581992096135785,
          0.07832102519933908,
          0.0356156324843993,
          0.17203061508682607,
          0.023828066011913722,
          0.5288103784430966,
          0.04686516183113557,
          0.11652556629968278,
          0.10999205337707171,
          0.0992840342844235,
          0.12125794022211747,
          0.07594326285247158,
          0.23836640162321682,
          0.02049714687521226,
          0.0623925010151656,
          0.006626727545528588,
          0.0012139065710571949,
          0.3923478180238797,
          0.12507258221883769,
          0.14073375961676984,
          0.13033841123052575,
          0.21864638111633194,
          0.9925035099029577,
          0.07659492746137277,
          0.1511202460149405,
          0.4607620272109168,
          0.13516714729457502,
          0.28844991843195644,
          0.02834706787695795,
          0.00023850325841387622,
          0.13886991271773527,
          0.07806562297006467,
          0.08324081274091524,
          0.07652393562711,
          0.06432255785068089,
          0.08566224660821928,
          0.04577103591169596,
          0.03850974373930992,
          0.04728448262876706,
          0.021161094527604857,
          0.015636975519090057,
          0.04979396896146623,
          0.08910709108690827,
          0.050759264396036355,
          0.031546100570889496,
          0.046773137478719404,
          0.09039008343409108,
          0.09276847390375122,
          0.09451330529518341,
          0.0940230397455829,
          0.0957468412248855,
          0.2171648517526142,
          0.08808430013447574,
          0.18141881980227653,
          0.08701163771913725,
          0.08827771980124319,
          0.06374800807435875,
          0.06330350430297073,
          0.05974999269777788,
          0.32303716797708637,
          0.19222611804538717,
          0.10069171161644537,
          0.0648157550973326,
          0.03367467223537263,
          0.11141392650784503,
          0.025457906512606435,
          0.10525942498304738,
          0.06354245431834142,
          0.18308281243357885
         ],
         "xaxis": "x",
         "y": [
          -0.13947638888243055,
          -0.21887384128155493,
          -0.11961728426717466,
          -0.219156767811572,
          -0.05361797559961646,
          -0.2223710073551616,
          -0.22274499509100873,
          -0.11665636060477357,
          -0.21888487814791294,
          -0.06269388399970034,
          -0.07118916952592193,
          -0.05504563989463259,
          -0.05839745846463632,
          -0.054557262728302615,
          -0.08821675776931392,
          -0.07549847766603024,
          -0.2217616253719602,
          -0.08367617396679276,
          -0.057622127164433906,
          -0.057292943577395485,
          -0.09336222692432776,
          -0.05455732368567151,
          -0.0578597885171081,
          -0.05464284959815597,
          -0.061501430098515934,
          -0.05423760595823487,
          -0.05661015527465157,
          -0.10939981680954845,
          -0.05216031131024714,
          -0.12823080781262486,
          -0.14770057236346978,
          -0.05679559117333902,
          -0.0849659075040845,
          -0.05696211154406202,
          -0.05395288496668125,
          -0.05842073929763716,
          -0.06391099797932585,
          -0.05397798307523909,
          -0.05247169341546551,
          -0.05346359382371877,
          -0.053624385374278695,
          -0.05381825957409256,
          -0.05325225902888838,
          -0.05413638886785201,
          -0.07597587909714178,
          -0.05550367097809794,
          -0.21510149145237342,
          -0.20619019483737744,
          -0.05965599468023255,
          -0.052575354607077913,
          -0.05284569701995332,
          -0.05293149884046949,
          -0.054716002369501804,
          -0.09140660436824499,
          -0.05199534420534335,
          -0.053819902694806986,
          -0.0617164744771189,
          -0.05318313403051824,
          -0.05645836153063966,
          -0.05556260389474111,
          -0.22378856108903414,
          -0.05350314542738672,
          -0.0527499476006044,
          -0.05163768632120625,
          -0.05248128558796475,
          -0.05284144414794739,
          -0.05129906546550029,
          -0.05228659057508873,
          -0.05688995133518632,
          -0.052400224884291545,
          -0.07904941521489124,
          -0.06607380976228742,
          -0.053235300463872905,
          -0.05185752281513851,
          -0.0522458227740589,
          -0.05796083024945423,
          -0.052599706794686805,
          -0.051308397856081885,
          -0.05154344008285803,
          -0.05136041821484236,
          -0.05132996409809671,
          -0.06890408489251312,
          -0.054868933411844074,
          -0.05119613453555263,
          -0.05486158063855084,
          -0.05138449302236011,
          -0.051203484706031734,
          -0.05107531443090187,
          -0.05123656199667359,
          -0.07285849438083646,
          -0.05694407687517591,
          -0.05330207258362662,
          -0.05134267930602599,
          -0.05285518397063649,
          -0.05452995614968831,
          -0.052478670744504775,
          -0.060511937975410414,
          -0.052520895163515637,
          -0.06225738985213979,
          -0.05334061529179348
         ],
         "yaxis": "y"
        },
        {
         "marker": {
          "color": [
           0,
           1,
           2,
           3,
           4,
           5,
           6,
           7,
           8,
           9,
           10,
           11,
           12,
           13,
           14,
           15,
           16,
           17,
           18,
           19,
           20,
           21,
           22,
           23,
           24,
           25,
           26,
           27,
           28,
           29,
           30,
           31,
           32,
           33,
           34,
           35,
           36,
           37,
           38,
           39,
           40,
           41,
           42,
           43,
           44,
           45,
           46,
           47,
           48,
           49,
           50,
           51,
           52,
           53,
           54,
           55,
           56,
           57,
           58,
           59,
           60,
           61,
           62,
           63,
           64,
           65,
           66,
           67,
           68,
           69,
           70,
           71,
           72,
           73,
           74,
           75,
           76,
           77,
           78,
           79,
           80,
           81,
           82,
           83,
           84,
           85,
           86,
           87,
           88,
           89,
           90,
           91,
           92,
           93,
           94,
           95,
           96,
           97,
           98,
           99
          ],
          "colorbar": {
           "title": {
            "text": "#Trials"
           },
           "x": 1,
           "xpad": 40
          },
          "colorscale": [
           [
            0,
            "rgb(247,251,255)"
           ],
           [
            0.125,
            "rgb(222,235,247)"
           ],
           [
            0.25,
            "rgb(198,219,239)"
           ],
           [
            0.375,
            "rgb(158,202,225)"
           ],
           [
            0.5,
            "rgb(107,174,214)"
           ],
           [
            0.625,
            "rgb(66,146,198)"
           ],
           [
            0.75,
            "rgb(33,113,181)"
           ],
           [
            0.875,
            "rgb(8,81,156)"
           ],
           [
            1,
            "rgb(8,48,107)"
           ]
          ],
          "line": {
           "color": "Grey",
           "width": 0.5
          },
          "showscale": false
         },
         "mode": "markers",
         "showlegend": false,
         "type": "scatter",
         "x": [
          2.6358572330388035,
          2.4155965813474567,
          1.6303719801414625,
          1.970993980293779,
          5.965896920884274,
          5.820814449685189,
          1.3701131897094603,
          7.382235214566928,
          9.918656558710627,
          7.521522918554764,
          4.190320021856426,
          4.153809992507794,
          3.846214214930233,
          4.944267893666406,
          1.0186789481165366,
          5.395800870354057,
          5.666626004631373,
          3.205163470127129,
          8.616013512028143,
          4.893241194811407,
          6.4423138982632935,
          4.067784213355413,
          3.17544141356158,
          4.693369773552185,
          3.6044045920545433,
          6.748765682225758,
          6.939697681873742,
          9.046446951004157,
          8.09254749619306,
          7.915906856751203,
          6.11883730129971,
          6.777887742981676,
          2.5578661902894364,
          5.05768076465137,
          8.495153751500075,
          9.619408049262375,
          7.8013769991594755,
          8.476177359280157,
          8.517884016754465,
          9.873238431803749,
          9.729651231634536,
          9.479748235498626,
          9.882427870195842,
          7.57936206803068,
          8.288827297692773,
          9.918713885832258,
          1.8992341302412943,
          7.0821265752402836,
          6.265719320328941,
          8.864052381601157,
          8.74537637033004,
          8.518761573797649,
          8.841890594509223,
          7.766639095018165,
          7.247626859690884,
          5.859523667173857,
          7.4399236068300185,
          5.357133079629676,
          8.96335171348228,
          8.17152530311739,
          1.3703474925237795,
          5.335885133613306,
          6.562917484017387,
          7.265364011095706,
          6.95495367551777,
          6.6869645379724245,
          7.129754111218768,
          7.286535689143602,
          5.739561696069073,
          7.170606572863614,
          4.384291317915611,
          7.258975258335616,
          6.139330165290407,
          6.855689500947063,
          7.463507312887702,
          6.368451219522009,
          7.244493054306578,
          7.657803330755752,
          7.8464695567114395,
          7.924729434719671,
          7.897480740460265,
          2.8880868091016945,
          8.048076560441258,
          7.742003352230158,
          9.324120721315294,
          6.760908910627936,
          6.540215038200375,
          7.920281630913733,
          7.887391139237466,
          2.2108794522822732,
          6.565981420491316,
          7.84519194370893,
          7.91292160492773,
          9.228505604321875,
          6.106331186913661,
          8.200643351979796,
          5.592614394512464,
          8.418648870523993,
          3.6103148700543546,
          7.828226462852263
         ],
         "xaxis": "x2",
         "y": [
          -0.13947638888243055,
          -0.21887384128155493,
          -0.11961728426717466,
          -0.219156767811572,
          -0.05361797559961646,
          -0.2223710073551616,
          -0.22274499509100873,
          -0.11665636060477357,
          -0.21888487814791294,
          -0.06269388399970034,
          -0.07118916952592193,
          -0.05504563989463259,
          -0.05839745846463632,
          -0.054557262728302615,
          -0.08821675776931392,
          -0.07549847766603024,
          -0.2217616253719602,
          -0.08367617396679276,
          -0.057622127164433906,
          -0.057292943577395485,
          -0.09336222692432776,
          -0.05455732368567151,
          -0.0578597885171081,
          -0.05464284959815597,
          -0.061501430098515934,
          -0.05423760595823487,
          -0.05661015527465157,
          -0.10939981680954845,
          -0.05216031131024714,
          -0.12823080781262486,
          -0.14770057236346978,
          -0.05679559117333902,
          -0.0849659075040845,
          -0.05696211154406202,
          -0.05395288496668125,
          -0.05842073929763716,
          -0.06391099797932585,
          -0.05397798307523909,
          -0.05247169341546551,
          -0.05346359382371877,
          -0.053624385374278695,
          -0.05381825957409256,
          -0.05325225902888838,
          -0.05413638886785201,
          -0.07597587909714178,
          -0.05550367097809794,
          -0.21510149145237342,
          -0.20619019483737744,
          -0.05965599468023255,
          -0.052575354607077913,
          -0.05284569701995332,
          -0.05293149884046949,
          -0.054716002369501804,
          -0.09140660436824499,
          -0.05199534420534335,
          -0.053819902694806986,
          -0.0617164744771189,
          -0.05318313403051824,
          -0.05645836153063966,
          -0.05556260389474111,
          -0.22378856108903414,
          -0.05350314542738672,
          -0.0527499476006044,
          -0.05163768632120625,
          -0.05248128558796475,
          -0.05284144414794739,
          -0.05129906546550029,
          -0.05228659057508873,
          -0.05688995133518632,
          -0.052400224884291545,
          -0.07904941521489124,
          -0.06607380976228742,
          -0.053235300463872905,
          -0.05185752281513851,
          -0.0522458227740589,
          -0.05796083024945423,
          -0.052599706794686805,
          -0.051308397856081885,
          -0.05154344008285803,
          -0.05136041821484236,
          -0.05132996409809671,
          -0.06890408489251312,
          -0.054868933411844074,
          -0.05119613453555263,
          -0.05486158063855084,
          -0.05138449302236011,
          -0.051203484706031734,
          -0.05107531443090187,
          -0.05123656199667359,
          -0.07285849438083646,
          -0.05694407687517591,
          -0.05330207258362662,
          -0.05134267930602599,
          -0.05285518397063649,
          -0.05452995614968831,
          -0.052478670744504775,
          -0.060511937975410414,
          -0.052520895163515637,
          -0.06225738985213979,
          -0.05334061529179348
         ],
         "yaxis": "y2"
        },
        {
         "marker": {
          "color": [
           0,
           1,
           2,
           3,
           4,
           5,
           6,
           7,
           8,
           9,
           10,
           11,
           12,
           13,
           14,
           15,
           16,
           17,
           18,
           19,
           20,
           21,
           22,
           23,
           24,
           25,
           26,
           27,
           28,
           29,
           30,
           31,
           32,
           33,
           34,
           35,
           36,
           37,
           38,
           39,
           40,
           41,
           42,
           43,
           44,
           45,
           46,
           47,
           48,
           49,
           50,
           51,
           52,
           53,
           54,
           55,
           56,
           57,
           58,
           59,
           60,
           61,
           62,
           63,
           64,
           65,
           66,
           67,
           68,
           69,
           70,
           71,
           72,
           73,
           74,
           75,
           76,
           77,
           78,
           79,
           80,
           81,
           82,
           83,
           84,
           85,
           86,
           87,
           88,
           89,
           90,
           91,
           92,
           93,
           94,
           95,
           96,
           97,
           98,
           99
          ],
          "colorbar": {
           "title": {
            "text": "#Trials"
           },
           "x": 1,
           "xpad": 40
          },
          "colorscale": [
           [
            0,
            "rgb(247,251,255)"
           ],
           [
            0.125,
            "rgb(222,235,247)"
           ],
           [
            0.25,
            "rgb(198,219,239)"
           ],
           [
            0.375,
            "rgb(158,202,225)"
           ],
           [
            0.5,
            "rgb(107,174,214)"
           ],
           [
            0.625,
            "rgb(66,146,198)"
           ],
           [
            0.75,
            "rgb(33,113,181)"
           ],
           [
            0.875,
            "rgb(8,81,156)"
           ],
           [
            1,
            "rgb(8,48,107)"
           ]
          ],
          "line": {
           "color": "Grey",
           "width": 0.5
          },
          "showscale": false
         },
         "mode": "markers",
         "showlegend": false,
         "type": "scatter",
         "x": [
          71,
          84,
          168,
          74,
          114,
          27,
          110,
          94,
          8,
          118,
          192,
          137,
          136,
          153,
          161,
          200,
          160,
          51,
          133,
          171,
          114,
          140,
          147,
          182,
          129,
          149,
          153,
          104,
          121,
          49,
          124,
          94,
          83,
          175,
          150,
          121,
          67,
          97,
          101,
          78,
          76,
          71,
          84,
          108,
          85,
          59,
          35,
          87,
          101,
          111,
          113,
          112,
          114,
          126,
          109,
          107,
          93,
          118,
          139,
          131,
          101,
          117,
          113,
          113,
          122,
          123,
          141,
          142,
          165,
          136,
          144,
          156,
          142,
          134,
          136,
          134,
          130,
          138,
          147,
          156,
          156,
          157,
          177,
          165,
          166,
          188,
          192,
          187,
          192,
          192,
          191,
          199,
          186,
          185,
          171,
          182,
          186,
          197,
          177,
          163
         ],
         "xaxis": "x3",
         "y": [
          -0.13947638888243055,
          -0.21887384128155493,
          -0.11961728426717466,
          -0.219156767811572,
          -0.05361797559961646,
          -0.2223710073551616,
          -0.22274499509100873,
          -0.11665636060477357,
          -0.21888487814791294,
          -0.06269388399970034,
          -0.07118916952592193,
          -0.05504563989463259,
          -0.05839745846463632,
          -0.054557262728302615,
          -0.08821675776931392,
          -0.07549847766603024,
          -0.2217616253719602,
          -0.08367617396679276,
          -0.057622127164433906,
          -0.057292943577395485,
          -0.09336222692432776,
          -0.05455732368567151,
          -0.0578597885171081,
          -0.05464284959815597,
          -0.061501430098515934,
          -0.05423760595823487,
          -0.05661015527465157,
          -0.10939981680954845,
          -0.05216031131024714,
          -0.12823080781262486,
          -0.14770057236346978,
          -0.05679559117333902,
          -0.0849659075040845,
          -0.05696211154406202,
          -0.05395288496668125,
          -0.05842073929763716,
          -0.06391099797932585,
          -0.05397798307523909,
          -0.05247169341546551,
          -0.05346359382371877,
          -0.053624385374278695,
          -0.05381825957409256,
          -0.05325225902888838,
          -0.05413638886785201,
          -0.07597587909714178,
          -0.05550367097809794,
          -0.21510149145237342,
          -0.20619019483737744,
          -0.05965599468023255,
          -0.052575354607077913,
          -0.05284569701995332,
          -0.05293149884046949,
          -0.054716002369501804,
          -0.09140660436824499,
          -0.05199534420534335,
          -0.053819902694806986,
          -0.0617164744771189,
          -0.05318313403051824,
          -0.05645836153063966,
          -0.05556260389474111,
          -0.22378856108903414,
          -0.05350314542738672,
          -0.0527499476006044,
          -0.05163768632120625,
          -0.05248128558796475,
          -0.05284144414794739,
          -0.05129906546550029,
          -0.05228659057508873,
          -0.05688995133518632,
          -0.052400224884291545,
          -0.07904941521489124,
          -0.06607380976228742,
          -0.053235300463872905,
          -0.05185752281513851,
          -0.0522458227740589,
          -0.05796083024945423,
          -0.052599706794686805,
          -0.051308397856081885,
          -0.05154344008285803,
          -0.05136041821484236,
          -0.05132996409809671,
          -0.06890408489251312,
          -0.054868933411844074,
          -0.05119613453555263,
          -0.05486158063855084,
          -0.05138449302236011,
          -0.051203484706031734,
          -0.05107531443090187,
          -0.05123656199667359,
          -0.07285849438083646,
          -0.05694407687517591,
          -0.05330207258362662,
          -0.05134267930602599,
          -0.05285518397063649,
          -0.05452995614968831,
          -0.052478670744504775,
          -0.060511937975410414,
          -0.052520895163515637,
          -0.06225738985213979,
          -0.05334061529179348
         ],
         "yaxis": "y3"
        }
       ],
       "layout": {
        "autosize": true,
        "template": {
         "data": {
          "bar": [
           {
            "error_x": {
             "color": "#2a3f5f"
            },
            "error_y": {
             "color": "#2a3f5f"
            },
            "marker": {
             "line": {
              "color": "#E5ECF6",
              "width": 0.5
             },
             "pattern": {
              "fillmode": "overlay",
              "size": 10,
              "solidity": 0.2
             }
            },
            "type": "bar"
           }
          ],
          "barpolar": [
           {
            "marker": {
             "line": {
              "color": "#E5ECF6",
              "width": 0.5
             },
             "pattern": {
              "fillmode": "overlay",
              "size": 10,
              "solidity": 0.2
             }
            },
            "type": "barpolar"
           }
          ],
          "carpet": [
           {
            "aaxis": {
             "endlinecolor": "#2a3f5f",
             "gridcolor": "white",
             "linecolor": "white",
             "minorgridcolor": "white",
             "startlinecolor": "#2a3f5f"
            },
            "baxis": {
             "endlinecolor": "#2a3f5f",
             "gridcolor": "white",
             "linecolor": "white",
             "minorgridcolor": "white",
             "startlinecolor": "#2a3f5f"
            },
            "type": "carpet"
           }
          ],
          "choropleth": [
           {
            "colorbar": {
             "outlinewidth": 0,
             "ticks": ""
            },
            "type": "choropleth"
           }
          ],
          "contour": [
           {
            "colorbar": {
             "outlinewidth": 0,
             "ticks": ""
            },
            "colorscale": [
             [
              0,
              "#0d0887"
             ],
             [
              0.1111111111111111,
              "#46039f"
             ],
             [
              0.2222222222222222,
              "#7201a8"
             ],
             [
              0.3333333333333333,
              "#9c179e"
             ],
             [
              0.4444444444444444,
              "#bd3786"
             ],
             [
              0.5555555555555556,
              "#d8576b"
             ],
             [
              0.6666666666666666,
              "#ed7953"
             ],
             [
              0.7777777777777778,
              "#fb9f3a"
             ],
             [
              0.8888888888888888,
              "#fdca26"
             ],
             [
              1,
              "#f0f921"
             ]
            ],
            "type": "contour"
           }
          ],
          "contourcarpet": [
           {
            "colorbar": {
             "outlinewidth": 0,
             "ticks": ""
            },
            "type": "contourcarpet"
           }
          ],
          "heatmap": [
           {
            "colorbar": {
             "outlinewidth": 0,
             "ticks": ""
            },
            "colorscale": [
             [
              0,
              "#0d0887"
             ],
             [
              0.1111111111111111,
              "#46039f"
             ],
             [
              0.2222222222222222,
              "#7201a8"
             ],
             [
              0.3333333333333333,
              "#9c179e"
             ],
             [
              0.4444444444444444,
              "#bd3786"
             ],
             [
              0.5555555555555556,
              "#d8576b"
             ],
             [
              0.6666666666666666,
              "#ed7953"
             ],
             [
              0.7777777777777778,
              "#fb9f3a"
             ],
             [
              0.8888888888888888,
              "#fdca26"
             ],
             [
              1,
              "#f0f921"
             ]
            ],
            "type": "heatmap"
           }
          ],
          "heatmapgl": [
           {
            "colorbar": {
             "outlinewidth": 0,
             "ticks": ""
            },
            "colorscale": [
             [
              0,
              "#0d0887"
             ],
             [
              0.1111111111111111,
              "#46039f"
             ],
             [
              0.2222222222222222,
              "#7201a8"
             ],
             [
              0.3333333333333333,
              "#9c179e"
             ],
             [
              0.4444444444444444,
              "#bd3786"
             ],
             [
              0.5555555555555556,
              "#d8576b"
             ],
             [
              0.6666666666666666,
              "#ed7953"
             ],
             [
              0.7777777777777778,
              "#fb9f3a"
             ],
             [
              0.8888888888888888,
              "#fdca26"
             ],
             [
              1,
              "#f0f921"
             ]
            ],
            "type": "heatmapgl"
           }
          ],
          "histogram": [
           {
            "marker": {
             "pattern": {
              "fillmode": "overlay",
              "size": 10,
              "solidity": 0.2
             }
            },
            "type": "histogram"
           }
          ],
          "histogram2d": [
           {
            "colorbar": {
             "outlinewidth": 0,
             "ticks": ""
            },
            "colorscale": [
             [
              0,
              "#0d0887"
             ],
             [
              0.1111111111111111,
              "#46039f"
             ],
             [
              0.2222222222222222,
              "#7201a8"
             ],
             [
              0.3333333333333333,
              "#9c179e"
             ],
             [
              0.4444444444444444,
              "#bd3786"
             ],
             [
              0.5555555555555556,
              "#d8576b"
             ],
             [
              0.6666666666666666,
              "#ed7953"
             ],
             [
              0.7777777777777778,
              "#fb9f3a"
             ],
             [
              0.8888888888888888,
              "#fdca26"
             ],
             [
              1,
              "#f0f921"
             ]
            ],
            "type": "histogram2d"
           }
          ],
          "histogram2dcontour": [
           {
            "colorbar": {
             "outlinewidth": 0,
             "ticks": ""
            },
            "colorscale": [
             [
              0,
              "#0d0887"
             ],
             [
              0.1111111111111111,
              "#46039f"
             ],
             [
              0.2222222222222222,
              "#7201a8"
             ],
             [
              0.3333333333333333,
              "#9c179e"
             ],
             [
              0.4444444444444444,
              "#bd3786"
             ],
             [
              0.5555555555555556,
              "#d8576b"
             ],
             [
              0.6666666666666666,
              "#ed7953"
             ],
             [
              0.7777777777777778,
              "#fb9f3a"
             ],
             [
              0.8888888888888888,
              "#fdca26"
             ],
             [
              1,
              "#f0f921"
             ]
            ],
            "type": "histogram2dcontour"
           }
          ],
          "mesh3d": [
           {
            "colorbar": {
             "outlinewidth": 0,
             "ticks": ""
            },
            "type": "mesh3d"
           }
          ],
          "parcoords": [
           {
            "line": {
             "colorbar": {
              "outlinewidth": 0,
              "ticks": ""
             }
            },
            "type": "parcoords"
           }
          ],
          "pie": [
           {
            "automargin": true,
            "type": "pie"
           }
          ],
          "scatter": [
           {
            "marker": {
             "colorbar": {
              "outlinewidth": 0,
              "ticks": ""
             }
            },
            "type": "scatter"
           }
          ],
          "scatter3d": [
           {
            "line": {
             "colorbar": {
              "outlinewidth": 0,
              "ticks": ""
             }
            },
            "marker": {
             "colorbar": {
              "outlinewidth": 0,
              "ticks": ""
             }
            },
            "type": "scatter3d"
           }
          ],
          "scattercarpet": [
           {
            "marker": {
             "colorbar": {
              "outlinewidth": 0,
              "ticks": ""
             }
            },
            "type": "scattercarpet"
           }
          ],
          "scattergeo": [
           {
            "marker": {
             "colorbar": {
              "outlinewidth": 0,
              "ticks": ""
             }
            },
            "type": "scattergeo"
           }
          ],
          "scattergl": [
           {
            "marker": {
             "colorbar": {
              "outlinewidth": 0,
              "ticks": ""
             }
            },
            "type": "scattergl"
           }
          ],
          "scattermapbox": [
           {
            "marker": {
             "colorbar": {
              "outlinewidth": 0,
              "ticks": ""
             }
            },
            "type": "scattermapbox"
           }
          ],
          "scatterpolar": [
           {
            "marker": {
             "colorbar": {
              "outlinewidth": 0,
              "ticks": ""
             }
            },
            "type": "scatterpolar"
           }
          ],
          "scatterpolargl": [
           {
            "marker": {
             "colorbar": {
              "outlinewidth": 0,
              "ticks": ""
             }
            },
            "type": "scatterpolargl"
           }
          ],
          "scatterternary": [
           {
            "marker": {
             "colorbar": {
              "outlinewidth": 0,
              "ticks": ""
             }
            },
            "type": "scatterternary"
           }
          ],
          "surface": [
           {
            "colorbar": {
             "outlinewidth": 0,
             "ticks": ""
            },
            "colorscale": [
             [
              0,
              "#0d0887"
             ],
             [
              0.1111111111111111,
              "#46039f"
             ],
             [
              0.2222222222222222,
              "#7201a8"
             ],
             [
              0.3333333333333333,
              "#9c179e"
             ],
             [
              0.4444444444444444,
              "#bd3786"
             ],
             [
              0.5555555555555556,
              "#d8576b"
             ],
             [
              0.6666666666666666,
              "#ed7953"
             ],
             [
              0.7777777777777778,
              "#fb9f3a"
             ],
             [
              0.8888888888888888,
              "#fdca26"
             ],
             [
              1,
              "#f0f921"
             ]
            ],
            "type": "surface"
           }
          ],
          "table": [
           {
            "cells": {
             "fill": {
              "color": "#EBF0F8"
             },
             "line": {
              "color": "white"
             }
            },
            "header": {
             "fill": {
              "color": "#C8D4E3"
             },
             "line": {
              "color": "white"
             }
            },
            "type": "table"
           }
          ]
         },
         "layout": {
          "annotationdefaults": {
           "arrowcolor": "#2a3f5f",
           "arrowhead": 0,
           "arrowwidth": 1
          },
          "autotypenumbers": "strict",
          "coloraxis": {
           "colorbar": {
            "outlinewidth": 0,
            "ticks": ""
           }
          },
          "colorscale": {
           "diverging": [
            [
             0,
             "#8e0152"
            ],
            [
             0.1,
             "#c51b7d"
            ],
            [
             0.2,
             "#de77ae"
            ],
            [
             0.3,
             "#f1b6da"
            ],
            [
             0.4,
             "#fde0ef"
            ],
            [
             0.5,
             "#f7f7f7"
            ],
            [
             0.6,
             "#e6f5d0"
            ],
            [
             0.7,
             "#b8e186"
            ],
            [
             0.8,
             "#7fbc41"
            ],
            [
             0.9,
             "#4d9221"
            ],
            [
             1,
             "#276419"
            ]
           ],
           "sequential": [
            [
             0,
             "#0d0887"
            ],
            [
             0.1111111111111111,
             "#46039f"
            ],
            [
             0.2222222222222222,
             "#7201a8"
            ],
            [
             0.3333333333333333,
             "#9c179e"
            ],
            [
             0.4444444444444444,
             "#bd3786"
            ],
            [
             0.5555555555555556,
             "#d8576b"
            ],
            [
             0.6666666666666666,
             "#ed7953"
            ],
            [
             0.7777777777777778,
             "#fb9f3a"
            ],
            [
             0.8888888888888888,
             "#fdca26"
            ],
            [
             1,
             "#f0f921"
            ]
           ],
           "sequentialminus": [
            [
             0,
             "#0d0887"
            ],
            [
             0.1111111111111111,
             "#46039f"
            ],
            [
             0.2222222222222222,
             "#7201a8"
            ],
            [
             0.3333333333333333,
             "#9c179e"
            ],
            [
             0.4444444444444444,
             "#bd3786"
            ],
            [
             0.5555555555555556,
             "#d8576b"
            ],
            [
             0.6666666666666666,
             "#ed7953"
            ],
            [
             0.7777777777777778,
             "#fb9f3a"
            ],
            [
             0.8888888888888888,
             "#fdca26"
            ],
            [
             1,
             "#f0f921"
            ]
           ]
          },
          "colorway": [
           "#636efa",
           "#EF553B",
           "#00cc96",
           "#ab63fa",
           "#FFA15A",
           "#19d3f3",
           "#FF6692",
           "#B6E880",
           "#FF97FF",
           "#FECB52"
          ],
          "font": {
           "color": "#2a3f5f"
          },
          "geo": {
           "bgcolor": "white",
           "lakecolor": "white",
           "landcolor": "#E5ECF6",
           "showlakes": true,
           "showland": true,
           "subunitcolor": "white"
          },
          "hoverlabel": {
           "align": "left"
          },
          "hovermode": "closest",
          "mapbox": {
           "style": "light"
          },
          "paper_bgcolor": "white",
          "plot_bgcolor": "#E5ECF6",
          "polar": {
           "angularaxis": {
            "gridcolor": "white",
            "linecolor": "white",
            "ticks": ""
           },
           "bgcolor": "#E5ECF6",
           "radialaxis": {
            "gridcolor": "white",
            "linecolor": "white",
            "ticks": ""
           }
          },
          "scene": {
           "xaxis": {
            "backgroundcolor": "#E5ECF6",
            "gridcolor": "white",
            "gridwidth": 2,
            "linecolor": "white",
            "showbackground": true,
            "ticks": "",
            "zerolinecolor": "white"
           },
           "yaxis": {
            "backgroundcolor": "#E5ECF6",
            "gridcolor": "white",
            "gridwidth": 2,
            "linecolor": "white",
            "showbackground": true,
            "ticks": "",
            "zerolinecolor": "white"
           },
           "zaxis": {
            "backgroundcolor": "#E5ECF6",
            "gridcolor": "white",
            "gridwidth": 2,
            "linecolor": "white",
            "showbackground": true,
            "ticks": "",
            "zerolinecolor": "white"
           }
          },
          "shapedefaults": {
           "line": {
            "color": "#2a3f5f"
           }
          },
          "ternary": {
           "aaxis": {
            "gridcolor": "white",
            "linecolor": "white",
            "ticks": ""
           },
           "baxis": {
            "gridcolor": "white",
            "linecolor": "white",
            "ticks": ""
           },
           "bgcolor": "#E5ECF6",
           "caxis": {
            "gridcolor": "white",
            "linecolor": "white",
            "ticks": ""
           }
          },
          "title": {
           "x": 0.05
          },
          "xaxis": {
           "automargin": true,
           "gridcolor": "white",
           "linecolor": "white",
           "ticks": "",
           "title": {
            "standoff": 15
           },
           "zerolinecolor": "white",
           "zerolinewidth": 2
          },
          "yaxis": {
           "automargin": true,
           "gridcolor": "white",
           "linecolor": "white",
           "ticks": "",
           "title": {
            "standoff": 15
           },
           "zerolinecolor": "white",
           "zerolinewidth": 2
          }
         }
        },
        "title": {
         "text": "Slice Plot"
        },
        "xaxis": {
         "anchor": "y",
         "autorange": true,
         "domain": [
          0,
          0.2888888888888889
         ],
         "range": [
          -4.225279022486054,
          0.2710532010324004
         ],
         "title": {
          "text": "learning_rate"
         },
         "type": "log"
        },
        "xaxis2": {
         "anchor": "y2",
         "autorange": true,
         "domain": [
          0.35555555555555557,
          0.6444444444444445
         ],
         "range": [
          -0.06064688062427487,
          1.0651395746333236
         ],
         "title": {
          "text": "max_depth"
         },
         "type": "log"
        },
        "xaxis3": {
         "anchor": "y3",
         "autorange": true,
         "domain": [
          0.7111111111111111,
          1
         ],
         "range": [
          -5.341894060995182,
          213.34189406099517
         ],
         "title": {
          "text": "n_estimators"
         },
         "type": "linear"
        },
        "yaxis": {
         "anchor": "x",
         "autorange": true,
         "domain": [
          0,
          1
         ],
         "range": [
          -0.2380415960074237,
          -0.03682227951251232
         ],
         "title": {
          "text": "Objective Value"
         },
         "type": "linear"
        },
        "yaxis2": {
         "anchor": "x2",
         "autorange": true,
         "domain": [
          0,
          1
         ],
         "matches": "y",
         "range": [
          -0.2380415960074237,
          -0.03682227951251232
         ],
         "showticklabels": false,
         "type": "linear"
        },
        "yaxis3": {
         "anchor": "x3",
         "autorange": true,
         "domain": [
          0,
          1
         ],
         "matches": "y",
         "range": [
          -0.2380415960074237,
          -0.03682227951251232
         ],
         "showticklabels": false,
         "type": "linear"
        }
       }
      },
      "image/png": "[encoded data removed]",
      "text/html": [
       "<div>                            <div id=\"13af4561-eafe-4536-9c79-4d1cbde14773\" class=\"plotly-graph-div\" style=\"height:525px; width:100%;\"></div>            <script type=\"text/javascript\">                require([\"plotly\"], function(Plotly) {                    window.PLOTLYENV=window.PLOTLYENV || {};                                    if (document.getElementById(\"13af4561-eafe-4536-9c79-4d1cbde14773\")) {                    Plotly.newPlot(                        \"13af4561-eafe-4536-9c79-4d1cbde14773\",                        [{\"marker\":{\"color\":[0,1,2,3,4,5,6,7,8,9,10,11,12,13,14,15,16,17,18,19,20,21,22,23,24,25,26,27,28,29,30,31,32,33,34,35,36,37,38,39,40,41,42,43,44,45,46,47,48,49,50,51,52,53,54,55,56,57,58,59,60,61,62,63,64,65,66,67,68,69,70,71,72,73,74,75,76,77,78,79,80,81,82,83,84,85,86,87,88,89,90,91,92,93,94,95,96,97,98,99],\"colorbar\":{\"title\":{\"text\":\"#Trials\"},\"x\":1.0,\"xpad\":40},\"colorscale\":[[0.0,\"rgb(247,251,255)\"],[0.125,\"rgb(222,235,247)\"],[0.25,\"rgb(198,219,239)\"],[0.375,\"rgb(158,202,225)\"],[0.5,\"rgb(107,174,214)\"],[0.625,\"rgb(66,146,198)\"],[0.75,\"rgb(33,113,181)\"],[0.875,\"rgb(8,81,156)\"],[1.0,\"rgb(8,48,107)\"]],\"line\":{\"color\":\"Grey\",\"width\":0.5},\"showscale\":true},\"mode\":\"markers\",\"showlegend\":false,\"type\":\"scatter\",\"x\":[0.022785434546836066,0.0007952688327350772,0.03915909340817165,0.0018252311817280903,0.09962140846060119,0.0005293314230162655,0.0004379700714491288,0.009624744180282491,0.003843594729245627,0.023285796111345958,0.6970793351318183,0.16257863592075839,0.2737570248595307,0.1655005921744589,0.11820727964093074,0.7676644593888118,0.00011195464760098166,0.07440036135622083,0.33066033452762816,0.05739704442470666,0.012739753329647439,0.17830359063907444,0.2604163361529052,0.10092671099341279,0.40064871593591256,0.04007310012968714,0.030703811924057044,0.009093757865691004,0.05609515777851178,0.015339129356656064,0.004624879005715644,0.049581992096135785,0.07832102519933908,0.0356156324843993,0.17203061508682607,0.023828066011913722,0.5288103784430966,0.04686516183113557,0.11652556629968278,0.10999205337707171,0.0992840342844235,0.12125794022211747,0.07594326285247158,0.23836640162321682,0.02049714687521226,0.0623925010151656,0.006626727545528588,0.0012139065710571949,0.3923478180238797,0.12507258221883769,0.14073375961676984,0.13033841123052575,0.21864638111633194,0.9925035099029577,0.07659492746137277,0.1511202460149405,0.4607620272109168,0.13516714729457502,0.28844991843195644,0.02834706787695795,0.00023850325841387622,0.13886991271773527,0.07806562297006467,0.08324081274091524,0.07652393562711,0.06432255785068089,0.08566224660821928,0.04577103591169596,0.03850974373930992,0.04728448262876706,0.021161094527604857,0.015636975519090057,0.04979396896146623,0.08910709108690827,0.050759264396036355,0.031546100570889496,0.046773137478719404,0.09039008343409108,0.09276847390375122,0.09451330529518341,0.0940230397455829,0.0957468412248855,0.2171648517526142,0.08808430013447574,0.18141881980227653,0.08701163771913725,0.08827771980124319,0.06374800807435875,0.06330350430297073,0.05974999269777788,0.32303716797708637,0.19222611804538717,0.10069171161644537,0.0648157550973326,0.03367467223537263,0.11141392650784503,0.025457906512606435,0.10525942498304738,0.06354245431834142,0.18308281243357885],\"xaxis\":\"x\",\"y\":[-0.13947638888243055,-0.21887384128155493,-0.11961728426717466,-0.219156767811572,-0.05361797559961646,-0.2223710073551616,-0.22274499509100873,-0.11665636060477357,-0.21888487814791294,-0.06269388399970034,-0.07118916952592193,-0.05504563989463259,-0.05839745846463632,-0.054557262728302615,-0.08821675776931392,-0.07549847766603024,-0.2217616253719602,-0.08367617396679276,-0.057622127164433906,-0.057292943577395485,-0.09336222692432776,-0.05455732368567151,-0.0578597885171081,-0.05464284959815597,-0.061501430098515934,-0.05423760595823487,-0.05661015527465157,-0.10939981680954845,-0.05216031131024714,-0.12823080781262486,-0.14770057236346978,-0.05679559117333902,-0.0849659075040845,-0.05696211154406202,-0.05395288496668125,-0.05842073929763716,-0.06391099797932585,-0.05397798307523909,-0.05247169341546551,-0.05346359382371877,-0.053624385374278695,-0.05381825957409256,-0.05325225902888838,-0.05413638886785201,-0.07597587909714178,-0.05550367097809794,-0.21510149145237342,-0.20619019483737744,-0.05965599468023255,-0.052575354607077913,-0.05284569701995332,-0.05293149884046949,-0.054716002369501804,-0.09140660436824499,-0.05199534420534335,-0.053819902694806986,-0.0617164744771189,-0.05318313403051824,-0.05645836153063966,-0.05556260389474111,-0.22378856108903414,-0.05350314542738672,-0.0527499476006044,-0.05163768632120625,-0.05248128558796475,-0.05284144414794739,-0.05129906546550029,-0.05228659057508873,-0.05688995133518632,-0.052400224884291545,-0.07904941521489124,-0.06607380976228742,-0.053235300463872905,-0.05185752281513851,-0.0522458227740589,-0.05796083024945423,-0.052599706794686805,-0.051308397856081885,-0.05154344008285803,-0.05136041821484236,-0.05132996409809671,-0.06890408489251312,-0.054868933411844074,-0.05119613453555263,-0.05486158063855084,-0.05138449302236011,-0.051203484706031734,-0.05107531443090187,-0.05123656199667359,-0.07285849438083646,-0.05694407687517591,-0.05330207258362662,-0.05134267930602599,-0.05285518397063649,-0.05452995614968831,-0.052478670744504775,-0.060511937975410414,-0.052520895163515637,-0.06225738985213979,-0.05334061529179348],\"yaxis\":\"y\"},{\"marker\":{\"color\":[0,1,2,3,4,5,6,7,8,9,10,11,12,13,14,15,16,17,18,19,20,21,22,23,24,25,26,27,28,29,30,31,32,33,34,35,36,37,38,39,40,41,42,43,44,45,46,47,48,49,50,51,52,53,54,55,56,57,58,59,60,61,62,63,64,65,66,67,68,69,70,71,72,73,74,75,76,77,78,79,80,81,82,83,84,85,86,87,88,89,90,91,92,93,94,95,96,97,98,99],\"colorbar\":{\"title\":{\"text\":\"#Trials\"},\"x\":1.0,\"xpad\":40},\"colorscale\":[[0.0,\"rgb(247,251,255)\"],[0.125,\"rgb(222,235,247)\"],[0.25,\"rgb(198,219,239)\"],[0.375,\"rgb(158,202,225)\"],[0.5,\"rgb(107,174,214)\"],[0.625,\"rgb(66,146,198)\"],[0.75,\"rgb(33,113,181)\"],[0.875,\"rgb(8,81,156)\"],[1.0,\"rgb(8,48,107)\"]],\"line\":{\"color\":\"Grey\",\"width\":0.5},\"showscale\":false},\"mode\":\"markers\",\"showlegend\":false,\"type\":\"scatter\",\"x\":[2.6358572330388035,2.4155965813474567,1.6303719801414625,1.970993980293779,5.965896920884274,5.820814449685189,1.3701131897094603,7.382235214566928,9.918656558710627,7.521522918554764,4.190320021856426,4.153809992507794,3.846214214930233,4.944267893666406,1.0186789481165366,5.395800870354057,5.666626004631373,3.205163470127129,8.616013512028143,4.893241194811407,6.4423138982632935,4.067784213355413,3.17544141356158,4.693369773552185,3.6044045920545433,6.748765682225758,6.939697681873742,9.046446951004157,8.09254749619306,7.915906856751203,6.11883730129971,6.777887742981676,2.5578661902894364,5.05768076465137,8.495153751500075,9.619408049262375,7.8013769991594755,8.476177359280157,8.517884016754465,9.873238431803749,9.729651231634536,9.479748235498626,9.882427870195842,7.57936206803068,8.288827297692773,9.918713885832258,1.8992341302412943,7.0821265752402836,6.265719320328941,8.864052381601157,8.74537637033004,8.518761573797649,8.841890594509223,7.766639095018165,7.247626859690884,5.859523667173857,7.4399236068300185,5.357133079629676,8.96335171348228,8.17152530311739,1.3703474925237795,5.335885133613306,6.562917484017387,7.265364011095706,6.95495367551777,6.6869645379724245,7.129754111218768,7.286535689143602,5.739561696069073,7.170606572863614,4.384291317915611,7.258975258335616,6.139330165290407,6.855689500947063,7.463507312887702,6.368451219522009,7.244493054306578,7.657803330755752,7.8464695567114395,7.924729434719671,7.897480740460265,2.8880868091016945,8.048076560441258,7.742003352230158,9.324120721315294,6.760908910627936,6.540215038200375,7.920281630913733,7.887391139237466,2.2108794522822732,6.565981420491316,7.84519194370893,7.91292160492773,9.228505604321875,6.106331186913661,8.200643351979796,5.592614394512464,8.418648870523993,3.6103148700543546,7.828226462852263],\"xaxis\":\"x2\",\"y\":[-0.13947638888243055,-0.21887384128155493,-0.11961728426717466,-0.219156767811572,-0.05361797559961646,-0.2223710073551616,-0.22274499509100873,-0.11665636060477357,-0.21888487814791294,-0.06269388399970034,-0.07118916952592193,-0.05504563989463259,-0.05839745846463632,-0.054557262728302615,-0.08821675776931392,-0.07549847766603024,-0.2217616253719602,-0.08367617396679276,-0.057622127164433906,-0.057292943577395485,-0.09336222692432776,-0.05455732368567151,-0.0578597885171081,-0.05464284959815597,-0.061501430098515934,-0.05423760595823487,-0.05661015527465157,-0.10939981680954845,-0.05216031131024714,-0.12823080781262486,-0.14770057236346978,-0.05679559117333902,-0.0849659075040845,-0.05696211154406202,-0.05395288496668125,-0.05842073929763716,-0.06391099797932585,-0.05397798307523909,-0.05247169341546551,-0.05346359382371877,-0.053624385374278695,-0.05381825957409256,-0.05325225902888838,-0.05413638886785201,-0.07597587909714178,-0.05550367097809794,-0.21510149145237342,-0.20619019483737744,-0.05965599468023255,-0.052575354607077913,-0.05284569701995332,-0.05293149884046949,-0.054716002369501804,-0.09140660436824499,-0.05199534420534335,-0.053819902694806986,-0.0617164744771189,-0.05318313403051824,-0.05645836153063966,-0.05556260389474111,-0.22378856108903414,-0.05350314542738672,-0.0527499476006044,-0.05163768632120625,-0.05248128558796475,-0.05284144414794739,-0.05129906546550029,-0.05228659057508873,-0.05688995133518632,-0.052400224884291545,-0.07904941521489124,-0.06607380976228742,-0.053235300463872905,-0.05185752281513851,-0.0522458227740589,-0.05796083024945423,-0.052599706794686805,-0.051308397856081885,-0.05154344008285803,-0.05136041821484236,-0.05132996409809671,-0.06890408489251312,-0.054868933411844074,-0.05119613453555263,-0.05486158063855084,-0.05138449302236011,-0.051203484706031734,-0.05107531443090187,-0.05123656199667359,-0.07285849438083646,-0.05694407687517591,-0.05330207258362662,-0.05134267930602599,-0.05285518397063649,-0.05452995614968831,-0.052478670744504775,-0.060511937975410414,-0.052520895163515637,-0.06225738985213979,-0.05334061529179348],\"yaxis\":\"y2\"},{\"marker\":{\"color\":[0,1,2,3,4,5,6,7,8,9,10,11,12,13,14,15,16,17,18,19,20,21,22,23,24,25,26,27,28,29,30,31,32,33,34,35,36,37,38,39,40,41,42,43,44,45,46,47,48,49,50,51,52,53,54,55,56,57,58,59,60,61,62,63,64,65,66,67,68,69,70,71,72,73,74,75,76,77,78,79,80,81,82,83,84,85,86,87,88,89,90,91,92,93,94,95,96,97,98,99],\"colorbar\":{\"title\":{\"text\":\"#Trials\"},\"x\":1.0,\"xpad\":40},\"colorscale\":[[0.0,\"rgb(247,251,255)\"],[0.125,\"rgb(222,235,247)\"],[0.25,\"rgb(198,219,239)\"],[0.375,\"rgb(158,202,225)\"],[0.5,\"rgb(107,174,214)\"],[0.625,\"rgb(66,146,198)\"],[0.75,\"rgb(33,113,181)\"],[0.875,\"rgb(8,81,156)\"],[1.0,\"rgb(8,48,107)\"]],\"line\":{\"color\":\"Grey\",\"width\":0.5},\"showscale\":false},\"mode\":\"markers\",\"showlegend\":false,\"type\":\"scatter\",\"x\":[71,84,168,74,114,27,110,94,8,118,192,137,136,153,161,200,160,51,133,171,114,140,147,182,129,149,153,104,121,49,124,94,83,175,150,121,67,97,101,78,76,71,84,108,85,59,35,87,101,111,113,112,114,126,109,107,93,118,139,131,101,117,113,113,122,123,141,142,165,136,144,156,142,134,136,134,130,138,147,156,156,157,177,165,166,188,192,187,192,192,191,199,186,185,171,182,186,197,177,163],\"xaxis\":\"x3\",\"y\":[-0.13947638888243055,-0.21887384128155493,-0.11961728426717466,-0.219156767811572,-0.05361797559961646,-0.2223710073551616,-0.22274499509100873,-0.11665636060477357,-0.21888487814791294,-0.06269388399970034,-0.07118916952592193,-0.05504563989463259,-0.05839745846463632,-0.054557262728302615,-0.08821675776931392,-0.07549847766603024,-0.2217616253719602,-0.08367617396679276,-0.057622127164433906,-0.057292943577395485,-0.09336222692432776,-0.05455732368567151,-0.0578597885171081,-0.05464284959815597,-0.061501430098515934,-0.05423760595823487,-0.05661015527465157,-0.10939981680954845,-0.05216031131024714,-0.12823080781262486,-0.14770057236346978,-0.05679559117333902,-0.0849659075040845,-0.05696211154406202,-0.05395288496668125,-0.05842073929763716,-0.06391099797932585,-0.05397798307523909,-0.05247169341546551,-0.05346359382371877,-0.053624385374278695,-0.05381825957409256,-0.05325225902888838,-0.05413638886785201,-0.07597587909714178,-0.05550367097809794,-0.21510149145237342,-0.20619019483737744,-0.05965599468023255,-0.052575354607077913,-0.05284569701995332,-0.05293149884046949,-0.054716002369501804,-0.09140660436824499,-0.05199534420534335,-0.053819902694806986,-0.0617164744771189,-0.05318313403051824,-0.05645836153063966,-0.05556260389474111,-0.22378856108903414,-0.05350314542738672,-0.0527499476006044,-0.05163768632120625,-0.05248128558796475,-0.05284144414794739,-0.05129906546550029,-0.05228659057508873,-0.05688995133518632,-0.052400224884291545,-0.07904941521489124,-0.06607380976228742,-0.053235300463872905,-0.05185752281513851,-0.0522458227740589,-0.05796083024945423,-0.052599706794686805,-0.051308397856081885,-0.05154344008285803,-0.05136041821484236,-0.05132996409809671,-0.06890408489251312,-0.054868933411844074,-0.05119613453555263,-0.05486158063855084,-0.05138449302236011,-0.051203484706031734,-0.05107531443090187,-0.05123656199667359,-0.07285849438083646,-0.05694407687517591,-0.05330207258362662,-0.05134267930602599,-0.05285518397063649,-0.05452995614968831,-0.052478670744504775,-0.060511937975410414,-0.052520895163515637,-0.06225738985213979,-0.05334061529179348],\"yaxis\":\"y3\"}],                        {\"template\":{\"data\":{\"bar\":[{\"error_x\":{\"color\":\"#2a3f5f\"},\"error_y\":{\"color\":\"#2a3f5f\"},\"marker\":{\"line\":{\"color\":\"#E5ECF6\",\"width\":0.5},\"pattern\":{\"fillmode\":\"overlay\",\"size\":10,\"solidity\":0.2}},\"type\":\"bar\"}],\"barpolar\":[{\"marker\":{\"line\":{\"color\":\"#E5ECF6\",\"width\":0.5},\"pattern\":{\"fillmode\":\"overlay\",\"size\":10,\"solidity\":0.2}},\"type\":\"barpolar\"}],\"carpet\":[{\"aaxis\":{\"endlinecolor\":\"#2a3f5f\",\"gridcolor\":\"white\",\"linecolor\":\"white\",\"minorgridcolor\":\"white\",\"startlinecolor\":\"#2a3f5f\"},\"baxis\":{\"endlinecolor\":\"#2a3f5f\",\"gridcolor\":\"white\",\"linecolor\":\"white\",\"minorgridcolor\":\"white\",\"startlinecolor\":\"#2a3f5f\"},\"type\":\"carpet\"}],\"choropleth\":[{\"colorbar\":{\"outlinewidth\":0,\"ticks\":\"\"},\"type\":\"choropleth\"}],\"contour\":[{\"colorbar\":{\"outlinewidth\":0,\"ticks\":\"\"},\"colorscale\":[[0.0,\"#0d0887\"],[0.1111111111111111,\"#46039f\"],[0.2222222222222222,\"#7201a8\"],[0.3333333333333333,\"#9c179e\"],[0.4444444444444444,\"#bd3786\"],[0.5555555555555556,\"#d8576b\"],[0.6666666666666666,\"#ed7953\"],[0.7777777777777778,\"#fb9f3a\"],[0.8888888888888888,\"#fdca26\"],[1.0,\"#f0f921\"]],\"type\":\"contour\"}],\"contourcarpet\":[{\"colorbar\":{\"outlinewidth\":0,\"ticks\":\"\"},\"type\":\"contourcarpet\"}],\"heatmap\":[{\"colorbar\":{\"outlinewidth\":0,\"ticks\":\"\"},\"colorscale\":[[0.0,\"#0d0887\"],[0.1111111111111111,\"#46039f\"],[0.2222222222222222,\"#7201a8\"],[0.3333333333333333,\"#9c179e\"],[0.4444444444444444,\"#bd3786\"],[0.5555555555555556,\"#d8576b\"],[0.6666666666666666,\"#ed7953\"],[0.7777777777777778,\"#fb9f3a\"],[0.8888888888888888,\"#fdca26\"],[1.0,\"#f0f921\"]],\"type\":\"heatmap\"}],\"heatmapgl\":[{\"colorbar\":{\"outlinewidth\":0,\"ticks\":\"\"},\"colorscale\":[[0.0,\"#0d0887\"],[0.1111111111111111,\"#46039f\"],[0.2222222222222222,\"#7201a8\"],[0.3333333333333333,\"#9c179e\"],[0.4444444444444444,\"#bd3786\"],[0.5555555555555556,\"#d8576b\"],[0.6666666666666666,\"#ed7953\"],[0.7777777777777778,\"#fb9f3a\"],[0.8888888888888888,\"#fdca26\"],[1.0,\"#f0f921\"]],\"type\":\"heatmapgl\"}],\"histogram\":[{\"marker\":{\"pattern\":{\"fillmode\":\"overlay\",\"size\":10,\"solidity\":0.2}},\"type\":\"histogram\"}],\"histogram2d\":[{\"colorbar\":{\"outlinewidth\":0,\"ticks\":\"\"},\"colorscale\":[[0.0,\"#0d0887\"],[0.1111111111111111,\"#46039f\"],[0.2222222222222222,\"#7201a8\"],[0.3333333333333333,\"#9c179e\"],[0.4444444444444444,\"#bd3786\"],[0.5555555555555556,\"#d8576b\"],[0.6666666666666666,\"#ed7953\"],[0.7777777777777778,\"#fb9f3a\"],[0.8888888888888888,\"#fdca26\"],[1.0,\"#f0f921\"]],\"type\":\"histogram2d\"}],\"histogram2dcontour\":[{\"colorbar\":{\"outlinewidth\":0,\"ticks\":\"\"},\"colorscale\":[[0.0,\"#0d0887\"],[0.1111111111111111,\"#46039f\"],[0.2222222222222222,\"#7201a8\"],[0.3333333333333333,\"#9c179e\"],[0.4444444444444444,\"#bd3786\"],[0.5555555555555556,\"#d8576b\"],[0.6666666666666666,\"#ed7953\"],[0.7777777777777778,\"#fb9f3a\"],[0.8888888888888888,\"#fdca26\"],[1.0,\"#f0f921\"]],\"type\":\"histogram2dcontour\"}],\"mesh3d\":[{\"colorbar\":{\"outlinewidth\":0,\"ticks\":\"\"},\"type\":\"mesh3d\"}],\"parcoords\":[{\"line\":{\"colorbar\":{\"outlinewidth\":0,\"ticks\":\"\"}},\"type\":\"parcoords\"}],\"pie\":[{\"automargin\":true,\"type\":\"pie\"}],\"scatter\":[{\"marker\":{\"colorbar\":{\"outlinewidth\":0,\"ticks\":\"\"}},\"type\":\"scatter\"}],\"scatter3d\":[{\"line\":{\"colorbar\":{\"outlinewidth\":0,\"ticks\":\"\"}},\"marker\":{\"colorbar\":{\"outlinewidth\":0,\"ticks\":\"\"}},\"type\":\"scatter3d\"}],\"scattercarpet\":[{\"marker\":{\"colorbar\":{\"outlinewidth\":0,\"ticks\":\"\"}},\"type\":\"scattercarpet\"}],\"scattergeo\":[{\"marker\":{\"colorbar\":{\"outlinewidth\":0,\"ticks\":\"\"}},\"type\":\"scattergeo\"}],\"scattergl\":[{\"marker\":{\"colorbar\":{\"outlinewidth\":0,\"ticks\":\"\"}},\"type\":\"scattergl\"}],\"scattermapbox\":[{\"marker\":{\"colorbar\":{\"outlinewidth\":0,\"ticks\":\"\"}},\"type\":\"scattermapbox\"}],\"scatterpolar\":[{\"marker\":{\"colorbar\":{\"outlinewidth\":0,\"ticks\":\"\"}},\"type\":\"scatterpolar\"}],\"scatterpolargl\":[{\"marker\":{\"colorbar\":{\"outlinewidth\":0,\"ticks\":\"\"}},\"type\":\"scatterpolargl\"}],\"scatterternary\":[{\"marker\":{\"colorbar\":{\"outlinewidth\":0,\"ticks\":\"\"}},\"type\":\"scatterternary\"}],\"surface\":[{\"colorbar\":{\"outlinewidth\":0,\"ticks\":\"\"},\"colorscale\":[[0.0,\"#0d0887\"],[0.1111111111111111,\"#46039f\"],[0.2222222222222222,\"#7201a8\"],[0.3333333333333333,\"#9c179e\"],[0.4444444444444444,\"#bd3786\"],[0.5555555555555556,\"#d8576b\"],[0.6666666666666666,\"#ed7953\"],[0.7777777777777778,\"#fb9f3a\"],[0.8888888888888888,\"#fdca26\"],[1.0,\"#f0f921\"]],\"type\":\"surface\"}],\"table\":[{\"cells\":{\"fill\":{\"color\":\"#EBF0F8\"},\"line\":{\"color\":\"white\"}},\"header\":{\"fill\":{\"color\":\"#C8D4E3\"},\"line\":{\"color\":\"white\"}},\"type\":\"table\"}]},\"layout\":{\"annotationdefaults\":{\"arrowcolor\":\"#2a3f5f\",\"arrowhead\":0,\"arrowwidth\":1},\"autotypenumbers\":\"strict\",\"coloraxis\":{\"colorbar\":{\"outlinewidth\":0,\"ticks\":\"\"}},\"colorscale\":{\"diverging\":[[0,\"#8e0152\"],[0.1,\"#c51b7d\"],[0.2,\"#de77ae\"],[0.3,\"#f1b6da\"],[0.4,\"#fde0ef\"],[0.5,\"#f7f7f7\"],[0.6,\"#e6f5d0\"],[0.7,\"#b8e186\"],[0.8,\"#7fbc41\"],[0.9,\"#4d9221\"],[1,\"#276419\"]],\"sequential\":[[0.0,\"#0d0887\"],[0.1111111111111111,\"#46039f\"],[0.2222222222222222,\"#7201a8\"],[0.3333333333333333,\"#9c179e\"],[0.4444444444444444,\"#bd3786\"],[0.5555555555555556,\"#d8576b\"],[0.6666666666666666,\"#ed7953\"],[0.7777777777777778,\"#fb9f3a\"],[0.8888888888888888,\"#fdca26\"],[1.0,\"#f0f921\"]],\"sequentialminus\":[[0.0,\"#0d0887\"],[0.1111111111111111,\"#46039f\"],[0.2222222222222222,\"#7201a8\"],[0.3333333333333333,\"#9c179e\"],[0.4444444444444444,\"#bd3786\"],[0.5555555555555556,\"#d8576b\"],[0.6666666666666666,\"#ed7953\"],[0.7777777777777778,\"#fb9f3a\"],[0.8888888888888888,\"#fdca26\"],[1.0,\"#f0f921\"]]},\"colorway\":[\"#636efa\",\"#EF553B\",\"#00cc96\",\"#ab63fa\",\"#FFA15A\",\"#19d3f3\",\"#FF6692\",\"#B6E880\",\"#FF97FF\",\"#FECB52\"],\"font\":{\"color\":\"#2a3f5f\"},\"geo\":{\"bgcolor\":\"white\",\"lakecolor\":\"white\",\"landcolor\":\"#E5ECF6\",\"showlakes\":true,\"showland\":true,\"subunitcolor\":\"white\"},\"hoverlabel\":{\"align\":\"left\"},\"hovermode\":\"closest\",\"mapbox\":{\"style\":\"light\"},\"paper_bgcolor\":\"white\",\"plot_bgcolor\":\"#E5ECF6\",\"polar\":{\"angularaxis\":{\"gridcolor\":\"white\",\"linecolor\":\"white\",\"ticks\":\"\"},\"bgcolor\":\"#E5ECF6\",\"radialaxis\":{\"gridcolor\":\"white\",\"linecolor\":\"white\",\"ticks\":\"\"}},\"scene\":{\"xaxis\":{\"backgroundcolor\":\"#E5ECF6\",\"gridcolor\":\"white\",\"gridwidth\":2,\"linecolor\":\"white\",\"showbackground\":true,\"ticks\":\"\",\"zerolinecolor\":\"white\"},\"yaxis\":{\"backgroundcolor\":\"#E5ECF6\",\"gridcolor\":\"white\",\"gridwidth\":2,\"linecolor\":\"white\",\"showbackground\":true,\"ticks\":\"\",\"zerolinecolor\":\"white\"},\"zaxis\":{\"backgroundcolor\":\"#E5ECF6\",\"gridcolor\":\"white\",\"gridwidth\":2,\"linecolor\":\"white\",\"showbackground\":true,\"ticks\":\"\",\"zerolinecolor\":\"white\"}},\"shapedefaults\":{\"line\":{\"color\":\"#2a3f5f\"}},\"ternary\":{\"aaxis\":{\"gridcolor\":\"white\",\"linecolor\":\"white\",\"ticks\":\"\"},\"baxis\":{\"gridcolor\":\"white\",\"linecolor\":\"white\",\"ticks\":\"\"},\"bgcolor\":\"#E5ECF6\",\"caxis\":{\"gridcolor\":\"white\",\"linecolor\":\"white\",\"ticks\":\"\"}},\"title\":{\"x\":0.05},\"xaxis\":{\"automargin\":true,\"gridcolor\":\"white\",\"linecolor\":\"white\",\"ticks\":\"\",\"title\":{\"standoff\":15},\"zerolinecolor\":\"white\",\"zerolinewidth\":2},\"yaxis\":{\"automargin\":true,\"gridcolor\":\"white\",\"linecolor\":\"white\",\"ticks\":\"\",\"title\":{\"standoff\":15},\"zerolinecolor\":\"white\",\"zerolinewidth\":2}}},\"title\":{\"text\":\"Slice Plot\"},\"xaxis\":{\"anchor\":\"y\",\"domain\":[0.0,0.2888888888888889],\"title\":{\"text\":\"learning_rate\"},\"type\":\"log\"},\"xaxis2\":{\"anchor\":\"y2\",\"domain\":[0.35555555555555557,0.6444444444444445],\"title\":{\"text\":\"max_depth\"},\"type\":\"log\"},\"xaxis3\":{\"anchor\":\"y3\",\"domain\":[0.7111111111111111,1.0],\"title\":{\"text\":\"n_estimators\"}},\"yaxis\":{\"anchor\":\"x\",\"domain\":[0.0,1.0],\"title\":{\"text\":\"Objective Value\"}},\"yaxis2\":{\"anchor\":\"x2\",\"domain\":[0.0,1.0],\"matches\":\"y\",\"showticklabels\":false},\"yaxis3\":{\"anchor\":\"x3\",\"domain\":[0.0,1.0],\"matches\":\"y\",\"showticklabels\":false}},                        {\"responsive\": true}                    ).then(function(){\n",
       "                            \n",
       "var gd = document.getElementById('13af4561-eafe-4536-9c79-4d1cbde14773');\n",
       "var x = new MutationObserver(function (mutations, observer) {{\n",
       "        var display = window.getComputedStyle(gd).display;\n",
       "        if (!display || display === 'none') {{\n",
       "            console.log([gd, 'removed!']);\n",
       "            Plotly.purge(gd);\n",
       "            observer.disconnect();\n",
       "        }}\n",
       "}});\n",
       "\n",
       "// Listen for the removal of the full notebook cells\n",
       "var notebookContainer = gd.closest('#notebook-container');\n",
       "if (notebookContainer) {{\n",
       "    x.observe(notebookContainer, {childList: true});\n",
       "}}\n",
       "\n",
       "// Listen for the clearing of the current output cell\n",
       "var outputEl = gd.closest('.output');\n",
       "if (outputEl) {{\n",
       "    x.observe(outputEl, {childList: true});\n",
       "}}\n",
       "\n",
       "                        })                };                });            </script>        </div>"
      ]
     },
     "metadata": {},
     "output_type": "display_data"
    }
   ],
   "source": [
    "optuna.visualization.plot_slice(study)\n",
    "\n",
    "# Uncomment to write figure\n",
    "# fig2 = optuna.visualization.plot_slice(study)\n",
    "# fig2.write_image('optuna_slice_plot_GB_PCA.png')"
   ]
  },
  {
   "cell_type": "markdown",
   "id": "broadband-ontario",
   "metadata": {},
   "source": [
    "Information about the trails can be extracted from the study:"
   ]
  },
  {
   "cell_type": "code",
   "execution_count": 33,
   "id": "better-prince",
   "metadata": {},
   "outputs": [
    {
     "data": {
      "text/plain": [
       "FrozenTrial(number=87, values=[-0.05107531443090187], datetime_start=datetime.datetime(2021, 8, 15, 22, 55, 45, 230322), datetime_complete=datetime.datetime(2021, 8, 15, 22, 57, 35, 173089), params={'n_estimators': 187, 'max_depth': 7.920281630913733, 'learning_rate': 0.06374800807435875}, distributions={'n_estimators': IntUniformDistribution(high=200, low=2, step=1), 'max_depth': LogUniformDistribution(high=10.0, low=1.0), 'learning_rate': LogUniformDistribution(high=1.0, low=0.0001)}, user_attrs={}, system_attrs={}, intermediate_values={}, trial_id=87, state=TrialState.COMPLETE, value=None)"
      ]
     },
     "execution_count": 33,
     "metadata": {},
     "output_type": "execute_result"
    }
   ],
   "source": [
    "trial = study.best_trial\n",
    "trial"
   ]
  },
  {
   "cell_type": "markdown",
   "id": "solar-bangkok",
   "metadata": {},
   "source": [
    "#### Submission\n",
    "\n",
    "Try creating a csv file for submission using the optimized hyperparameters\n"
   ]
  },
  {
   "cell_type": "code",
   "execution_count": 40,
   "id": "bibliographic-cycle",
   "metadata": {
    "tags": []
   },
   "outputs": [],
   "source": [
    "# Get hyperparams from best trial\n",
    "trial = study.best_trial\n",
    "\n",
    "# Set up model\n",
    "model = ensemble.GradientBoostingRegressor(n_estimators=trial.params['n_estimators'], max_depth=trial.params['max_depth'], learning_rate=trial.params['learning_rate'])\n",
    "\n",
    "model.fit(X_train, y_train)\n",
    "\n",
    "preds = model.predict(test_descriptors_PCA)"
   ]
  },
  {
   "cell_type": "code",
   "execution_count": 41,
   "id": "derived-universe",
   "metadata": {},
   "outputs": [
    {
     "data": {
      "text/plain": [
       "(3363,)"
      ]
     },
     "execution_count": 41,
     "metadata": {},
     "output_type": "execute_result"
    }
   ],
   "source": [
    "preds.shape"
   ]
  },
  {
   "cell_type": "code",
   "execution_count": 42,
   "id": "solar-wisdom",
   "metadata": {},
   "outputs": [],
   "source": [
    "np.savetxt(\"task_1_predictions_GB_PCA.csv\", preds)"
   ]
  },
  {
   "cell_type": "code",
   "execution_count": null,
   "id": "vocal-canvas",
   "metadata": {},
   "outputs": [],
   "source": []
  }
 ],
 "metadata": {
  "kernelspec": {
   "display_name": "Python 3",
   "language": "python",
   "name": "python3"
  },
  "language_info": {
   "codemirror_mode": {
    "name": "ipython",
    "version": 3
   },
   "file_extension": ".py",
   "mimetype": "text/x-python",
   "name": "python",
   "nbconvert_exporter": "python",
   "pygments_lexer": "ipython3",
   "version": "3.7.9"
  }
 },
 "nbformat": 4,
 "nbformat_minor": 5
}
